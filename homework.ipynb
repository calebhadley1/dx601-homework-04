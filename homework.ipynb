{
  "cells": [
    {
      "cell_type": "markdown",
      "source": [
        "# DX 601 Week 4 Homework"
      ],
      "metadata": {
        "id": "QOUYaLGHhOgH"
      }
    },
    {
      "cell_type": "markdown",
      "source": [
        "## Introduction\n",
        "\n",
        "In this homework, you will practice linear regression and working with random variables.\n",
        "The data sets of this homework are small, so your code should run in an instant, but you will be able to apply the same techniques to larger data sets.\n",
        "\n",
        "You may find it helpful to refer to these GitHub repositories of Jupyter notebooks for sample code.\n",
        "\n",
        "* https://github.com/bu-cds-omds/dx500-examples\n",
        "* https://github.com/bu-cds-omds/dx601-examples\n",
        "* https://github.com/bu-cds-omds/dx602-examples\n",
        "\n",
        "Any calculations demonstrated in code examples or videos may be found in these notebooks, and you are allowed to copy this example code in your homework answers."
      ],
      "metadata": {
        "id": "_NYSQfpU6p9u"
      }
    },
    {
      "cell_type": "markdown",
      "source": [
        "## Instructions\n",
        "\n",
        "You should replace every instance of \"...\" below.\n",
        "These are where you are expected to write code to answer each problem.\n",
        "\n",
        "After some of the problems, there are extra code cells that will test functions that you wrote so you can quickly see how they run on an example.\n",
        "If your code works on these examples, it is more likely to be correct.\n",
        "However, the autograder will test different examples, so working correctly on these examples does not guarantee full credit for the problem.\n",
        "You may change the example inputs to further test your functions on your own.\n",
        "You may also add your own example inputs for problems where we did not provide any.\n",
        "\n",
        "Be sure to run each code block after you edit it to make sure it runs as expected.\n",
        "When you are done, we strongly recommend you run all the code from scratch (Runtime menu -> Restart and Run all) to make sure your current code works for all problems.\n",
        "\n",
        "If your code raises an exception when run from scratch, it will  interfere with the auto-grader process causing you to lose some or all points for this homework.\n",
        "Please ask for help in YellowDig or schedule an appointment with a learning facilitator if you get stuck.\n"
      ],
      "metadata": {
        "id": "GH7dFzB97Wlh"
      }
    },
    {
      "cell_type": "markdown",
      "source": [
        "## Problems"
      ],
      "metadata": {
        "id": "Ze7ev3s6Bu44"
      }
    },
    {
      "cell_type": "markdown",
      "source": [
        "## Shared Imports\n",
        "\n",
        "Do not install or use any additional modules.\n",
        "Installing additional modules may result in an autograder failure resulting in zero points for some or all problems."
      ],
      "metadata": {
        "id": "vf-VY5qsmS7n"
      }
    },
    {
      "cell_type": "code",
      "execution_count": 8,
      "source": [
        "import math\n",
        "import random"
      ],
      "outputs": [],
      "metadata": {
        "id": "RWYk7xICmOGe"
      }
    },
    {
      "cell_type": "code",
      "execution_count": 9,
      "source": [
        "import matplotlib.pyplot as plt\n",
        "import numpy as np\n",
        "import pandas as pd\n",
        "import sklearn.linear_model"
      ],
      "outputs": [],
      "metadata": {
        "id": "RJSJeBTwCIUS"
      }
    },
    {
      "cell_type": "markdown",
      "source": [
        "### Shared Data\n",
        "\n",
        "Many of the problems will use this mango data set.\n",
        "This data set is small and your code should run instantly with it, but you will be able to use the same code and techniques with larger data sets."
      ],
      "metadata": {
        "id": "UIRa5mxfB3FG"
      }
    },
    {
      "cell_type": "code",
      "execution_count": 19,
      "source": [
        "mango_data = pd.read_csv(\"mango-tiny.tsv\", sep=\"\\t\")"
      ],
      "outputs": [],
      "metadata": {
        "id": "PiW8n851CKo8"
      }
    },
    {
      "cell_type": "code",
      "execution_count": 20,
      "source": [
        "mango_data"
      ],
      "outputs": [
        {
          "output_type": "execute_result",
          "data": {
            "text/plain": [
              "   green_rating  yellow_rating  softness  wrinkles  estimated_flavor  \\\n",
              "0             1              5         4         0                 4   \n",
              "1             1              5         5         1                 5   \n",
              "2             2              4         3         1                 3   \n",
              "3             3              3         2         0                 2   \n",
              "4             5              1         1         1                 1   \n",
              "5             4              2         1         1                 1   \n",
              "6             5              1         1         1                 2   \n",
              "7             3              3         2         1                 2   \n",
              "\n",
              "   estimated_sweetness  rated_flavor  \n",
              "0                    4             5  \n",
              "1                    5             1  \n",
              "2                    3             3  \n",
              "3                    1             2  \n",
              "4                    1             1  \n",
              "5                    1             1  \n",
              "6                    1             1  \n",
              "7                    2             2  "
            ],
            "text/html": [
              "<div>\n",
              "<style scoped>\n",
              "    .dataframe tbody tr th:only-of-type {\n",
              "        vertical-align: middle;\n",
              "    }\n",
              "\n",
              "    .dataframe tbody tr th {\n",
              "        vertical-align: top;\n",
              "    }\n",
              "\n",
              "    .dataframe thead th {\n",
              "        text-align: right;\n",
              "    }\n",
              "</style>\n",
              "<table border=\"1\" class=\"dataframe\">\n",
              "  <thead>\n",
              "    <tr style=\"text-align: right;\">\n",
              "      <th></th>\n",
              "      <th>green_rating</th>\n",
              "      <th>yellow_rating</th>\n",
              "      <th>softness</th>\n",
              "      <th>wrinkles</th>\n",
              "      <th>estimated_flavor</th>\n",
              "      <th>estimated_sweetness</th>\n",
              "      <th>rated_flavor</th>\n",
              "    </tr>\n",
              "  </thead>\n",
              "  <tbody>\n",
              "    <tr>\n",
              "      <th>0</th>\n",
              "      <td>1</td>\n",
              "      <td>5</td>\n",
              "      <td>4</td>\n",
              "      <td>0</td>\n",
              "      <td>4</td>\n",
              "      <td>4</td>\n",
              "      <td>5</td>\n",
              "    </tr>\n",
              "    <tr>\n",
              "      <th>1</th>\n",
              "      <td>1</td>\n",
              "      <td>5</td>\n",
              "      <td>5</td>\n",
              "      <td>1</td>\n",
              "      <td>5</td>\n",
              "      <td>5</td>\n",
              "      <td>1</td>\n",
              "    </tr>\n",
              "    <tr>\n",
              "      <th>2</th>\n",
              "      <td>2</td>\n",
              "      <td>4</td>\n",
              "      <td>3</td>\n",
              "      <td>1</td>\n",
              "      <td>3</td>\n",
              "      <td>3</td>\n",
              "      <td>3</td>\n",
              "    </tr>\n",
              "    <tr>\n",
              "      <th>3</th>\n",
              "      <td>3</td>\n",
              "      <td>3</td>\n",
              "      <td>2</td>\n",
              "      <td>0</td>\n",
              "      <td>2</td>\n",
              "      <td>1</td>\n",
              "      <td>2</td>\n",
              "    </tr>\n",
              "    <tr>\n",
              "      <th>4</th>\n",
              "      <td>5</td>\n",
              "      <td>1</td>\n",
              "      <td>1</td>\n",
              "      <td>1</td>\n",
              "      <td>1</td>\n",
              "      <td>1</td>\n",
              "      <td>1</td>\n",
              "    </tr>\n",
              "    <tr>\n",
              "      <th>5</th>\n",
              "      <td>4</td>\n",
              "      <td>2</td>\n",
              "      <td>1</td>\n",
              "      <td>1</td>\n",
              "      <td>1</td>\n",
              "      <td>1</td>\n",
              "      <td>1</td>\n",
              "    </tr>\n",
              "    <tr>\n",
              "      <th>6</th>\n",
              "      <td>5</td>\n",
              "      <td>1</td>\n",
              "      <td>1</td>\n",
              "      <td>1</td>\n",
              "      <td>2</td>\n",
              "      <td>1</td>\n",
              "      <td>1</td>\n",
              "    </tr>\n",
              "    <tr>\n",
              "      <th>7</th>\n",
              "      <td>3</td>\n",
              "      <td>3</td>\n",
              "      <td>2</td>\n",
              "      <td>1</td>\n",
              "      <td>2</td>\n",
              "      <td>2</td>\n",
              "      <td>2</td>\n",
              "    </tr>\n",
              "  </tbody>\n",
              "</table>\n",
              "</div>"
            ]
          },
          "metadata": {},
          "execution_count": 20
        }
      ],
      "metadata": {
        "colab": {
          "base_uri": "https://localhost:8080/",
          "height": 317
        },
        "id": "MrVaT2kv41QQ",
        "outputId": "828770a9-6f46-422e-b9ac-d01f1dbd5fb0"
      }
    },
    {
      "cell_type": "markdown",
      "source": [
        "### Problem 1\n",
        "\n",
        "Set `p1` to the number of parameters in a linear model trained on the mango data set that predicts rated flavor from the other columns."
      ],
      "metadata": {
        "id": "Poy2o9ST1EvL"
      }
    },
    {
      "cell_type": "code",
      "execution_count": 26,
      "source": [
        "# YOUR CHANGES HERE\n",
        "X = mango_data.drop(columns=['rated_flavor'])\n",
        "y = mango_data['rated_flavor']\n",
        "model = sklearn.linear_model.LinearRegression()\n",
        "model.fit(X,y)\n",
        "p1 = len(model.coef_) + 1 # +1 for intercept"
      ],
      "outputs": [],
      "metadata": {
        "id": "nhdirreg1pyy"
      }
    },
    {
      "cell_type": "code",
      "execution_count": 27,
      "source": [
        "p1"
      ],
      "outputs": [
        {
          "output_type": "execute_result",
          "data": {
            "text/plain": [
              "7"
            ]
          },
          "metadata": {},
          "execution_count": 27
        }
      ],
      "metadata": {}
    },
    {
      "cell_type": "markdown",
      "source": [
        "### Problem 2\n",
        "\n",
        "Set `p2` to $\\lim_{x \\rightarrow 2} \\frac{(x^2-4)}{x+2}$."
      ],
      "metadata": {
        "id": "g06sNjVm2R_J"
      }
    },
    {
      "cell_type": "markdown",
      "source": [
        "Hint: Try to simplify that fraction assuming $x \\neq 2$."
      ],
      "metadata": {}
    },
    {
      "cell_type": "code",
      "execution_count": 12,
      "source": [
        "# YOUR CHANGES HERE\n",
        "\"\"\"\n",
        "x^2 - 4 = (x-2)(x+2). therefore we simplify the fraction to (x-2)/1 = x-2\n",
        "\n",
        "now we can plug in 2, giving us 0\n",
        "\n",
        "\"\"\"\n",
        "p2 = 0"
      ],
      "outputs": [],
      "metadata": {
        "id": "OpJpSZXW2RDO"
      }
    },
    {
      "cell_type": "markdown",
      "source": [
        "Check the value of `p2`."
      ],
      "metadata": {}
    },
    {
      "cell_type": "code",
      "execution_count": 13,
      "source": [
        "p2"
      ],
      "outputs": [
        {
          "output_type": "execute_result",
          "data": {
            "text/plain": [
              "0"
            ]
          },
          "metadata": {},
          "execution_count": 13
        }
      ],
      "metadata": {}
    },
    {
      "cell_type": "markdown",
      "source": [
        "### Problem 3\n",
        "\n",
        "What is the derivative of $x^2 - 3x + 9$ at $x=2$?"
      ],
      "metadata": {
        "id": "zb6e3gQs4cgL"
      }
    },
    {
      "cell_type": "code",
      "execution_count": 14,
      "source": [
        "# DO NOT CHANGE\n",
        "\n",
        "xs = np.linspace(-5, 5)\n",
        "plt.plot(xs, xs * xs - 3 * xs + 9)\n",
        "plt.ylim(0);"
      ],
      "outputs": [
        {
          "output_type": "display_data",
          "data": {
            "text/plain": [
              "<Figure size 640x480 with 1 Axes>"
            ],
            "image/svg+xml": "<?xml version=\"1.0\" encoding=\"utf-8\" standalone=\"no\"?>\n<!DOCTYPE svg PUBLIC \"-//W3C//DTD SVG 1.1//EN\"\n  \"http://www.w3.org/Graphics/SVG/1.1/DTD/svg11.dtd\">\n<svg xmlns:xlink=\"http://www.w3.org/1999/xlink\" width=\"391.245pt\" height=\"297.190125pt\" viewBox=\"0 0 391.245 297.190125\" xmlns=\"http://www.w3.org/2000/svg\" version=\"1.1\">\n <metadata>\n  <rdf:RDF xmlns:dc=\"http://purl.org/dc/elements/1.1/\" xmlns:cc=\"http://creativecommons.org/ns#\" xmlns:rdf=\"http://www.w3.org/1999/02/22-rdf-syntax-ns#\">\n   <cc:Work>\n    <dc:type rdf:resource=\"http://purl.org/dc/dcmitype/StillImage\"/>\n    <dc:date>2025-09-23T20:31:53.953235</dc:date>\n    <dc:format>image/svg+xml</dc:format>\n    <dc:creator>\n     <cc:Agent>\n      <dc:title>Matplotlib v3.10.0, https://matplotlib.org/</dc:title>\n     </cc:Agent>\n    </dc:creator>\n   </cc:Work>\n  </rdf:RDF>\n </metadata>\n <defs>\n  <style type=\"text/css\">*{stroke-linejoin: round; stroke-linecap: butt}</style>\n </defs>\n <g id=\"figure_1\">\n  <g id=\"patch_1\">\n   <path d=\"M 0 297.190125 \nL 391.245 297.190125 \nL 391.245 0 \nL 0 0 \nz\n\" style=\"fill: #ffffff\"/>\n  </g>\n  <g id=\"axes_1\">\n   <g id=\"patch_2\">\n    <path d=\"M 26.925 273.312 \nL 384.045 273.312 \nL 384.045 7.2 \nL 26.925 7.2 \nz\n\" style=\"fill: #ffffff\"/>\n   </g>\n   <g id=\"matplotlib.axis_1\">\n    <g id=\"xtick_1\">\n     <g id=\"line2d_1\">\n      <defs>\n       <path id=\"m6a5da67c86\" d=\"M 0 0 \nL 0 3.5 \n\" style=\"stroke: #000000; stroke-width: 0.8\"/>\n      </defs>\n      <g>\n       <use xlink:href=\"#m6a5da67c86\" x=\"75.623182\" y=\"273.312\" style=\"stroke: #000000; stroke-width: 0.8\"/>\n      </g>\n     </g>\n     <g id=\"text_1\">\n      <!-- −4 -->\n      <g transform=\"translate(68.252088 287.910437) scale(0.1 -0.1)\">\n       <defs>\n        <path id=\"DejaVuSans-2212\" d=\"M 678 2272 \nL 4684 2272 \nL 4684 1741 \nL 678 1741 \nL 678 2272 \nz\n\" transform=\"scale(0.015625)\"/>\n        <path id=\"DejaVuSans-34\" d=\"M 2419 4116 \nL 825 1625 \nL 2419 1625 \nL 2419 4116 \nz\nM 2253 4666 \nL 3047 4666 \nL 3047 1625 \nL 3713 1625 \nL 3713 1100 \nL 3047 1100 \nL 3047 0 \nL 2419 0 \nL 2419 1100 \nL 313 1100 \nL 313 1709 \nL 2253 4666 \nz\n\" transform=\"scale(0.015625)\"/>\n       </defs>\n       <use xlink:href=\"#DejaVuSans-2212\"/>\n       <use xlink:href=\"#DejaVuSans-34\" transform=\"translate(83.789062 0)\"/>\n      </g>\n     </g>\n    </g>\n    <g id=\"xtick_2\">\n     <g id=\"line2d_2\">\n      <g>\n       <use xlink:href=\"#m6a5da67c86\" x=\"140.554091\" y=\"273.312\" style=\"stroke: #000000; stroke-width: 0.8\"/>\n      </g>\n     </g>\n     <g id=\"text_2\">\n      <!-- −2 -->\n      <g transform=\"translate(133.182997 287.910437) scale(0.1 -0.1)\">\n       <defs>\n        <path id=\"DejaVuSans-32\" d=\"M 1228 531 \nL 3431 531 \nL 3431 0 \nL 469 0 \nL 469 531 \nQ 828 903 1448 1529 \nQ 2069 2156 2228 2338 \nQ 2531 2678 2651 2914 \nQ 2772 3150 2772 3378 \nQ 2772 3750 2511 3984 \nQ 2250 4219 1831 4219 \nQ 1534 4219 1204 4116 \nQ 875 4013 500 3803 \nL 500 4441 \nQ 881 4594 1212 4672 \nQ 1544 4750 1819 4750 \nQ 2544 4750 2975 4387 \nQ 3406 4025 3406 3419 \nQ 3406 3131 3298 2873 \nQ 3191 2616 2906 2266 \nQ 2828 2175 2409 1742 \nQ 1991 1309 1228 531 \nz\n\" transform=\"scale(0.015625)\"/>\n       </defs>\n       <use xlink:href=\"#DejaVuSans-2212\"/>\n       <use xlink:href=\"#DejaVuSans-32\" transform=\"translate(83.789062 0)\"/>\n      </g>\n     </g>\n    </g>\n    <g id=\"xtick_3\">\n     <g id=\"line2d_3\">\n      <g>\n       <use xlink:href=\"#m6a5da67c86\" x=\"205.485\" y=\"273.312\" style=\"stroke: #000000; stroke-width: 0.8\"/>\n      </g>\n     </g>\n     <g id=\"text_3\">\n      <!-- 0 -->\n      <g transform=\"translate(202.30375 287.910437) scale(0.1 -0.1)\">\n       <defs>\n        <path id=\"DejaVuSans-30\" d=\"M 2034 4250 \nQ 1547 4250 1301 3770 \nQ 1056 3291 1056 2328 \nQ 1056 1369 1301 889 \nQ 1547 409 2034 409 \nQ 2525 409 2770 889 \nQ 3016 1369 3016 2328 \nQ 3016 3291 2770 3770 \nQ 2525 4250 2034 4250 \nz\nM 2034 4750 \nQ 2819 4750 3233 4129 \nQ 3647 3509 3647 2328 \nQ 3647 1150 3233 529 \nQ 2819 -91 2034 -91 \nQ 1250 -91 836 529 \nQ 422 1150 422 2328 \nQ 422 3509 836 4129 \nQ 1250 4750 2034 4750 \nz\n\" transform=\"scale(0.015625)\"/>\n       </defs>\n       <use xlink:href=\"#DejaVuSans-30\"/>\n      </g>\n     </g>\n    </g>\n    <g id=\"xtick_4\">\n     <g id=\"line2d_4\">\n      <g>\n       <use xlink:href=\"#m6a5da67c86\" x=\"270.415909\" y=\"273.312\" style=\"stroke: #000000; stroke-width: 0.8\"/>\n      </g>\n     </g>\n     <g id=\"text_4\">\n      <!-- 2 -->\n      <g transform=\"translate(267.234659 287.910437) scale(0.1 -0.1)\">\n       <use xlink:href=\"#DejaVuSans-32\"/>\n      </g>\n     </g>\n    </g>\n    <g id=\"xtick_5\">\n     <g id=\"line2d_5\">\n      <g>\n       <use xlink:href=\"#m6a5da67c86\" x=\"335.346818\" y=\"273.312\" style=\"stroke: #000000; stroke-width: 0.8\"/>\n      </g>\n     </g>\n     <g id=\"text_5\">\n      <!-- 4 -->\n      <g transform=\"translate(332.165568 287.910437) scale(0.1 -0.1)\">\n       <use xlink:href=\"#DejaVuSans-34\"/>\n      </g>\n     </g>\n    </g>\n   </g>\n   <g id=\"matplotlib.axis_2\">\n    <g id=\"ytick_1\">\n     <g id=\"line2d_6\">\n      <defs>\n       <path id=\"mb5382f0753\" d=\"M 0 0 \nL -3.5 0 \n\" style=\"stroke: #000000; stroke-width: 0.8\"/>\n      </defs>\n      <g>\n       <use xlink:href=\"#mb5382f0753\" x=\"26.925\" y=\"273.312\" style=\"stroke: #000000; stroke-width: 0.8\"/>\n      </g>\n     </g>\n     <g id=\"text_6\">\n      <!-- 0 -->\n      <g transform=\"translate(13.5625 277.111219) scale(0.1 -0.1)\">\n       <use xlink:href=\"#DejaVuSans-30\"/>\n      </g>\n     </g>\n    </g>\n    <g id=\"ytick_2\">\n     <g id=\"line2d_7\">\n      <g>\n       <use xlink:href=\"#mb5382f0753\" x=\"26.925\" y=\"221.247976\" style=\"stroke: #000000; stroke-width: 0.8\"/>\n      </g>\n     </g>\n     <g id=\"text_7\">\n      <!-- 10 -->\n      <g transform=\"translate(7.2 225.047194) scale(0.1 -0.1)\">\n       <defs>\n        <path id=\"DejaVuSans-31\" d=\"M 794 531 \nL 1825 531 \nL 1825 4091 \nL 703 3866 \nL 703 4441 \nL 1819 4666 \nL 2450 4666 \nL 2450 531 \nL 3481 531 \nL 3481 0 \nL 794 0 \nL 794 531 \nz\n\" transform=\"scale(0.015625)\"/>\n       </defs>\n       <use xlink:href=\"#DejaVuSans-31\"/>\n       <use xlink:href=\"#DejaVuSans-30\" transform=\"translate(63.623047 0)\"/>\n      </g>\n     </g>\n    </g>\n    <g id=\"ytick_3\">\n     <g id=\"line2d_8\">\n      <g>\n       <use xlink:href=\"#mb5382f0753\" x=\"26.925\" y=\"169.183951\" style=\"stroke: #000000; stroke-width: 0.8\"/>\n      </g>\n     </g>\n     <g id=\"text_8\">\n      <!-- 20 -->\n      <g transform=\"translate(7.2 172.98317) scale(0.1 -0.1)\">\n       <use xlink:href=\"#DejaVuSans-32\"/>\n       <use xlink:href=\"#DejaVuSans-30\" transform=\"translate(63.623047 0)\"/>\n      </g>\n     </g>\n    </g>\n    <g id=\"ytick_4\">\n     <g id=\"line2d_9\">\n      <g>\n       <use xlink:href=\"#mb5382f0753\" x=\"26.925\" y=\"117.119927\" style=\"stroke: #000000; stroke-width: 0.8\"/>\n      </g>\n     </g>\n     <g id=\"text_9\">\n      <!-- 30 -->\n      <g transform=\"translate(7.2 120.919146) scale(0.1 -0.1)\">\n       <defs>\n        <path id=\"DejaVuSans-33\" d=\"M 2597 2516 \nQ 3050 2419 3304 2112 \nQ 3559 1806 3559 1356 \nQ 3559 666 3084 287 \nQ 2609 -91 1734 -91 \nQ 1441 -91 1130 -33 \nQ 819 25 488 141 \nL 488 750 \nQ 750 597 1062 519 \nQ 1375 441 1716 441 \nQ 2309 441 2620 675 \nQ 2931 909 2931 1356 \nQ 2931 1769 2642 2001 \nQ 2353 2234 1838 2234 \nL 1294 2234 \nL 1294 2753 \nL 1863 2753 \nQ 2328 2753 2575 2939 \nQ 2822 3125 2822 3475 \nQ 2822 3834 2567 4026 \nQ 2313 4219 1838 4219 \nQ 1578 4219 1281 4162 \nQ 984 4106 628 3988 \nL 628 4550 \nQ 988 4650 1302 4700 \nQ 1616 4750 1894 4750 \nQ 2613 4750 3031 4423 \nQ 3450 4097 3450 3541 \nQ 3450 3153 3228 2886 \nQ 3006 2619 2597 2516 \nz\n\" transform=\"scale(0.015625)\"/>\n       </defs>\n       <use xlink:href=\"#DejaVuSans-33\"/>\n       <use xlink:href=\"#DejaVuSans-30\" transform=\"translate(63.623047 0)\"/>\n      </g>\n     </g>\n    </g>\n    <g id=\"ytick_5\">\n     <g id=\"line2d_10\">\n      <g>\n       <use xlink:href=\"#mb5382f0753\" x=\"26.925\" y=\"65.055903\" style=\"stroke: #000000; stroke-width: 0.8\"/>\n      </g>\n     </g>\n     <g id=\"text_10\">\n      <!-- 40 -->\n      <g transform=\"translate(7.2 68.855122) scale(0.1 -0.1)\">\n       <use xlink:href=\"#DejaVuSans-34\"/>\n       <use xlink:href=\"#DejaVuSans-30\" transform=\"translate(63.623047 0)\"/>\n      </g>\n     </g>\n    </g>\n    <g id=\"ytick_6\">\n     <g id=\"line2d_11\">\n      <g>\n       <use xlink:href=\"#mb5382f0753\" x=\"26.925\" y=\"12.991879\" style=\"stroke: #000000; stroke-width: 0.8\"/>\n      </g>\n     </g>\n     <g id=\"text_11\">\n      <!-- 50 -->\n      <g transform=\"translate(7.2 16.791097) scale(0.1 -0.1)\">\n       <defs>\n        <path id=\"DejaVuSans-35\" d=\"M 691 4666 \nL 3169 4666 \nL 3169 4134 \nL 1269 4134 \nL 1269 2991 \nQ 1406 3038 1543 3061 \nQ 1681 3084 1819 3084 \nQ 2600 3084 3056 2656 \nQ 3513 2228 3513 1497 \nQ 3513 744 3044 326 \nQ 2575 -91 1722 -91 \nQ 1428 -91 1123 -41 \nQ 819 9 494 109 \nL 494 744 \nQ 775 591 1075 516 \nQ 1375 441 1709 441 \nQ 2250 441 2565 725 \nQ 2881 1009 2881 1497 \nQ 2881 1984 2565 2268 \nQ 2250 2553 1709 2553 \nQ 1456 2553 1204 2497 \nQ 953 2441 691 2322 \nL 691 4666 \nz\n\" transform=\"scale(0.015625)\"/>\n       </defs>\n       <use xlink:href=\"#DejaVuSans-35\"/>\n       <use xlink:href=\"#DejaVuSans-30\" transform=\"translate(63.623047 0)\"/>\n      </g>\n     </g>\n    </g>\n   </g>\n   <g id=\"line2d_12\">\n    <path d=\"M 43.157727 18.198281 \nL 49.78333 31.794342 \nL 56.408933 44.956718 \nL 63.034536 57.685407 \nL 69.660139 69.980409 \nL 76.285742 81.841726 \nL 82.911345 93.269357 \nL 89.536948 104.263301 \nL 96.162551 114.823559 \nL 102.788154 124.950131 \nL 109.413757 134.643017 \nL 116.03936 143.902216 \nL 122.664963 152.72773 \nL 129.290566 161.119557 \nL 135.916169 169.077698 \nL 142.541772 176.602153 \nL 149.167375 183.692922 \nL 155.792978 190.350005 \nL 162.418581 196.573401 \nL 169.044184 202.363112 \nL 175.669787 207.719136 \nL 182.29539 212.641474 \nL 188.920993 217.130126 \nL 195.546596 221.185091 \nL 202.172199 224.806371 \nL 208.797801 227.993964 \nL 215.423404 230.747871 \nL 222.049007 233.068092 \nL 228.67461 234.954627 \nL 235.300213 236.407476 \nL 241.925816 237.426638 \nL 248.551419 238.012115 \nL 255.177022 238.163905 \nL 261.802625 237.882009 \nL 268.428228 237.166426 \nL 275.053831 236.017158 \nL 281.679434 234.434204 \nL 288.305037 232.417563 \nL 294.93064 229.967236 \nL 301.556243 227.083223 \nL 308.181846 223.765524 \nL 314.807449 220.014139 \nL 321.433052 215.829067 \nL 328.058655 211.210309 \nL 334.684258 206.157866 \nL 341.309861 200.671736 \nL 347.935464 194.751919 \nL 354.561067 188.398417 \nL 361.18667 181.611229 \nL 367.812273 174.390354 \n\" clip-path=\"url(#pbe2a770585)\" style=\"fill: none; stroke: #1f77b4; stroke-width: 1.5; stroke-linecap: square\"/>\n   </g>\n   <g id=\"patch_3\">\n    <path d=\"M 26.925 273.312 \nL 26.925 7.2 \n\" style=\"fill: none; stroke: #000000; stroke-width: 0.8; stroke-linejoin: miter; stroke-linecap: square\"/>\n   </g>\n   <g id=\"patch_4\">\n    <path d=\"M 384.045 273.312 \nL 384.045 7.2 \n\" style=\"fill: none; stroke: #000000; stroke-width: 0.8; stroke-linejoin: miter; stroke-linecap: square\"/>\n   </g>\n   <g id=\"patch_5\">\n    <path d=\"M 26.925 273.312 \nL 384.045 273.312 \n\" style=\"fill: none; stroke: #000000; stroke-width: 0.8; stroke-linejoin: miter; stroke-linecap: square\"/>\n   </g>\n   <g id=\"patch_6\">\n    <path d=\"M 26.925 7.2 \nL 384.045 7.2 \n\" style=\"fill: none; stroke: #000000; stroke-width: 0.8; stroke-linejoin: miter; stroke-linecap: square\"/>\n   </g>\n  </g>\n </g>\n <defs>\n  <clipPath id=\"pbe2a770585\">\n   <rect x=\"26.925\" y=\"7.2\" width=\"357.12\" height=\"266.112\"/>\n  </clipPath>\n </defs>\n</svg>\n",
            "image/png": "[encoded data removed]"
          },
          "metadata": {}
        }
      ],
      "metadata": {}
    },
    {
      "cell_type": "code",
      "execution_count": 16,
      "source": [
        "# YOUR CHANGES HERE\n",
        "\"\"\"\n",
        "x^2 becomes 2x, so we have 2x - 3 =\n",
        "at 2 it is 4-3=1\n",
        "\"\"\"\n",
        "\n",
        "p3 = 1"
      ],
      "outputs": [],
      "metadata": {
        "id": "vH-PYxIl2zUn"
      }
    },
    {
      "cell_type": "markdown",
      "source": [
        "Check the value of `p3`."
      ],
      "metadata": {}
    },
    {
      "cell_type": "code",
      "execution_count": 17,
      "source": [
        "p3"
      ],
      "outputs": [
        {
          "output_type": "execute_result",
          "data": {
            "text/plain": [
              "7"
            ]
          },
          "metadata": {},
          "execution_count": 17
        }
      ],
      "metadata": {}
    },
    {
      "cell_type": "markdown",
      "source": [
        "### Problem 4\n",
        "\n",
        "Set `p4` to the mean row of the mango data set.\n",
        "That is, `p4` should be a single row of data with the same columns, where each value is the mean of the corresponding column in the mango data set."
      ],
      "metadata": {
        "id": "QKUyLpq23Jeg"
      }
    },
    {
      "cell_type": "code",
      "execution_count": 22,
      "source": [
        "# YOUR CHANGES HERE\n",
        "\n",
        "p4 = mango_data.mean().to_frame().T"
      ],
      "outputs": [],
      "metadata": {
        "id": "aNiGYYTg3sbv"
      }
    },
    {
      "cell_type": "code",
      "execution_count": 23,
      "source": [
        "p4"
      ],
      "outputs": [
        {
          "output_type": "execute_result",
          "data": {
            "text/plain": [
              "   green_rating  yellow_rating  softness  wrinkles  estimated_flavor  \\\n",
              "0           3.0            3.0     2.375      0.75               2.5   \n",
              "\n",
              "   estimated_sweetness  rated_flavor  \n",
              "0                 2.25           2.0  "
            ],
            "text/html": [
              "<div>\n",
              "<style scoped>\n",
              "    .dataframe tbody tr th:only-of-type {\n",
              "        vertical-align: middle;\n",
              "    }\n",
              "\n",
              "    .dataframe tbody tr th {\n",
              "        vertical-align: top;\n",
              "    }\n",
              "\n",
              "    .dataframe thead th {\n",
              "        text-align: right;\n",
              "    }\n",
              "</style>\n",
              "<table border=\"1\" class=\"dataframe\">\n",
              "  <thead>\n",
              "    <tr style=\"text-align: right;\">\n",
              "      <th></th>\n",
              "      <th>green_rating</th>\n",
              "      <th>yellow_rating</th>\n",
              "      <th>softness</th>\n",
              "      <th>wrinkles</th>\n",
              "      <th>estimated_flavor</th>\n",
              "      <th>estimated_sweetness</th>\n",
              "      <th>rated_flavor</th>\n",
              "    </tr>\n",
              "  </thead>\n",
              "  <tbody>\n",
              "    <tr>\n",
              "      <th>0</th>\n",
              "      <td>3.0</td>\n",
              "      <td>3.0</td>\n",
              "      <td>2.375</td>\n",
              "      <td>0.75</td>\n",
              "      <td>2.5</td>\n",
              "      <td>2.25</td>\n",
              "      <td>2.0</td>\n",
              "    </tr>\n",
              "  </tbody>\n",
              "</table>\n",
              "</div>"
            ]
          },
          "metadata": {},
          "execution_count": 23
        }
      ],
      "metadata": {}
    },
    {
      "cell_type": "markdown",
      "source": [
        "### Problem 5\n",
        "\n",
        "Set `p5` to be the median of the estimated flavor column in the mango data set.\n",
        "\n",
        "You may find NumPy's [numpy.median](https://numpy.org/doc/stable/reference/generated/numpy.median.html) function or pandas' [pandas.DataFrame.median](https://pandas.pydata.org/pandas-docs/stable/reference/api/pandas.DataFrame.median.html) method helpful."
      ],
      "metadata": {
        "id": "_4ZYOT4DB0L3"
      }
    },
    {
      "cell_type": "code",
      "execution_count": 25,
      "source": [
        "# YOUR CHANGES HERE\n",
        "\n",
        "p5 = mango_data['estimated_flavor'].median()"
      ],
      "outputs": [],
      "metadata": {
        "id": "qLQyPsen5ExP"
      }
    },
    {
      "cell_type": "markdown",
      "source": [
        "Check the value of `p5`."
      ],
      "metadata": {}
    },
    {
      "cell_type": "code",
      "execution_count": 26,
      "source": [
        "p5"
      ],
      "outputs": [
        {
          "output_type": "execute_result",
          "data": {
            "text/plain": [
              "2.0"
            ]
          },
          "metadata": {},
          "execution_count": 26
        }
      ],
      "metadata": {}
    },
    {
      "cell_type": "markdown",
      "source": [
        "### Problem 6\n",
        "\n",
        "How many local extrema does the function $x^3 - 3x$ have?"
      ],
      "metadata": {
        "id": "4Sona6mNZDRD"
      }
    },
    {
      "cell_type": "code",
      "execution_count": 160,
      "source": [
        "# @title Plot of $x^3 - 3x$\n",
        "\n",
        "xs = np.linspace(-5,5)\n",
        "plt.plot(xs, xs**3 - 3 * xs);"
      ],
      "outputs": [
        {
          "output_type": "display_data",
          "data": {
            "text/plain": [
              "<Figure size 640x480 with 1 Axes>"
            ],
            "image/png": "[encoded data removed]"
          },
          "metadata": {}
        }
      ],
      "metadata": {}
    },
    {
      "cell_type": "code",
      "execution_count": 27,
      "source": [
        "# YOUR CHANGES HERE\n",
        "\n",
        "p6 = 2"
      ],
      "outputs": [],
      "metadata": {
        "id": "8Ply7kvsZ9AB"
      }
    },
    {
      "cell_type": "markdown",
      "source": [
        "Check the value of `p6`."
      ],
      "metadata": {}
    },
    {
      "cell_type": "code",
      "execution_count": 28,
      "source": [
        "p6"
      ],
      "outputs": [
        {
          "output_type": "execute_result",
          "data": {
            "text/plain": [
              "2"
            ]
          },
          "metadata": {},
          "execution_count": 28
        }
      ],
      "metadata": {}
    },
    {
      "cell_type": "markdown",
      "source": [
        "### Problem 7\n",
        "\n",
        "Set `p7` to the number of following functions that are convex."
      ],
      "metadata": {
        "id": "2sm6qPi7aKWO"
      }
    },
    {
      "cell_type": "code",
      "execution_count": 32,
      "source": [
        "# @ title Functions to Check for Convexity\n",
        "\n",
        "xs = np.linspace(-100000, 100000)\n",
        "\n",
        "plt.figure(figsize=(10, 4))\n",
        "plt.subplot(2, 5, 1)\n",
        "plt.plot(xs, xs**2)\n",
        "plt.title(\"$x^2$\")\n",
        "\n",
        "plt.subplot(2, 5, 2)\n",
        "plt.plot(xs, -xs**2)\n",
        "plt.title(\"$-x^2$\")\n",
        "\n",
        "plt.subplot(2, 5, 3)\n",
        "plt.plot(xs, xs**3)\n",
        "plt.title(\"$x^3$\")\n",
        "\n",
        "plt.subplot(2, 5, 4)\n",
        "plt.plot(xs, xs**4)\n",
        "plt.title(\"$x^4$\")\n",
        "\n",
        "plt.subplot(2, 5, 5)\n",
        "plt.plot(xs, xs*xs - 9 * xs)\n",
        "plt.title(\"$x^2 - 9x$\")\n",
        "\n",
        "plt.subplot(2, 5, 6)\n",
        "plt.plot(xs, xs)\n",
        "plt.title(\"$x$\")\n",
        "\n",
        "plt.subplot(2, 5, 7)\n",
        "plt.plot(xs, -xs**4+1000 * xs**2)\n",
        "plt.title(\"$1000x^2 - x^4$\")\n",
        "\n",
        "plt.subplot(2, 5, 8)\n",
        "plt.plot([x for x in xs if x > 0], [1 / x for x in xs if x > 0], color=\"C0\")\n",
        "plt.plot([x for x in xs if x < 0], [1 / x for x in xs if x < 0], color=\"C0\")\n",
        "plt.title(\"$1/x$\")\n",
        "\n",
        "plt.subplot(2, 5, 9)\n",
        "plt.plot(xs, -xs)\n",
        "plt.title(\"$-x$\")\n",
        "\n",
        "plt.subplot(2, 5, 10)\n",
        "plt.plot(xs, 0.001 * xs**2)\n",
        "plt.title(\"$0.001 x^2$\")\n",
        "\n",
        "plt.subplots_adjust(hspace=0.4, wspace=0.4);"
      ],
      "outputs": [
        {
          "output_type": "display_data",
          "data": {
            "text/plain": [
              "<Figure size 1000x400 with 10 Axes>"
            ],
            "image/svg+xml": "<?xml version=\"1.0\" encoding=\"utf-8\" standalone=\"no\"?>\n<!DOCTYPE svg PUBLIC \"-//W3C//DTD SVG 1.1//EN\"\n  \"http://www.w3.org/Graphics/SVG/1.1/DTD/svg11.dtd\">\n<svg xmlns:xlink=\"http://www.w3.org/1999/xlink\" width=\"641.199212pt\" height=\"278.554688pt\" viewBox=\"0 0 641.199212 278.554688\" xmlns=\"http://www.w3.org/2000/svg\" version=\"1.1\">\n <metadata>\n  <rdf:RDF xmlns:dc=\"http://purl.org/dc/elements/1.1/\" xmlns:cc=\"http://creativecommons.org/ns#\" xmlns:rdf=\"http://www.w3.org/1999/02/22-rdf-syntax-ns#\">\n   <cc:Work>\n    <dc:type rdf:resource=\"http://purl.org/dc/dcmitype/StillImage\"/>\n    <dc:date>2025-09-24T19:26:30.303705</dc:date>\n    <dc:format>image/svg+xml</dc:format>\n    <dc:creator>\n     <cc:Agent>\n      <dc:title>Matplotlib v3.10.0, https://matplotlib.org/</dc:title>\n     </cc:Agent>\n    </dc:creator>\n   </cc:Work>\n  </rdf:RDF>\n </metadata>\n <defs>\n  <style type=\"text/css\">*{stroke-linejoin: round; stroke-linecap: butt}</style>\n </defs>\n <g id=\"figure_1\">\n  <g id=\"patch_1\">\n   <path d=\"M -0 278.554688 \nL 641.199212 278.554688 \nL 641.199212 0 \nL -0 0 \nz\n\" style=\"fill: #ffffff\"/>\n  </g>\n  <g id=\"axes_1\">\n   <g id=\"patch_2\">\n    <path d=\"M 60.754688 125.316563 \nL 145.300142 125.316563 \nL 145.300142 32.916562 \nL 60.754688 32.916562 \nz\n\" style=\"fill: #ffffff\"/>\n   </g>\n   <g id=\"matplotlib.axis_1\">\n    <g id=\"xtick_1\">\n     <g id=\"line2d_1\">\n      <defs>\n       <path id=\"m036055d8f2\" d=\"M 0 0 \nL 0 3.5 \n\" style=\"stroke: #000000; stroke-width: 0.8\"/>\n      </defs>\n      <g>\n       <use xlink:href=\"#m036055d8f2\" x=\"64.597663\" y=\"125.316563\" style=\"stroke: #000000; stroke-width: 0.8\"/>\n      </g>\n     </g>\n     <g id=\"text_1\">\n      <!-- −100000 -->\n      <g transform=\"translate(41.320319 139.915) scale(0.1 -0.1)\">\n       <defs>\n        <path id=\"DejaVuSans-2212\" d=\"M 678 2272 \nL 4684 2272 \nL 4684 1741 \nL 678 1741 \nL 678 2272 \nz\n\" transform=\"scale(0.015625)\"/>\n        <path id=\"DejaVuSans-31\" d=\"M 794 531 \nL 1825 531 \nL 1825 4091 \nL 703 3866 \nL 703 4441 \nL 1819 4666 \nL 2450 4666 \nL 2450 531 \nL 3481 531 \nL 3481 0 \nL 794 0 \nL 794 531 \nz\n\" transform=\"scale(0.015625)\"/>\n        <path id=\"DejaVuSans-30\" d=\"M 2034 4250 \nQ 1547 4250 1301 3770 \nQ 1056 3291 1056 2328 \nQ 1056 1369 1301 889 \nQ 1547 409 2034 409 \nQ 2525 409 2770 889 \nQ 3016 1369 3016 2328 \nQ 3016 3291 2770 3770 \nQ 2525 4250 2034 4250 \nz\nM 2034 4750 \nQ 2819 4750 3233 4129 \nQ 3647 3509 3647 2328 \nQ 3647 1150 3233 529 \nQ 2819 -91 2034 -91 \nQ 1250 -91 836 529 \nQ 422 1150 422 2328 \nQ 422 3509 836 4129 \nQ 1250 4750 2034 4750 \nz\n\" transform=\"scale(0.015625)\"/>\n       </defs>\n       <use xlink:href=\"#DejaVuSans-2212\"/>\n       <use xlink:href=\"#DejaVuSans-31\" transform=\"translate(83.789062 0)\"/>\n       <use xlink:href=\"#DejaVuSans-30\" transform=\"translate(147.412109 0)\"/>\n       <use xlink:href=\"#DejaVuSans-30\" transform=\"translate(211.035156 0)\"/>\n       <use xlink:href=\"#DejaVuSans-30\" transform=\"translate(274.658203 0)\"/>\n       <use xlink:href=\"#DejaVuSans-30\" transform=\"translate(338.28125 0)\"/>\n       <use xlink:href=\"#DejaVuSans-30\" transform=\"translate(401.904297 0)\"/>\n      </g>\n     </g>\n    </g>\n    <g id=\"xtick_2\">\n     <g id=\"line2d_2\">\n      <g>\n       <use xlink:href=\"#m036055d8f2\" x=\"103.027415\" y=\"125.316563\" style=\"stroke: #000000; stroke-width: 0.8\"/>\n      </g>\n     </g>\n     <g id=\"text_2\">\n      <!-- 0 -->\n      <g transform=\"translate(99.846165 139.915) scale(0.1 -0.1)\">\n       <use xlink:href=\"#DejaVuSans-30\"/>\n      </g>\n     </g>\n    </g>\n    <g id=\"xtick_3\">\n     <g id=\"line2d_3\">\n      <g>\n       <use xlink:href=\"#m036055d8f2\" x=\"141.457167\" y=\"125.316563\" style=\"stroke: #000000; stroke-width: 0.8\"/>\n      </g>\n     </g>\n     <g id=\"text_3\">\n      <!-- 100000 -->\n      <g transform=\"translate(122.369667 139.915) scale(0.1 -0.1)\">\n       <use xlink:href=\"#DejaVuSans-31\"/>\n       <use xlink:href=\"#DejaVuSans-30\" transform=\"translate(63.623047 0)\"/>\n       <use xlink:href=\"#DejaVuSans-30\" transform=\"translate(127.246094 0)\"/>\n       <use xlink:href=\"#DejaVuSans-30\" transform=\"translate(190.869141 0)\"/>\n       <use xlink:href=\"#DejaVuSans-30\" transform=\"translate(254.492188 0)\"/>\n       <use xlink:href=\"#DejaVuSans-30\" transform=\"translate(318.115234 0)\"/>\n      </g>\n     </g>\n    </g>\n   </g>\n   <g id=\"matplotlib.axis_2\">\n    <g id=\"ytick_1\">\n     <g id=\"line2d_4\">\n      <defs>\n       <path id=\"m2f7e54e4f4\" d=\"M 0 0 \nL -3.5 0 \n\" style=\"stroke: #000000; stroke-width: 0.8\"/>\n      </defs>\n      <g>\n       <use xlink:href=\"#m2f7e54e4f4\" x=\"60.754688\" y=\"121.151563\" style=\"stroke: #000000; stroke-width: 0.8\"/>\n      </g>\n     </g>\n     <g id=\"text_4\">\n      <!-- 0.0 -->\n      <g transform=\"translate(37.851562 124.950781) scale(0.1 -0.1)\">\n       <defs>\n        <path id=\"DejaVuSans-2e\" d=\"M 684 794 \nL 1344 794 \nL 1344 0 \nL 684 0 \nL 684 794 \nz\n\" transform=\"scale(0.015625)\"/>\n       </defs>\n       <use xlink:href=\"#DejaVuSans-30\"/>\n       <use xlink:href=\"#DejaVuSans-2e\" transform=\"translate(63.623047 0)\"/>\n       <use xlink:href=\"#DejaVuSans-30\" transform=\"translate(95.410156 0)\"/>\n      </g>\n     </g>\n    </g>\n    <g id=\"ytick_2\">\n     <g id=\"line2d_5\">\n      <g>\n       <use xlink:href=\"#m2f7e54e4f4\" x=\"60.754688\" y=\"79.134063\" style=\"stroke: #000000; stroke-width: 0.8\"/>\n      </g>\n     </g>\n     <g id=\"text_5\">\n      <!-- 0.5 -->\n      <g transform=\"translate(37.851562 82.933281) scale(0.1 -0.1)\">\n       <defs>\n        <path id=\"DejaVuSans-35\" d=\"M 691 4666 \nL 3169 4666 \nL 3169 4134 \nL 1269 4134 \nL 1269 2991 \nQ 1406 3038 1543 3061 \nQ 1681 3084 1819 3084 \nQ 2600 3084 3056 2656 \nQ 3513 2228 3513 1497 \nQ 3513 744 3044 326 \nQ 2575 -91 1722 -91 \nQ 1428 -91 1123 -41 \nQ 819 9 494 109 \nL 494 744 \nQ 775 591 1075 516 \nQ 1375 441 1709 441 \nQ 2250 441 2565 725 \nQ 2881 1009 2881 1497 \nQ 2881 1984 2565 2268 \nQ 2250 2553 1709 2553 \nQ 1456 2553 1204 2497 \nQ 953 2441 691 2322 \nL 691 4666 \nz\n\" transform=\"scale(0.015625)\"/>\n       </defs>\n       <use xlink:href=\"#DejaVuSans-30\"/>\n       <use xlink:href=\"#DejaVuSans-2e\" transform=\"translate(63.623047 0)\"/>\n       <use xlink:href=\"#DejaVuSans-35\" transform=\"translate(95.410156 0)\"/>\n      </g>\n     </g>\n    </g>\n    <g id=\"ytick_3\">\n     <g id=\"line2d_6\">\n      <g>\n       <use xlink:href=\"#m2f7e54e4f4\" x=\"60.754688\" y=\"37.116563\" style=\"stroke: #000000; stroke-width: 0.8\"/>\n      </g>\n     </g>\n     <g id=\"text_6\">\n      <!-- 1.0 -->\n      <g transform=\"translate(37.851562 40.915781) scale(0.1 -0.1)\">\n       <use xlink:href=\"#DejaVuSans-31\"/>\n       <use xlink:href=\"#DejaVuSans-2e\" transform=\"translate(63.623047 0)\"/>\n       <use xlink:href=\"#DejaVuSans-30\" transform=\"translate(95.410156 0)\"/>\n      </g>\n     </g>\n    </g>\n    <g id=\"text_7\">\n     <!-- 1e10 -->\n     <g transform=\"translate(60.754688 29.916562) scale(0.1 -0.1)\">\n      <defs>\n       <path id=\"DejaVuSans-65\" d=\"M 3597 1894 \nL 3597 1613 \nL 953 1613 \nQ 991 1019 1311 708 \nQ 1631 397 2203 397 \nQ 2534 397 2845 478 \nQ 3156 559 3463 722 \nL 3463 178 \nQ 3153 47 2828 -22 \nQ 2503 -91 2169 -91 \nQ 1331 -91 842 396 \nQ 353 884 353 1716 \nQ 353 2575 817 3079 \nQ 1281 3584 2069 3584 \nQ 2775 3584 3186 3129 \nQ 3597 2675 3597 1894 \nz\nM 3022 2063 \nQ 3016 2534 2758 2815 \nQ 2500 3097 2075 3097 \nQ 1594 3097 1305 2825 \nQ 1016 2553 972 2059 \nL 3022 2063 \nz\n\" transform=\"scale(0.015625)\"/>\n      </defs>\n      <use xlink:href=\"#DejaVuSans-31\"/>\n      <use xlink:href=\"#DejaVuSans-65\" transform=\"translate(63.623047 0)\"/>\n      <use xlink:href=\"#DejaVuSans-31\" transform=\"translate(125.146484 0)\"/>\n      <use xlink:href=\"#DejaVuSans-30\" transform=\"translate(188.769531 0)\"/>\n     </g>\n    </g>\n   </g>\n   <g id=\"line2d_7\">\n    <path d=\"M 64.597663 37.116563 \nL 66.166224 43.836563 \nL 67.734785 50.276563 \nL 69.303347 56.436563 \nL 70.871908 62.316563 \nL 72.440469 67.916563 \nL 74.009031 73.236563 \nL 75.577592 78.276563 \nL 77.146153 83.036563 \nL 78.714714 87.516563 \nL 80.283276 91.716563 \nL 81.851837 95.636563 \nL 83.420398 99.276563 \nL 84.98896 102.636563 \nL 86.557521 105.716563 \nL 88.126082 108.516563 \nL 89.694644 111.036563 \nL 91.263205 113.276563 \nL 92.831766 115.236563 \nL 94.400328 116.916563 \nL 95.968889 118.316563 \nL 97.53745 119.436563 \nL 99.106012 120.276563 \nL 100.674573 120.836563 \nL 102.243134 121.116563 \nL 103.811695 121.116563 \nL 105.380257 120.836563 \nL 106.948818 120.276563 \nL 108.517379 119.436563 \nL 110.085941 118.316563 \nL 111.654502 116.916563 \nL 113.223063 115.236563 \nL 114.791625 113.276563 \nL 116.360186 111.036563 \nL 117.928747 108.516563 \nL 119.497309 105.716563 \nL 121.06587 102.636563 \nL 122.634431 99.276563 \nL 124.202992 95.636563 \nL 125.771554 91.716563 \nL 127.340115 87.516563 \nL 128.908676 83.036563 \nL 130.477238 78.276563 \nL 132.045799 73.236563 \nL 133.61436 67.916563 \nL 135.182922 62.316562 \nL 136.751483 56.436563 \nL 138.320044 50.276563 \nL 139.888606 43.836562 \nL 141.457167 37.116563 \n\" clip-path=\"url(#pc1cd197d71)\" style=\"fill: none; stroke: #1f77b4; stroke-width: 1.5; stroke-linecap: square\"/>\n   </g>\n   <g id=\"patch_3\">\n    <path d=\"M 60.754688 125.316563 \nL 60.754688 32.916563 \n\" style=\"fill: none; stroke: #000000; stroke-width: 0.8; stroke-linejoin: miter; stroke-linecap: square\"/>\n   </g>\n   <g id=\"patch_4\">\n    <path d=\"M 145.300142 125.316563 \nL 145.300142 32.916563 \n\" style=\"fill: none; stroke: #000000; stroke-width: 0.8; stroke-linejoin: miter; stroke-linecap: square\"/>\n   </g>\n   <g id=\"patch_5\">\n    <path d=\"M 60.754687 125.316563 \nL 145.300142 125.316563 \n\" style=\"fill: none; stroke: #000000; stroke-width: 0.8; stroke-linejoin: miter; stroke-linecap: square\"/>\n   </g>\n   <g id=\"patch_6\">\n    <path d=\"M 60.754687 32.916562 \nL 145.300142 32.916562 \n\" style=\"fill: none; stroke: #000000; stroke-width: 0.8; stroke-linejoin: miter; stroke-linecap: square\"/>\n   </g>\n   <g id=\"text_8\">\n    <!-- $x^2$ -->\n    <g transform=\"translate(96.367415 26.916562) scale(0.12 -0.12)\">\n     <defs>\n      <path id=\"DejaVuSans-Oblique-78\" d=\"M 3841 3500 \nL 2234 1784 \nL 3219 0 \nL 2559 0 \nL 1819 1388 \nL 531 0 \nL -166 0 \nL 1556 1844 \nL 641 3500 \nL 1300 3500 \nL 1972 2234 \nL 3144 3500 \nL 3841 3500 \nz\n\" transform=\"scale(0.015625)\"/>\n      <path id=\"DejaVuSans-32\" d=\"M 1228 531 \nL 3431 531 \nL 3431 0 \nL 469 0 \nL 469 531 \nQ 828 903 1448 1529 \nQ 2069 2156 2228 2338 \nQ 2531 2678 2651 2914 \nQ 2772 3150 2772 3378 \nQ 2772 3750 2511 3984 \nQ 2250 4219 1831 4219 \nQ 1534 4219 1204 4116 \nQ 875 4013 500 3803 \nL 500 4441 \nQ 881 4594 1212 4672 \nQ 1544 4750 1819 4750 \nQ 2544 4750 2975 4387 \nQ 3406 4025 3406 3419 \nQ 3406 3131 3298 2873 \nQ 3191 2616 2906 2266 \nQ 2828 2175 2409 1742 \nQ 1991 1309 1228 531 \nz\n\" transform=\"scale(0.015625)\"/>\n     </defs>\n     <use xlink:href=\"#DejaVuSans-Oblique-78\" transform=\"translate(0 0.765625)\"/>\n     <use xlink:href=\"#DejaVuSans-32\" transform=\"translate(63.645833 39.046875) scale(0.7)\"/>\n    </g>\n   </g>\n  </g>\n  <g id=\"axes_2\">\n   <g id=\"patch_7\">\n    <path d=\"M 179.118324 125.316563 \nL 263.663778 125.316563 \nL 263.663778 32.916562 \nL 179.118324 32.916562 \nz\n\" style=\"fill: #ffffff\"/>\n   </g>\n   <g id=\"matplotlib.axis_3\">\n    <g id=\"xtick_4\">\n     <g id=\"line2d_8\">\n      <g>\n       <use xlink:href=\"#m036055d8f2\" x=\"182.961299\" y=\"125.316563\" style=\"stroke: #000000; stroke-width: 0.8\"/>\n      </g>\n     </g>\n     <g id=\"text_9\">\n      <!-- −100000 -->\n      <g transform=\"translate(159.683955 139.915) scale(0.1 -0.1)\">\n       <use xlink:href=\"#DejaVuSans-2212\"/>\n       <use xlink:href=\"#DejaVuSans-31\" transform=\"translate(83.789062 0)\"/>\n       <use xlink:href=\"#DejaVuSans-30\" transform=\"translate(147.412109 0)\"/>\n       <use xlink:href=\"#DejaVuSans-30\" transform=\"translate(211.035156 0)\"/>\n       <use xlink:href=\"#DejaVuSans-30\" transform=\"translate(274.658203 0)\"/>\n       <use xlink:href=\"#DejaVuSans-30\" transform=\"translate(338.28125 0)\"/>\n       <use xlink:href=\"#DejaVuSans-30\" transform=\"translate(401.904297 0)\"/>\n      </g>\n     </g>\n    </g>\n    <g id=\"xtick_5\">\n     <g id=\"line2d_9\">\n      <g>\n       <use xlink:href=\"#m036055d8f2\" x=\"221.391051\" y=\"125.316563\" style=\"stroke: #000000; stroke-width: 0.8\"/>\n      </g>\n     </g>\n     <g id=\"text_10\">\n      <!-- 0 -->\n      <g transform=\"translate(218.209801 139.915) scale(0.1 -0.1)\">\n       <use xlink:href=\"#DejaVuSans-30\"/>\n      </g>\n     </g>\n    </g>\n    <g id=\"xtick_6\">\n     <g id=\"line2d_10\">\n      <g>\n       <use xlink:href=\"#m036055d8f2\" x=\"259.820803\" y=\"125.316563\" style=\"stroke: #000000; stroke-width: 0.8\"/>\n      </g>\n     </g>\n     <g id=\"text_11\">\n      <!-- 100000 -->\n      <g transform=\"translate(240.733303 139.915) scale(0.1 -0.1)\">\n       <use xlink:href=\"#DejaVuSans-31\"/>\n       <use xlink:href=\"#DejaVuSans-30\" transform=\"translate(63.623047 0)\"/>\n       <use xlink:href=\"#DejaVuSans-30\" transform=\"translate(127.246094 0)\"/>\n       <use xlink:href=\"#DejaVuSans-30\" transform=\"translate(190.869141 0)\"/>\n       <use xlink:href=\"#DejaVuSans-30\" transform=\"translate(254.492188 0)\"/>\n       <use xlink:href=\"#DejaVuSans-30\" transform=\"translate(318.115234 0)\"/>\n      </g>\n     </g>\n    </g>\n   </g>\n   <g id=\"matplotlib.axis_4\">\n    <g id=\"ytick_4\">\n     <g id=\"line2d_11\">\n      <g>\n       <use xlink:href=\"#m2f7e54e4f4\" x=\"179.118324\" y=\"121.116563\" style=\"stroke: #000000; stroke-width: 0.8\"/>\n      </g>\n     </g>\n     <g id=\"text_12\">\n      <!-- −1.0 -->\n      <g transform=\"translate(147.835511 124.915781) scale(0.1 -0.1)\">\n       <use xlink:href=\"#DejaVuSans-2212\"/>\n       <use xlink:href=\"#DejaVuSans-31\" transform=\"translate(83.789062 0)\"/>\n       <use xlink:href=\"#DejaVuSans-2e\" transform=\"translate(147.412109 0)\"/>\n       <use xlink:href=\"#DejaVuSans-30\" transform=\"translate(179.199219 0)\"/>\n      </g>\n     </g>\n    </g>\n    <g id=\"ytick_5\">\n     <g id=\"line2d_12\">\n      <g>\n       <use xlink:href=\"#m2f7e54e4f4\" x=\"179.118324\" y=\"79.099063\" style=\"stroke: #000000; stroke-width: 0.8\"/>\n      </g>\n     </g>\n     <g id=\"text_13\">\n      <!-- −0.5 -->\n      <g transform=\"translate(147.835511 82.898281) scale(0.1 -0.1)\">\n       <use xlink:href=\"#DejaVuSans-2212\"/>\n       <use xlink:href=\"#DejaVuSans-30\" transform=\"translate(83.789062 0)\"/>\n       <use xlink:href=\"#DejaVuSans-2e\" transform=\"translate(147.412109 0)\"/>\n       <use xlink:href=\"#DejaVuSans-35\" transform=\"translate(179.199219 0)\"/>\n      </g>\n     </g>\n    </g>\n    <g id=\"ytick_6\">\n     <g id=\"line2d_13\">\n      <g>\n       <use xlink:href=\"#m2f7e54e4f4\" x=\"179.118324\" y=\"37.081563\" style=\"stroke: #000000; stroke-width: 0.8\"/>\n      </g>\n     </g>\n     <g id=\"text_14\">\n      <!-- 0.0 -->\n      <g transform=\"translate(156.215199 40.880781) scale(0.1 -0.1)\">\n       <use xlink:href=\"#DejaVuSans-30\"/>\n       <use xlink:href=\"#DejaVuSans-2e\" transform=\"translate(63.623047 0)\"/>\n       <use xlink:href=\"#DejaVuSans-30\" transform=\"translate(95.410156 0)\"/>\n      </g>\n     </g>\n    </g>\n    <g id=\"text_15\">\n     <!-- 1e10 -->\n     <g transform=\"translate(179.118324 29.916562) scale(0.1 -0.1)\">\n      <use xlink:href=\"#DejaVuSans-31\"/>\n      <use xlink:href=\"#DejaVuSans-65\" transform=\"translate(63.623047 0)\"/>\n      <use xlink:href=\"#DejaVuSans-31\" transform=\"translate(125.146484 0)\"/>\n      <use xlink:href=\"#DejaVuSans-30\" transform=\"translate(188.769531 0)\"/>\n     </g>\n    </g>\n   </g>\n   <g id=\"line2d_14\">\n    <path d=\"M 182.961299 121.116563 \nL 184.52986 114.396563 \nL 186.098422 107.956563 \nL 187.666983 101.796563 \nL 189.235544 95.916563 \nL 190.804106 90.316563 \nL 192.372667 84.996563 \nL 193.941228 79.956563 \nL 195.50979 75.196563 \nL 197.078351 70.716563 \nL 198.646912 66.516563 \nL 200.215473 62.596563 \nL 201.784035 58.956563 \nL 203.352596 55.596563 \nL 204.921157 52.516563 \nL 206.489719 49.716563 \nL 208.05828 47.196563 \nL 209.626841 44.956563 \nL 211.195403 42.996563 \nL 212.763964 41.316563 \nL 214.332525 39.916563 \nL 215.901087 38.796563 \nL 217.469648 37.956563 \nL 219.038209 37.396563 \nL 220.60677 37.116563 \nL 222.175332 37.116563 \nL 223.743893 37.396563 \nL 225.312454 37.956563 \nL 226.881016 38.796563 \nL 228.449577 39.916563 \nL 230.018138 41.316563 \nL 231.5867 42.996563 \nL 233.155261 44.956563 \nL 234.723822 47.196563 \nL 236.292384 49.716563 \nL 237.860945 52.516563 \nL 239.429506 55.596563 \nL 240.998067 58.956563 \nL 242.566629 62.596563 \nL 244.13519 66.516563 \nL 245.703751 70.716563 \nL 247.272313 75.196563 \nL 248.840874 79.956563 \nL 250.409435 84.996563 \nL 251.977997 90.316563 \nL 253.546558 95.916563 \nL 255.115119 101.796563 \nL 256.683681 107.956563 \nL 258.252242 114.396563 \nL 259.820803 121.116563 \n\" clip-path=\"url(#pf6d61034bc)\" style=\"fill: none; stroke: #1f77b4; stroke-width: 1.5; stroke-linecap: square\"/>\n   </g>\n   <g id=\"patch_8\">\n    <path d=\"M 179.118324 125.316563 \nL 179.118324 32.916563 \n\" style=\"fill: none; stroke: #000000; stroke-width: 0.8; stroke-linejoin: miter; stroke-linecap: square\"/>\n   </g>\n   <g id=\"patch_9\">\n    <path d=\"M 263.663778 125.316563 \nL 263.663778 32.916563 \n\" style=\"fill: none; stroke: #000000; stroke-width: 0.8; stroke-linejoin: miter; stroke-linecap: square\"/>\n   </g>\n   <g id=\"patch_10\">\n    <path d=\"M 179.118324 125.316563 \nL 263.663778 125.316563 \n\" style=\"fill: none; stroke: #000000; stroke-width: 0.8; stroke-linejoin: miter; stroke-linecap: square\"/>\n   </g>\n   <g id=\"patch_11\">\n    <path d=\"M 179.118324 32.916562 \nL 263.663778 32.916562 \n\" style=\"fill: none; stroke: #000000; stroke-width: 0.8; stroke-linejoin: miter; stroke-linecap: square\"/>\n   </g>\n   <g id=\"text_16\">\n    <!-- $-x^2$ -->\n    <g transform=\"translate(209.691051 26.916562) scale(0.12 -0.12)\">\n     <use xlink:href=\"#DejaVuSans-2212\" transform=\"translate(0 0.765625)\"/>\n     <use xlink:href=\"#DejaVuSans-Oblique-78\" transform=\"translate(83.789062 0.765625)\"/>\n     <use xlink:href=\"#DejaVuSans-32\" transform=\"translate(147.434896 39.046875) scale(0.7)\"/>\n    </g>\n   </g>\n  </g>\n  <g id=\"axes_3\">\n   <g id=\"patch_12\">\n    <path d=\"M 297.48196 125.316563 \nL 382.027415 125.316563 \nL 382.027415 32.916562 \nL 297.48196 32.916562 \nz\n\" style=\"fill: #ffffff\"/>\n   </g>\n   <g id=\"matplotlib.axis_5\">\n    <g id=\"xtick_7\">\n     <g id=\"line2d_15\">\n      <g>\n       <use xlink:href=\"#m036055d8f2\" x=\"301.324935\" y=\"125.316563\" style=\"stroke: #000000; stroke-width: 0.8\"/>\n      </g>\n     </g>\n     <g id=\"text_17\">\n      <!-- −100000 -->\n      <g transform=\"translate(278.047592 139.915) scale(0.1 -0.1)\">\n       <use xlink:href=\"#DejaVuSans-2212\"/>\n       <use xlink:href=\"#DejaVuSans-31\" transform=\"translate(83.789062 0)\"/>\n       <use xlink:href=\"#DejaVuSans-30\" transform=\"translate(147.412109 0)\"/>\n       <use xlink:href=\"#DejaVuSans-30\" transform=\"translate(211.035156 0)\"/>\n       <use xlink:href=\"#DejaVuSans-30\" transform=\"translate(274.658203 0)\"/>\n       <use xlink:href=\"#DejaVuSans-30\" transform=\"translate(338.28125 0)\"/>\n       <use xlink:href=\"#DejaVuSans-30\" transform=\"translate(401.904297 0)\"/>\n      </g>\n     </g>\n    </g>\n    <g id=\"xtick_8\">\n     <g id=\"line2d_16\">\n      <g>\n       <use xlink:href=\"#m036055d8f2\" x=\"339.754688\" y=\"125.316563\" style=\"stroke: #000000; stroke-width: 0.8\"/>\n      </g>\n     </g>\n     <g id=\"text_18\">\n      <!-- 0 -->\n      <g transform=\"translate(336.573438 139.915) scale(0.1 -0.1)\">\n       <use xlink:href=\"#DejaVuSans-30\"/>\n      </g>\n     </g>\n    </g>\n    <g id=\"xtick_9\">\n     <g id=\"line2d_17\">\n      <g>\n       <use xlink:href=\"#m036055d8f2\" x=\"378.18444\" y=\"125.316563\" style=\"stroke: #000000; stroke-width: 0.8\"/>\n      </g>\n     </g>\n     <g id=\"text_19\">\n      <!-- 100000 -->\n      <g transform=\"translate(359.09694 139.915) scale(0.1 -0.1)\">\n       <use xlink:href=\"#DejaVuSans-31\"/>\n       <use xlink:href=\"#DejaVuSans-30\" transform=\"translate(63.623047 0)\"/>\n       <use xlink:href=\"#DejaVuSans-30\" transform=\"translate(127.246094 0)\"/>\n       <use xlink:href=\"#DejaVuSans-30\" transform=\"translate(190.869141 0)\"/>\n       <use xlink:href=\"#DejaVuSans-30\" transform=\"translate(254.492188 0)\"/>\n       <use xlink:href=\"#DejaVuSans-30\" transform=\"translate(318.115234 0)\"/>\n      </g>\n     </g>\n    </g>\n   </g>\n   <g id=\"matplotlib.axis_6\">\n    <g id=\"ytick_7\">\n     <g id=\"line2d_18\">\n      <g>\n       <use xlink:href=\"#m2f7e54e4f4\" x=\"297.48196\" y=\"121.116563\" style=\"stroke: #000000; stroke-width: 0.8\"/>\n      </g>\n     </g>\n     <g id=\"text_20\">\n      <!-- −1 -->\n      <g transform=\"translate(275.739773 124.915781) scale(0.1 -0.1)\">\n       <use xlink:href=\"#DejaVuSans-2212\"/>\n       <use xlink:href=\"#DejaVuSans-31\" transform=\"translate(83.789062 0)\"/>\n      </g>\n     </g>\n    </g>\n    <g id=\"ytick_8\">\n     <g id=\"line2d_19\">\n      <g>\n       <use xlink:href=\"#m2f7e54e4f4\" x=\"297.48196\" y=\"79.116563\" style=\"stroke: #000000; stroke-width: 0.8\"/>\n      </g>\n     </g>\n     <g id=\"text_21\">\n      <!-- 0 -->\n      <g transform=\"translate(284.11946 82.915781) scale(0.1 -0.1)\">\n       <use xlink:href=\"#DejaVuSans-30\"/>\n      </g>\n     </g>\n    </g>\n    <g id=\"ytick_9\">\n     <g id=\"line2d_20\">\n      <g>\n       <use xlink:href=\"#m2f7e54e4f4\" x=\"297.48196\" y=\"37.116563\" style=\"stroke: #000000; stroke-width: 0.8\"/>\n      </g>\n     </g>\n     <g id=\"text_22\">\n      <!-- 1 -->\n      <g transform=\"translate(284.11946 40.915781) scale(0.1 -0.1)\">\n       <use xlink:href=\"#DejaVuSans-31\"/>\n      </g>\n     </g>\n    </g>\n    <g id=\"text_23\">\n     <!-- 1e15 -->\n     <g transform=\"translate(297.48196 29.916562) scale(0.1 -0.1)\">\n      <use xlink:href=\"#DejaVuSans-31\"/>\n      <use xlink:href=\"#DejaVuSans-65\" transform=\"translate(63.623047 0)\"/>\n      <use xlink:href=\"#DejaVuSans-31\" transform=\"translate(125.146484 0)\"/>\n      <use xlink:href=\"#DejaVuSans-35\" transform=\"translate(188.769531 0)\"/>\n     </g>\n    </g>\n   </g>\n   <g id=\"line2d_21\">\n    <path d=\"M 301.324935 121.116563 \nL 302.893497 116.180762 \nL 304.462058 111.647651 \nL 306.030619 107.500093 \nL 307.599181 103.720954 \nL 309.167742 100.293096 \nL 310.736303 97.199385 \nL 312.304865 94.422685 \nL 313.873426 91.94586 \nL 315.441987 89.751774 \nL 317.010549 87.823292 \nL 318.57911 86.143278 \nL 320.147671 84.694595 \nL 321.716232 83.46011 \nL 323.284794 82.422685 \nL 324.853355 81.565185 \nL 326.421916 80.870475 \nL 327.990478 80.321418 \nL 329.559039 79.900879 \nL 331.1276 79.591722 \nL 332.696162 79.376811 \nL 334.264723 79.239011 \nL 335.833284 79.161187 \nL 337.401846 79.126201 \nL 338.970407 79.116919 \nL 340.538968 79.116206 \nL 342.107529 79.106924 \nL 343.676091 79.071938 \nL 345.244652 78.994114 \nL 346.813213 78.856314 \nL 348.381775 78.641403 \nL 349.950336 78.332246 \nL 351.518897 77.911707 \nL 353.087459 77.36265 \nL 354.65602 76.66794 \nL 356.224581 75.81044 \nL 357.793143 74.773015 \nL 359.361704 73.53853 \nL 360.930265 72.089847 \nL 362.498826 70.409833 \nL 364.067388 68.481351 \nL 365.635949 66.287265 \nL 367.20451 63.81044 \nL 368.773072 61.03374 \nL 370.341633 57.940029 \nL 371.910194 54.512171 \nL 373.478756 50.733032 \nL 375.047317 46.585474 \nL 376.615878 42.052363 \nL 378.18444 37.116563 \n\" clip-path=\"url(#p6803cf1372)\" style=\"fill: none; stroke: #1f77b4; stroke-width: 1.5; stroke-linecap: square\"/>\n   </g>\n   <g id=\"patch_13\">\n    <path d=\"M 297.48196 125.316563 \nL 297.48196 32.916562 \n\" style=\"fill: none; stroke: #000000; stroke-width: 0.8; stroke-linejoin: miter; stroke-linecap: square\"/>\n   </g>\n   <g id=\"patch_14\">\n    <path d=\"M 382.027415 125.316563 \nL 382.027415 32.916562 \n\" style=\"fill: none; stroke: #000000; stroke-width: 0.8; stroke-linejoin: miter; stroke-linecap: square\"/>\n   </g>\n   <g id=\"patch_15\">\n    <path d=\"M 297.48196 125.316563 \nL 382.027415 125.316563 \n\" style=\"fill: none; stroke: #000000; stroke-width: 0.8; stroke-linejoin: miter; stroke-linecap: square\"/>\n   </g>\n   <g id=\"patch_16\">\n    <path d=\"M 297.48196 32.916562 \nL 382.027415 32.916562 \n\" style=\"fill: none; stroke: #000000; stroke-width: 0.8; stroke-linejoin: miter; stroke-linecap: square\"/>\n   </g>\n   <g id=\"text_24\">\n    <!-- $x^3$ -->\n    <g transform=\"translate(333.094688 26.916562) scale(0.12 -0.12)\">\n     <defs>\n      <path id=\"DejaVuSans-33\" d=\"M 2597 2516 \nQ 3050 2419 3304 2112 \nQ 3559 1806 3559 1356 \nQ 3559 666 3084 287 \nQ 2609 -91 1734 -91 \nQ 1441 -91 1130 -33 \nQ 819 25 488 141 \nL 488 750 \nQ 750 597 1062 519 \nQ 1375 441 1716 441 \nQ 2309 441 2620 675 \nQ 2931 909 2931 1356 \nQ 2931 1769 2642 2001 \nQ 2353 2234 1838 2234 \nL 1294 2234 \nL 1294 2753 \nL 1863 2753 \nQ 2328 2753 2575 2939 \nQ 2822 3125 2822 3475 \nQ 2822 3834 2567 4026 \nQ 2313 4219 1838 4219 \nQ 1578 4219 1281 4162 \nQ 984 4106 628 3988 \nL 628 4550 \nQ 988 4650 1302 4700 \nQ 1616 4750 1894 4750 \nQ 2613 4750 3031 4423 \nQ 3450 4097 3450 3541 \nQ 3450 3153 3228 2886 \nQ 3006 2619 2597 2516 \nz\n\" transform=\"scale(0.015625)\"/>\n     </defs>\n     <use xlink:href=\"#DejaVuSans-Oblique-78\" transform=\"translate(0 0.765625)\"/>\n     <use xlink:href=\"#DejaVuSans-33\" transform=\"translate(63.645833 39.046875) scale(0.7)\"/>\n    </g>\n   </g>\n  </g>\n  <g id=\"axes_4\">\n   <g id=\"patch_17\">\n    <path d=\"M 415.845597 125.316563 \nL 500.391051 125.316563 \nL 500.391051 32.916562 \nL 415.845597 32.916562 \nz\n\" style=\"fill: #ffffff\"/>\n   </g>\n   <g id=\"matplotlib.axis_7\">\n    <g id=\"xtick_10\">\n     <g id=\"line2d_22\">\n      <g>\n       <use xlink:href=\"#m036055d8f2\" x=\"419.688572\" y=\"125.316563\" style=\"stroke: #000000; stroke-width: 0.8\"/>\n      </g>\n     </g>\n     <g id=\"text_25\">\n      <!-- −100000 -->\n      <g transform=\"translate(396.411228 139.915) scale(0.1 -0.1)\">\n       <use xlink:href=\"#DejaVuSans-2212\"/>\n       <use xlink:href=\"#DejaVuSans-31\" transform=\"translate(83.789062 0)\"/>\n       <use xlink:href=\"#DejaVuSans-30\" transform=\"translate(147.412109 0)\"/>\n       <use xlink:href=\"#DejaVuSans-30\" transform=\"translate(211.035156 0)\"/>\n       <use xlink:href=\"#DejaVuSans-30\" transform=\"translate(274.658203 0)\"/>\n       <use xlink:href=\"#DejaVuSans-30\" transform=\"translate(338.28125 0)\"/>\n       <use xlink:href=\"#DejaVuSans-30\" transform=\"translate(401.904297 0)\"/>\n      </g>\n     </g>\n    </g>\n    <g id=\"xtick_11\">\n     <g id=\"line2d_23\">\n      <g>\n       <use xlink:href=\"#m036055d8f2\" x=\"458.118324\" y=\"125.316563\" style=\"stroke: #000000; stroke-width: 0.8\"/>\n      </g>\n     </g>\n     <g id=\"text_26\">\n      <!-- 0 -->\n      <g transform=\"translate(454.937074 139.915) scale(0.1 -0.1)\">\n       <use xlink:href=\"#DejaVuSans-30\"/>\n      </g>\n     </g>\n    </g>\n    <g id=\"xtick_12\">\n     <g id=\"line2d_24\">\n      <g>\n       <use xlink:href=\"#m036055d8f2\" x=\"496.548076\" y=\"125.316563\" style=\"stroke: #000000; stroke-width: 0.8\"/>\n      </g>\n     </g>\n     <g id=\"text_27\">\n      <!-- 100000 -->\n      <g transform=\"translate(477.460576 139.915) scale(0.1 -0.1)\">\n       <use xlink:href=\"#DejaVuSans-31\"/>\n       <use xlink:href=\"#DejaVuSans-30\" transform=\"translate(63.623047 0)\"/>\n       <use xlink:href=\"#DejaVuSans-30\" transform=\"translate(127.246094 0)\"/>\n       <use xlink:href=\"#DejaVuSans-30\" transform=\"translate(190.869141 0)\"/>\n       <use xlink:href=\"#DejaVuSans-30\" transform=\"translate(254.492188 0)\"/>\n       <use xlink:href=\"#DejaVuSans-30\" transform=\"translate(318.115234 0)\"/>\n      </g>\n     </g>\n    </g>\n   </g>\n   <g id=\"matplotlib.axis_8\">\n    <g id=\"ytick_10\">\n     <g id=\"line2d_25\">\n      <g>\n       <use xlink:href=\"#m2f7e54e4f4\" x=\"415.845597\" y=\"121.116577\" style=\"stroke: #000000; stroke-width: 0.8\"/>\n      </g>\n     </g>\n     <g id=\"text_28\">\n      <!-- 0.0 -->\n      <g transform=\"translate(392.942472 124.915796) scale(0.1 -0.1)\">\n       <use xlink:href=\"#DejaVuSans-30\"/>\n       <use xlink:href=\"#DejaVuSans-2e\" transform=\"translate(63.623047 0)\"/>\n       <use xlink:href=\"#DejaVuSans-30\" transform=\"translate(95.410156 0)\"/>\n      </g>\n     </g>\n    </g>\n    <g id=\"ytick_11\">\n     <g id=\"line2d_26\">\n      <g>\n       <use xlink:href=\"#m2f7e54e4f4\" x=\"415.845597\" y=\"79.11657\" style=\"stroke: #000000; stroke-width: 0.8\"/>\n      </g>\n     </g>\n     <g id=\"text_29\">\n      <!-- 0.5 -->\n      <g transform=\"translate(392.942472 82.915789) scale(0.1 -0.1)\">\n       <use xlink:href=\"#DejaVuSans-30\"/>\n       <use xlink:href=\"#DejaVuSans-2e\" transform=\"translate(63.623047 0)\"/>\n       <use xlink:href=\"#DejaVuSans-35\" transform=\"translate(95.410156 0)\"/>\n      </g>\n     </g>\n    </g>\n    <g id=\"ytick_12\">\n     <g id=\"line2d_27\">\n      <g>\n       <use xlink:href=\"#m2f7e54e4f4\" x=\"415.845597\" y=\"37.116563\" style=\"stroke: #000000; stroke-width: 0.8\"/>\n      </g>\n     </g>\n     <g id=\"text_30\">\n      <!-- 1.0 -->\n      <g transform=\"translate(392.942472 40.915781) scale(0.1 -0.1)\">\n       <use xlink:href=\"#DejaVuSans-31\"/>\n       <use xlink:href=\"#DejaVuSans-2e\" transform=\"translate(63.623047 0)\"/>\n       <use xlink:href=\"#DejaVuSans-30\" transform=\"translate(95.410156 0)\"/>\n      </g>\n     </g>\n    </g>\n    <g id=\"text_31\">\n     <!-- 1e20 -->\n     <g transform=\"translate(415.845597 29.916562) scale(0.1 -0.1)\">\n      <use xlink:href=\"#DejaVuSans-31\"/>\n      <use xlink:href=\"#DejaVuSans-65\" transform=\"translate(63.623047 0)\"/>\n      <use xlink:href=\"#DejaVuSans-32\" transform=\"translate(125.146484 0)\"/>\n      <use xlink:href=\"#DejaVuSans-30\" transform=\"translate(188.769531 0)\"/>\n     </g>\n    </g>\n   </g>\n   <g id=\"line2d_28\">\n    <path d=\"M 419.688572 37.116563 \nL 421.257133 50.013815 \nL 422.825694 61.365588 \nL 424.394256 71.300576 \nL 425.962817 79.941875 \nL 427.531378 87.406987 \nL 429.09994 93.80782 \nL 430.668501 99.250684 \nL 432.237062 103.836296 \nL 433.805624 107.659776 \nL 435.374185 110.810651 \nL 436.942746 113.372849 \nL 438.511308 115.424706 \nL 440.079869 117.038961 \nL 441.64843 118.282757 \nL 443.216991 119.217645 \nL 444.785553 119.899577 \nL 446.354114 120.378911 \nL 447.922675 120.700409 \nL 449.491237 120.90324 \nL 451.059798 121.020975 \nL 452.628359 121.081592 \nL 454.196921 121.10747 \nL 455.765482 121.115397 \nL 457.334043 121.116563 \nL 458.902605 121.116563 \nL 460.471166 121.115397 \nL 462.039727 121.10747 \nL 463.608288 121.081592 \nL 465.17685 121.020975 \nL 466.745411 120.90324 \nL 468.313972 120.700409 \nL 469.882534 120.378911 \nL 471.451095 119.899577 \nL 473.019656 119.217645 \nL 474.588218 118.282757 \nL 476.156779 117.038961 \nL 477.72534 115.424706 \nL 479.293902 113.372849 \nL 480.862463 110.810651 \nL 482.431024 107.659776 \nL 483.999585 103.836296 \nL 485.568147 99.250684 \nL 487.136708 93.80782 \nL 488.705269 87.406987 \nL 490.273831 79.941875 \nL 491.842392 71.300576 \nL 493.410953 61.365588 \nL 494.979515 50.013815 \nL 496.548076 37.116563 \n\" clip-path=\"url(#pe10c9758b5)\" style=\"fill: none; stroke: #1f77b4; stroke-width: 1.5; stroke-linecap: square\"/>\n   </g>\n   <g id=\"patch_18\">\n    <path d=\"M 415.845597 125.316563 \nL 415.845597 32.916562 \n\" style=\"fill: none; stroke: #000000; stroke-width: 0.8; stroke-linejoin: miter; stroke-linecap: square\"/>\n   </g>\n   <g id=\"patch_19\">\n    <path d=\"M 500.391051 125.316563 \nL 500.391051 32.916562 \n\" style=\"fill: none; stroke: #000000; stroke-width: 0.8; stroke-linejoin: miter; stroke-linecap: square\"/>\n   </g>\n   <g id=\"patch_20\">\n    <path d=\"M 415.845597 125.316563 \nL 500.391051 125.316563 \n\" style=\"fill: none; stroke: #000000; stroke-width: 0.8; stroke-linejoin: miter; stroke-linecap: square\"/>\n   </g>\n   <g id=\"patch_21\">\n    <path d=\"M 415.845597 32.916562 \nL 500.391051 32.916562 \n\" style=\"fill: none; stroke: #000000; stroke-width: 0.8; stroke-linejoin: miter; stroke-linecap: square\"/>\n   </g>\n   <g id=\"text_32\">\n    <!-- $x^4$ -->\n    <g transform=\"translate(451.458324 26.916562) scale(0.12 -0.12)\">\n     <defs>\n      <path id=\"DejaVuSans-34\" d=\"M 2419 4116 \nL 825 1625 \nL 2419 1625 \nL 2419 4116 \nz\nM 2253 4666 \nL 3047 4666 \nL 3047 1625 \nL 3713 1625 \nL 3713 1100 \nL 3047 1100 \nL 3047 0 \nL 2419 0 \nL 2419 1100 \nL 313 1100 \nL 313 1709 \nL 2253 4666 \nz\n\" transform=\"scale(0.015625)\"/>\n     </defs>\n     <use xlink:href=\"#DejaVuSans-Oblique-78\" transform=\"translate(0 0.684375)\"/>\n     <use xlink:href=\"#DejaVuSans-34\" transform=\"translate(63.645833 38.965625) scale(0.7)\"/>\n    </g>\n   </g>\n  </g>\n  <g id=\"axes_5\">\n   <g id=\"patch_22\">\n    <path d=\"M 534.209233 125.316563 \nL 618.754688 125.316563 \nL 618.754688 32.916562 \nL 534.209233 32.916562 \nz\n\" style=\"fill: #ffffff\"/>\n   </g>\n   <g id=\"matplotlib.axis_9\">\n    <g id=\"xtick_13\">\n     <g id=\"line2d_29\">\n      <g>\n       <use xlink:href=\"#m036055d8f2\" x=\"538.052208\" y=\"125.316563\" style=\"stroke: #000000; stroke-width: 0.8\"/>\n      </g>\n     </g>\n     <g id=\"text_33\">\n      <!-- −100000 -->\n      <g transform=\"translate(514.774864 139.915) scale(0.1 -0.1)\">\n       <use xlink:href=\"#DejaVuSans-2212\"/>\n       <use xlink:href=\"#DejaVuSans-31\" transform=\"translate(83.789062 0)\"/>\n       <use xlink:href=\"#DejaVuSans-30\" transform=\"translate(147.412109 0)\"/>\n       <use xlink:href=\"#DejaVuSans-30\" transform=\"translate(211.035156 0)\"/>\n       <use xlink:href=\"#DejaVuSans-30\" transform=\"translate(274.658203 0)\"/>\n       <use xlink:href=\"#DejaVuSans-30\" transform=\"translate(338.28125 0)\"/>\n       <use xlink:href=\"#DejaVuSans-30\" transform=\"translate(401.904297 0)\"/>\n      </g>\n     </g>\n    </g>\n    <g id=\"xtick_14\">\n     <g id=\"line2d_30\">\n      <g>\n       <use xlink:href=\"#m036055d8f2\" x=\"576.48196\" y=\"125.316563\" style=\"stroke: #000000; stroke-width: 0.8\"/>\n      </g>\n     </g>\n     <g id=\"text_34\">\n      <!-- 0 -->\n      <g transform=\"translate(573.30071 139.915) scale(0.1 -0.1)\">\n       <use xlink:href=\"#DejaVuSans-30\"/>\n      </g>\n     </g>\n    </g>\n    <g id=\"xtick_15\">\n     <g id=\"line2d_31\">\n      <g>\n       <use xlink:href=\"#m036055d8f2\" x=\"614.911712\" y=\"125.316563\" style=\"stroke: #000000; stroke-width: 0.8\"/>\n      </g>\n     </g>\n     <g id=\"text_35\">\n      <!-- 100000 -->\n      <g transform=\"translate(595.824212 139.915) scale(0.1 -0.1)\">\n       <use xlink:href=\"#DejaVuSans-31\"/>\n       <use xlink:href=\"#DejaVuSans-30\" transform=\"translate(63.623047 0)\"/>\n       <use xlink:href=\"#DejaVuSans-30\" transform=\"translate(127.246094 0)\"/>\n       <use xlink:href=\"#DejaVuSans-30\" transform=\"translate(190.869141 0)\"/>\n       <use xlink:href=\"#DejaVuSans-30\" transform=\"translate(254.492188 0)\"/>\n       <use xlink:href=\"#DejaVuSans-30\" transform=\"translate(318.115234 0)\"/>\n      </g>\n     </g>\n    </g>\n   </g>\n   <g id=\"matplotlib.axis_10\">\n    <g id=\"ytick_13\">\n     <g id=\"line2d_32\">\n      <g>\n       <use xlink:href=\"#m2f7e54e4f4\" x=\"534.209233\" y=\"121.151405\" style=\"stroke: #000000; stroke-width: 0.8\"/>\n      </g>\n     </g>\n     <g id=\"text_36\">\n      <!-- 0.0 -->\n      <g transform=\"translate(511.306108 124.950624) scale(0.1 -0.1)\">\n       <use xlink:href=\"#DejaVuSans-30\"/>\n       <use xlink:href=\"#DejaVuSans-2e\" transform=\"translate(63.623047 0)\"/>\n       <use xlink:href=\"#DejaVuSans-30\" transform=\"translate(95.410156 0)\"/>\n      </g>\n     </g>\n    </g>\n    <g id=\"ytick_14\">\n     <g id=\"line2d_33\">\n      <g>\n       <use xlink:href=\"#m2f7e54e4f4\" x=\"534.209233\" y=\"79.137765\" style=\"stroke: #000000; stroke-width: 0.8\"/>\n      </g>\n     </g>\n     <g id=\"text_37\">\n      <!-- 0.5 -->\n      <g transform=\"translate(511.306108 82.936984) scale(0.1 -0.1)\">\n       <use xlink:href=\"#DejaVuSans-30\"/>\n       <use xlink:href=\"#DejaVuSans-2e\" transform=\"translate(63.623047 0)\"/>\n       <use xlink:href=\"#DejaVuSans-35\" transform=\"translate(95.410156 0)\"/>\n      </g>\n     </g>\n    </g>\n    <g id=\"ytick_15\">\n     <g id=\"line2d_34\">\n      <g>\n       <use xlink:href=\"#m2f7e54e4f4\" x=\"534.209233\" y=\"37.124125\" style=\"stroke: #000000; stroke-width: 0.8\"/>\n      </g>\n     </g>\n     <g id=\"text_38\">\n      <!-- 1.0 -->\n      <g transform=\"translate(511.306108 40.923344) scale(0.1 -0.1)\">\n       <use xlink:href=\"#DejaVuSans-31\"/>\n       <use xlink:href=\"#DejaVuSans-2e\" transform=\"translate(63.623047 0)\"/>\n       <use xlink:href=\"#DejaVuSans-30\" transform=\"translate(95.410156 0)\"/>\n      </g>\n     </g>\n    </g>\n    <g id=\"text_39\">\n     <!-- 1e10 -->\n     <g transform=\"translate(534.209233 29.916562) scale(0.1 -0.1)\">\n      <use xlink:href=\"#DejaVuSans-31\"/>\n      <use xlink:href=\"#DejaVuSans-65\" transform=\"translate(63.623047 0)\"/>\n      <use xlink:href=\"#DejaVuSans-31\" transform=\"translate(125.146484 0)\"/>\n      <use xlink:href=\"#DejaVuSans-30\" transform=\"translate(188.769531 0)\"/>\n     </g>\n    </g>\n   </g>\n   <g id=\"line2d_35\">\n    <path d=\"M 538.052208 37.116562 \nL 539.620769 43.836254 \nL 541.189331 50.275971 \nL 542.757892 56.435714 \nL 544.326453 62.315482 \nL 545.895015 67.915276 \nL 547.463576 73.235096 \nL 549.032137 78.274942 \nL 550.600699 83.034813 \nL 552.16926 87.51471 \nL 553.737821 91.714633 \nL 555.306383 95.634582 \nL 556.874944 99.274556 \nL 558.443505 102.634556 \nL 560.012066 105.714582 \nL 561.580628 108.514633 \nL 563.149189 111.03471 \nL 564.71775 113.274813 \nL 566.286312 115.234942 \nL 567.854873 116.915096 \nL 569.423434 118.315276 \nL 570.991996 119.435482 \nL 572.560557 120.275714 \nL 574.129118 120.835971 \nL 575.69768 121.116254 \nL 577.266241 121.116563 \nL 578.834802 120.836897 \nL 580.403363 120.277257 \nL 581.971925 119.437643 \nL 583.540486 118.318054 \nL 585.109047 116.918492 \nL 586.677609 115.238955 \nL 588.24617 113.279443 \nL 589.814731 111.039958 \nL 591.383293 108.520498 \nL 592.951854 105.721064 \nL 594.520415 102.641656 \nL 596.088977 99.282273 \nL 597.657538 95.642916 \nL 599.226099 91.723585 \nL 600.794661 87.524279 \nL 602.363222 83.045 \nL 603.931783 78.285745 \nL 605.500344 73.246517 \nL 607.068906 67.927315 \nL 608.637467 62.328138 \nL 610.206028 56.448987 \nL 611.77459 50.289861 \nL 613.343151 43.850761 \nL 614.911712 37.131687 \n\" clip-path=\"url(#p0b91566445)\" style=\"fill: none; stroke: #1f77b4; stroke-width: 1.5; stroke-linecap: square\"/>\n   </g>\n   <g id=\"patch_23\">\n    <path d=\"M 534.209233 125.316563 \nL 534.209233 32.916562 \n\" style=\"fill: none; stroke: #000000; stroke-width: 0.8; stroke-linejoin: miter; stroke-linecap: square\"/>\n   </g>\n   <g id=\"patch_24\">\n    <path d=\"M 618.754688 125.316563 \nL 618.754688 32.916562 \n\" style=\"fill: none; stroke: #000000; stroke-width: 0.8; stroke-linejoin: miter; stroke-linecap: square\"/>\n   </g>\n   <g id=\"patch_25\">\n    <path d=\"M 534.209233 125.316563 \nL 618.754688 125.316563 \n\" style=\"fill: none; stroke: #000000; stroke-width: 0.8; stroke-linejoin: miter; stroke-linecap: square\"/>\n   </g>\n   <g id=\"patch_26\">\n    <path d=\"M 534.209233 32.916562 \nL 618.754688 32.916562 \n\" style=\"fill: none; stroke: #000000; stroke-width: 0.8; stroke-linejoin: miter; stroke-linecap: square\"/>\n   </g>\n   <g id=\"text_40\">\n    <!-- $x^2 - 9x$ -->\n    <g transform=\"translate(555.06196 16.318125) scale(0.12 -0.12)\">\n     <defs>\n      <path id=\"DejaVuSans-39\" d=\"M 703 97 \nL 703 672 \nQ 941 559 1184 500 \nQ 1428 441 1663 441 \nQ 2288 441 2617 861 \nQ 2947 1281 2994 2138 \nQ 2813 1869 2534 1725 \nQ 2256 1581 1919 1581 \nQ 1219 1581 811 2004 \nQ 403 2428 403 3163 \nQ 403 3881 828 4315 \nQ 1253 4750 1959 4750 \nQ 2769 4750 3195 4129 \nQ 3622 3509 3622 2328 \nQ 3622 1225 3098 567 \nQ 2575 -91 1691 -91 \nQ 1453 -91 1209 -44 \nQ 966 3 703 97 \nz\nM 1959 2075 \nQ 2384 2075 2632 2365 \nQ 2881 2656 2881 3163 \nQ 2881 3666 2632 3958 \nQ 2384 4250 1959 4250 \nQ 1534 4250 1286 3958 \nQ 1038 3666 1038 3163 \nQ 1038 2656 1286 2365 \nQ 1534 2075 1959 2075 \nz\n\" transform=\"scale(0.015625)\"/>\n     </defs>\n     <use xlink:href=\"#DejaVuSans-Oblique-78\" transform=\"translate(0 0.765625)\"/>\n     <use xlink:href=\"#DejaVuSans-32\" transform=\"translate(63.645833 39.046875) scale(0.7)\"/>\n     <use xlink:href=\"#DejaVuSans-2212\" transform=\"translate(130.398763 0.765625)\"/>\n     <use xlink:href=\"#DejaVuSans-39\" transform=\"translate(233.670247 0.765625)\"/>\n     <use xlink:href=\"#DejaVuSans-Oblique-78\" transform=\"translate(297.293294 0.765625)\"/>\n    </g>\n   </g>\n  </g>\n  <g id=\"axes_6\">\n   <g id=\"patch_27\">\n    <path d=\"M 60.754688 254.676562 \nL 145.300142 254.676562 \nL 145.300142 162.276563 \nL 60.754688 162.276563 \nz\n\" style=\"fill: #ffffff\"/>\n   </g>\n   <g id=\"matplotlib.axis_11\">\n    <g id=\"xtick_16\">\n     <g id=\"line2d_36\">\n      <g>\n       <use xlink:href=\"#m036055d8f2\" x=\"64.597663\" y=\"254.676562\" style=\"stroke: #000000; stroke-width: 0.8\"/>\n      </g>\n     </g>\n     <g id=\"text_41\">\n      <!-- −100000 -->\n      <g transform=\"translate(41.320319 269.275) scale(0.1 -0.1)\">\n       <use xlink:href=\"#DejaVuSans-2212\"/>\n       <use xlink:href=\"#DejaVuSans-31\" transform=\"translate(83.789062 0)\"/>\n       <use xlink:href=\"#DejaVuSans-30\" transform=\"translate(147.412109 0)\"/>\n       <use xlink:href=\"#DejaVuSans-30\" transform=\"translate(211.035156 0)\"/>\n       <use xlink:href=\"#DejaVuSans-30\" transform=\"translate(274.658203 0)\"/>\n       <use xlink:href=\"#DejaVuSans-30\" transform=\"translate(338.28125 0)\"/>\n       <use xlink:href=\"#DejaVuSans-30\" transform=\"translate(401.904297 0)\"/>\n      </g>\n     </g>\n    </g>\n    <g id=\"xtick_17\">\n     <g id=\"line2d_37\">\n      <g>\n       <use xlink:href=\"#m036055d8f2\" x=\"103.027415\" y=\"254.676562\" style=\"stroke: #000000; stroke-width: 0.8\"/>\n      </g>\n     </g>\n     <g id=\"text_42\">\n      <!-- 0 -->\n      <g transform=\"translate(99.846165 269.275) scale(0.1 -0.1)\">\n       <use xlink:href=\"#DejaVuSans-30\"/>\n      </g>\n     </g>\n    </g>\n    <g id=\"xtick_18\">\n     <g id=\"line2d_38\">\n      <g>\n       <use xlink:href=\"#m036055d8f2\" x=\"141.457167\" y=\"254.676562\" style=\"stroke: #000000; stroke-width: 0.8\"/>\n      </g>\n     </g>\n     <g id=\"text_43\">\n      <!-- 100000 -->\n      <g transform=\"translate(122.369667 269.275) scale(0.1 -0.1)\">\n       <use xlink:href=\"#DejaVuSans-31\"/>\n       <use xlink:href=\"#DejaVuSans-30\" transform=\"translate(63.623047 0)\"/>\n       <use xlink:href=\"#DejaVuSans-30\" transform=\"translate(127.246094 0)\"/>\n       <use xlink:href=\"#DejaVuSans-30\" transform=\"translate(190.869141 0)\"/>\n       <use xlink:href=\"#DejaVuSans-30\" transform=\"translate(254.492188 0)\"/>\n       <use xlink:href=\"#DejaVuSans-30\" transform=\"translate(318.115234 0)\"/>\n      </g>\n     </g>\n    </g>\n   </g>\n   <g id=\"matplotlib.axis_12\">\n    <g id=\"ytick_16\">\n     <g id=\"line2d_39\">\n      <g>\n       <use xlink:href=\"#m2f7e54e4f4\" x=\"60.754688\" y=\"250.476562\" style=\"stroke: #000000; stroke-width: 0.8\"/>\n      </g>\n     </g>\n     <g id=\"text_44\">\n      <!-- −100000 -->\n      <g transform=\"translate(7.2 254.275781) scale(0.1 -0.1)\">\n       <use xlink:href=\"#DejaVuSans-2212\"/>\n       <use xlink:href=\"#DejaVuSans-31\" transform=\"translate(83.789062 0)\"/>\n       <use xlink:href=\"#DejaVuSans-30\" transform=\"translate(147.412109 0)\"/>\n       <use xlink:href=\"#DejaVuSans-30\" transform=\"translate(211.035156 0)\"/>\n       <use xlink:href=\"#DejaVuSans-30\" transform=\"translate(274.658203 0)\"/>\n       <use xlink:href=\"#DejaVuSans-30\" transform=\"translate(338.28125 0)\"/>\n       <use xlink:href=\"#DejaVuSans-30\" transform=\"translate(401.904297 0)\"/>\n      </g>\n     </g>\n    </g>\n    <g id=\"ytick_17\">\n     <g id=\"line2d_40\">\n      <g>\n       <use xlink:href=\"#m2f7e54e4f4\" x=\"60.754688\" y=\"208.476562\" style=\"stroke: #000000; stroke-width: 0.8\"/>\n      </g>\n     </g>\n     <g id=\"text_45\">\n      <!-- 0 -->\n      <g transform=\"translate(47.392188 212.275781) scale(0.1 -0.1)\">\n       <use xlink:href=\"#DejaVuSans-30\"/>\n      </g>\n     </g>\n    </g>\n    <g id=\"ytick_18\">\n     <g id=\"line2d_41\">\n      <g>\n       <use xlink:href=\"#m2f7e54e4f4\" x=\"60.754688\" y=\"166.476562\" style=\"stroke: #000000; stroke-width: 0.8\"/>\n      </g>\n     </g>\n     <g id=\"text_46\">\n      <!-- 100000 -->\n      <g transform=\"translate(15.579687 170.275781) scale(0.1 -0.1)\">\n       <use xlink:href=\"#DejaVuSans-31\"/>\n       <use xlink:href=\"#DejaVuSans-30\" transform=\"translate(63.623047 0)\"/>\n       <use xlink:href=\"#DejaVuSans-30\" transform=\"translate(127.246094 0)\"/>\n       <use xlink:href=\"#DejaVuSans-30\" transform=\"translate(190.869141 0)\"/>\n       <use xlink:href=\"#DejaVuSans-30\" transform=\"translate(254.492188 0)\"/>\n       <use xlink:href=\"#DejaVuSans-30\" transform=\"translate(318.115234 0)\"/>\n      </g>\n     </g>\n    </g>\n   </g>\n   <g id=\"line2d_42\">\n    <path d=\"M 64.597663 250.476562 \nL 66.166224 248.762277 \nL 67.734785 247.047991 \nL 69.303347 245.333705 \nL 70.871908 243.61942 \nL 72.440469 241.905134 \nL 74.009031 240.190848 \nL 75.577592 238.476562 \nL 77.146153 236.762277 \nL 78.714714 235.047991 \nL 80.283276 233.333705 \nL 81.851837 231.61942 \nL 83.420398 229.905134 \nL 84.98896 228.190848 \nL 86.557521 226.476562 \nL 88.126082 224.762277 \nL 89.694644 223.047991 \nL 91.263205 221.333705 \nL 92.831766 219.61942 \nL 94.400328 217.905134 \nL 95.968889 216.190848 \nL 97.53745 214.476562 \nL 99.106012 212.762277 \nL 100.674573 211.047991 \nL 102.243134 209.333705 \nL 103.811695 207.61942 \nL 105.380257 205.905134 \nL 106.948818 204.190848 \nL 108.517379 202.476562 \nL 110.085941 200.762277 \nL 111.654502 199.047991 \nL 113.223063 197.333705 \nL 114.791625 195.61942 \nL 116.360186 193.905134 \nL 117.928747 192.190848 \nL 119.497309 190.476562 \nL 121.06587 188.762277 \nL 122.634431 187.047991 \nL 124.202992 185.333705 \nL 125.771554 183.61942 \nL 127.340115 181.905134 \nL 128.908676 180.190848 \nL 130.477238 178.476562 \nL 132.045799 176.762277 \nL 133.61436 175.047991 \nL 135.182922 173.333705 \nL 136.751483 171.61942 \nL 138.320044 169.905134 \nL 139.888606 168.190848 \nL 141.457167 166.476562 \n\" clip-path=\"url(#pbde6a76150)\" style=\"fill: none; stroke: #1f77b4; stroke-width: 1.5; stroke-linecap: square\"/>\n   </g>\n   <g id=\"patch_28\">\n    <path d=\"M 60.754688 254.676562 \nL 60.754688 162.276563 \n\" style=\"fill: none; stroke: #000000; stroke-width: 0.8; stroke-linejoin: miter; stroke-linecap: square\"/>\n   </g>\n   <g id=\"patch_29\">\n    <path d=\"M 145.300142 254.676562 \nL 145.300142 162.276563 \n\" style=\"fill: none; stroke: #000000; stroke-width: 0.8; stroke-linejoin: miter; stroke-linecap: square\"/>\n   </g>\n   <g id=\"patch_30\">\n    <path d=\"M 60.754687 254.676562 \nL 145.300142 254.676562 \n\" style=\"fill: none; stroke: #000000; stroke-width: 0.8; stroke-linejoin: miter; stroke-linecap: square\"/>\n   </g>\n   <g id=\"patch_31\">\n    <path d=\"M 60.754687 162.276563 \nL 145.300142 162.276563 \n\" style=\"fill: none; stroke: #000000; stroke-width: 0.8; stroke-linejoin: miter; stroke-linecap: square\"/>\n   </g>\n   <g id=\"text_47\">\n    <!-- $x$ -->\n    <g transform=\"translate(99.427415 156.276563) scale(0.12 -0.12)\">\n     <use xlink:href=\"#DejaVuSans-Oblique-78\" transform=\"translate(0 0.3125)\"/>\n    </g>\n   </g>\n  </g>\n  <g id=\"axes_7\">\n   <g id=\"patch_32\">\n    <path d=\"M 179.118324 254.676562 \nL 263.663778 254.676562 \nL 263.663778 162.276563 \nL 179.118324 162.276563 \nz\n\" style=\"fill: #ffffff\"/>\n   </g>\n   <g id=\"matplotlib.axis_13\">\n    <g id=\"xtick_19\">\n     <g id=\"line2d_43\">\n      <g>\n       <use xlink:href=\"#m036055d8f2\" x=\"182.961299\" y=\"254.676562\" style=\"stroke: #000000; stroke-width: 0.8\"/>\n      </g>\n     </g>\n     <g id=\"text_48\">\n      <!-- −100000 -->\n      <g transform=\"translate(159.683955 269.275) scale(0.1 -0.1)\">\n       <use xlink:href=\"#DejaVuSans-2212\"/>\n       <use xlink:href=\"#DejaVuSans-31\" transform=\"translate(83.789062 0)\"/>\n       <use xlink:href=\"#DejaVuSans-30\" transform=\"translate(147.412109 0)\"/>\n       <use xlink:href=\"#DejaVuSans-30\" transform=\"translate(211.035156 0)\"/>\n       <use xlink:href=\"#DejaVuSans-30\" transform=\"translate(274.658203 0)\"/>\n       <use xlink:href=\"#DejaVuSans-30\" transform=\"translate(338.28125 0)\"/>\n       <use xlink:href=\"#DejaVuSans-30\" transform=\"translate(401.904297 0)\"/>\n      </g>\n     </g>\n    </g>\n    <g id=\"xtick_20\">\n     <g id=\"line2d_44\">\n      <g>\n       <use xlink:href=\"#m036055d8f2\" x=\"221.391051\" y=\"254.676562\" style=\"stroke: #000000; stroke-width: 0.8\"/>\n      </g>\n     </g>\n     <g id=\"text_49\">\n      <!-- 0 -->\n      <g transform=\"translate(218.209801 269.275) scale(0.1 -0.1)\">\n       <use xlink:href=\"#DejaVuSans-30\"/>\n      </g>\n     </g>\n    </g>\n    <g id=\"xtick_21\">\n     <g id=\"line2d_45\">\n      <g>\n       <use xlink:href=\"#m036055d8f2\" x=\"259.820803\" y=\"254.676562\" style=\"stroke: #000000; stroke-width: 0.8\"/>\n      </g>\n     </g>\n     <g id=\"text_50\">\n      <!-- 100000 -->\n      <g transform=\"translate(240.733303 269.275) scale(0.1 -0.1)\">\n       <use xlink:href=\"#DejaVuSans-31\"/>\n       <use xlink:href=\"#DejaVuSans-30\" transform=\"translate(63.623047 0)\"/>\n       <use xlink:href=\"#DejaVuSans-30\" transform=\"translate(127.246094 0)\"/>\n       <use xlink:href=\"#DejaVuSans-30\" transform=\"translate(190.869141 0)\"/>\n       <use xlink:href=\"#DejaVuSans-30\" transform=\"translate(254.492188 0)\"/>\n       <use xlink:href=\"#DejaVuSans-30\" transform=\"translate(318.115234 0)\"/>\n      </g>\n     </g>\n    </g>\n   </g>\n   <g id=\"matplotlib.axis_14\">\n    <g id=\"ytick_19\">\n     <g id=\"line2d_46\">\n      <g>\n       <use xlink:href=\"#m2f7e54e4f4\" x=\"179.118324\" y=\"250.476571\" style=\"stroke: #000000; stroke-width: 0.8\"/>\n      </g>\n     </g>\n     <g id=\"text_51\">\n      <!-- −1.0 -->\n      <g transform=\"translate(147.835511 254.27579) scale(0.1 -0.1)\">\n       <use xlink:href=\"#DejaVuSans-2212\"/>\n       <use xlink:href=\"#DejaVuSans-31\" transform=\"translate(83.789062 0)\"/>\n       <use xlink:href=\"#DejaVuSans-2e\" transform=\"translate(147.412109 0)\"/>\n       <use xlink:href=\"#DejaVuSans-30\" transform=\"translate(179.199219 0)\"/>\n      </g>\n     </g>\n    </g>\n    <g id=\"ytick_20\">\n     <g id=\"line2d_47\">\n      <g>\n       <use xlink:href=\"#m2f7e54e4f4\" x=\"179.118324\" y=\"208.476559\" style=\"stroke: #000000; stroke-width: 0.8\"/>\n      </g>\n     </g>\n     <g id=\"text_52\">\n      <!-- −0.5 -->\n      <g transform=\"translate(147.835511 212.275778) scale(0.1 -0.1)\">\n       <use xlink:href=\"#DejaVuSans-2212\"/>\n       <use xlink:href=\"#DejaVuSans-30\" transform=\"translate(83.789062 0)\"/>\n       <use xlink:href=\"#DejaVuSans-2e\" transform=\"translate(147.412109 0)\"/>\n       <use xlink:href=\"#DejaVuSans-35\" transform=\"translate(179.199219 0)\"/>\n      </g>\n     </g>\n    </g>\n    <g id=\"ytick_21\">\n     <g id=\"line2d_48\">\n      <g>\n       <use xlink:href=\"#m2f7e54e4f4\" x=\"179.118324\" y=\"166.476548\" style=\"stroke: #000000; stroke-width: 0.8\"/>\n      </g>\n     </g>\n     <g id=\"text_53\">\n      <!-- 0.0 -->\n      <g transform=\"translate(156.215199 170.275767) scale(0.1 -0.1)\">\n       <use xlink:href=\"#DejaVuSans-30\"/>\n       <use xlink:href=\"#DejaVuSans-2e\" transform=\"translate(63.623047 0)\"/>\n       <use xlink:href=\"#DejaVuSans-30\" transform=\"translate(95.410156 0)\"/>\n      </g>\n     </g>\n    </g>\n    <g id=\"text_54\">\n     <!-- 1e20 -->\n     <g transform=\"translate(179.118324 159.276563) scale(0.1 -0.1)\">\n      <use xlink:href=\"#DejaVuSans-31\"/>\n      <use xlink:href=\"#DejaVuSans-65\" transform=\"translate(63.623047 0)\"/>\n      <use xlink:href=\"#DejaVuSans-32\" transform=\"translate(125.146484 0)\"/>\n      <use xlink:href=\"#DejaVuSans-30\" transform=\"translate(188.769531 0)\"/>\n     </g>\n    </g>\n   </g>\n   <g id=\"line2d_49\">\n    <path d=\"M 182.961299 250.476562 \nL 184.52986 237.57931 \nL 186.098422 226.227536 \nL 187.666983 216.292548 \nL 189.235544 207.651248 \nL 190.804106 200.186136 \nL 192.372667 193.785303 \nL 193.941228 188.342439 \nL 195.50979 183.756827 \nL 197.078351 179.933346 \nL 198.646912 176.782472 \nL 200.215473 174.220274 \nL 201.784035 172.168418 \nL 203.352596 170.554163 \nL 204.921157 169.310366 \nL 206.489719 168.375479 \nL 208.05828 167.693547 \nL 209.626841 167.214214 \nL 211.195403 166.892715 \nL 212.763964 166.689884 \nL 214.332525 166.572149 \nL 215.901087 166.511533 \nL 217.469648 166.485655 \nL 219.038209 166.477728 \nL 220.60677 166.476563 \nL 222.175332 166.476563 \nL 223.743893 166.477728 \nL 225.312454 166.485655 \nL 226.881016 166.511533 \nL 228.449577 166.572149 \nL 230.018138 166.689884 \nL 231.5867 166.892715 \nL 233.155261 167.214214 \nL 234.723822 167.693547 \nL 236.292384 168.375479 \nL 237.860945 169.310366 \nL 239.429506 170.554163 \nL 240.998067 172.168418 \nL 242.566629 174.220274 \nL 244.13519 176.782472 \nL 245.703751 179.933346 \nL 247.272313 183.756827 \nL 248.840874 188.342439 \nL 250.409435 193.785303 \nL 251.977997 200.186136 \nL 253.546558 207.651248 \nL 255.115119 216.292548 \nL 256.683681 226.227536 \nL 258.252242 237.57931 \nL 259.820803 250.476562 \n\" clip-path=\"url(#p4e5728ee91)\" style=\"fill: none; stroke: #1f77b4; stroke-width: 1.5; stroke-linecap: square\"/>\n   </g>\n   <g id=\"patch_33\">\n    <path d=\"M 179.118324 254.676562 \nL 179.118324 162.276563 \n\" style=\"fill: none; stroke: #000000; stroke-width: 0.8; stroke-linejoin: miter; stroke-linecap: square\"/>\n   </g>\n   <g id=\"patch_34\">\n    <path d=\"M 263.663778 254.676562 \nL 263.663778 162.276563 \n\" style=\"fill: none; stroke: #000000; stroke-width: 0.8; stroke-linejoin: miter; stroke-linecap: square\"/>\n   </g>\n   <g id=\"patch_35\">\n    <path d=\"M 179.118324 254.676562 \nL 263.663778 254.676562 \n\" style=\"fill: none; stroke: #000000; stroke-width: 0.8; stroke-linejoin: miter; stroke-linecap: square\"/>\n   </g>\n   <g id=\"patch_36\">\n    <path d=\"M 179.118324 162.276563 \nL 263.663778 162.276563 \n\" style=\"fill: none; stroke: #000000; stroke-width: 0.8; stroke-linejoin: miter; stroke-linecap: square\"/>\n   </g>\n   <g id=\"text_55\">\n    <!-- $1000x^2 - x^4$ -->\n    <g transform=\"translate(185.391051 145.678125) scale(0.12 -0.12)\">\n     <use xlink:href=\"#DejaVuSans-31\" transform=\"translate(0 0.765625)\"/>\n     <use xlink:href=\"#DejaVuSans-30\" transform=\"translate(63.623047 0.765625)\"/>\n     <use xlink:href=\"#DejaVuSans-30\" transform=\"translate(127.246094 0.765625)\"/>\n     <use xlink:href=\"#DejaVuSans-30\" transform=\"translate(190.869141 0.765625)\"/>\n     <use xlink:href=\"#DejaVuSans-Oblique-78\" transform=\"translate(254.492188 0.765625)\"/>\n     <use xlink:href=\"#DejaVuSans-32\" transform=\"translate(318.138021 39.046875) scale(0.7)\"/>\n     <use xlink:href=\"#DejaVuSans-2212\" transform=\"translate(384.890951 0.765625)\"/>\n     <use xlink:href=\"#DejaVuSans-Oblique-78\" transform=\"translate(488.162435 0.765625)\"/>\n     <use xlink:href=\"#DejaVuSans-34\" transform=\"translate(551.808268 39.046875) scale(0.7)\"/>\n    </g>\n   </g>\n  </g>\n  <g id=\"axes_8\">\n   <g id=\"patch_37\">\n    <path d=\"M 297.48196 254.676562 \nL 382.027415 254.676562 \nL 382.027415 162.276563 \nL 297.48196 162.276563 \nz\n\" style=\"fill: #ffffff\"/>\n   </g>\n   <g id=\"matplotlib.axis_15\">\n    <g id=\"xtick_22\">\n     <g id=\"line2d_50\">\n      <g>\n       <use xlink:href=\"#m036055d8f2\" x=\"301.324935\" y=\"254.676562\" style=\"stroke: #000000; stroke-width: 0.8\"/>\n      </g>\n     </g>\n     <g id=\"text_56\">\n      <!-- −100000 -->\n      <g transform=\"translate(278.047592 269.275) scale(0.1 -0.1)\">\n       <use xlink:href=\"#DejaVuSans-2212\"/>\n       <use xlink:href=\"#DejaVuSans-31\" transform=\"translate(83.789062 0)\"/>\n       <use xlink:href=\"#DejaVuSans-30\" transform=\"translate(147.412109 0)\"/>\n       <use xlink:href=\"#DejaVuSans-30\" transform=\"translate(211.035156 0)\"/>\n       <use xlink:href=\"#DejaVuSans-30\" transform=\"translate(274.658203 0)\"/>\n       <use xlink:href=\"#DejaVuSans-30\" transform=\"translate(338.28125 0)\"/>\n       <use xlink:href=\"#DejaVuSans-30\" transform=\"translate(401.904297 0)\"/>\n      </g>\n     </g>\n    </g>\n    <g id=\"xtick_23\">\n     <g id=\"line2d_51\">\n      <g>\n       <use xlink:href=\"#m036055d8f2\" x=\"339.754688\" y=\"254.676562\" style=\"stroke: #000000; stroke-width: 0.8\"/>\n      </g>\n     </g>\n     <g id=\"text_57\">\n      <!-- 0 -->\n      <g transform=\"translate(336.573438 269.275) scale(0.1 -0.1)\">\n       <use xlink:href=\"#DejaVuSans-30\"/>\n      </g>\n     </g>\n    </g>\n    <g id=\"xtick_24\">\n     <g id=\"line2d_52\">\n      <g>\n       <use xlink:href=\"#m036055d8f2\" x=\"378.18444\" y=\"254.676562\" style=\"stroke: #000000; stroke-width: 0.8\"/>\n      </g>\n     </g>\n     <g id=\"text_58\">\n      <!-- 100000 -->\n      <g transform=\"translate(359.09694 269.275) scale(0.1 -0.1)\">\n       <use xlink:href=\"#DejaVuSans-31\"/>\n       <use xlink:href=\"#DejaVuSans-30\" transform=\"translate(63.623047 0)\"/>\n       <use xlink:href=\"#DejaVuSans-30\" transform=\"translate(127.246094 0)\"/>\n       <use xlink:href=\"#DejaVuSans-30\" transform=\"translate(190.869141 0)\"/>\n       <use xlink:href=\"#DejaVuSans-30\" transform=\"translate(254.492188 0)\"/>\n       <use xlink:href=\"#DejaVuSans-30\" transform=\"translate(318.115234 0)\"/>\n      </g>\n     </g>\n    </g>\n   </g>\n   <g id=\"matplotlib.axis_16\">\n    <g id=\"ytick_22\">\n     <g id=\"line2d_53\">\n      <g>\n       <use xlink:href=\"#m2f7e54e4f4\" x=\"297.48196\" y=\"251.333705\" style=\"stroke: #000000; stroke-width: 0.8\"/>\n      </g>\n     </g>\n     <g id=\"text_59\">\n      <!-- −0.0005 -->\n      <g transform=\"translate(247.111648 255.132924) scale(0.1 -0.1)\">\n       <use xlink:href=\"#DejaVuSans-2212\"/>\n       <use xlink:href=\"#DejaVuSans-30\" transform=\"translate(83.789062 0)\"/>\n       <use xlink:href=\"#DejaVuSans-2e\" transform=\"translate(147.412109 0)\"/>\n       <use xlink:href=\"#DejaVuSans-30\" transform=\"translate(179.199219 0)\"/>\n       <use xlink:href=\"#DejaVuSans-30\" transform=\"translate(242.822266 0)\"/>\n       <use xlink:href=\"#DejaVuSans-30\" transform=\"translate(306.445312 0)\"/>\n       <use xlink:href=\"#DejaVuSans-35\" transform=\"translate(370.068359 0)\"/>\n      </g>\n     </g>\n    </g>\n    <g id=\"ytick_23\">\n     <g id=\"line2d_54\">\n      <g>\n       <use xlink:href=\"#m2f7e54e4f4\" x=\"297.48196\" y=\"208.476562\" style=\"stroke: #000000; stroke-width: 0.8\"/>\n      </g>\n     </g>\n     <g id=\"text_60\">\n      <!-- 0.0000 -->\n      <g transform=\"translate(255.491335 212.275781) scale(0.1 -0.1)\">\n       <use xlink:href=\"#DejaVuSans-30\"/>\n       <use xlink:href=\"#DejaVuSans-2e\" transform=\"translate(63.623047 0)\"/>\n       <use xlink:href=\"#DejaVuSans-30\" transform=\"translate(95.410156 0)\"/>\n       <use xlink:href=\"#DejaVuSans-30\" transform=\"translate(159.033203 0)\"/>\n       <use xlink:href=\"#DejaVuSans-30\" transform=\"translate(222.65625 0)\"/>\n       <use xlink:href=\"#DejaVuSans-30\" transform=\"translate(286.279297 0)\"/>\n      </g>\n     </g>\n    </g>\n    <g id=\"ytick_24\">\n     <g id=\"line2d_55\">\n      <g>\n       <use xlink:href=\"#m2f7e54e4f4\" x=\"297.48196\" y=\"165.61942\" style=\"stroke: #000000; stroke-width: 0.8\"/>\n      </g>\n     </g>\n     <g id=\"text_61\">\n      <!-- 0.0005 -->\n      <g transform=\"translate(255.491335 169.418638) scale(0.1 -0.1)\">\n       <use xlink:href=\"#DejaVuSans-30\"/>\n       <use xlink:href=\"#DejaVuSans-2e\" transform=\"translate(63.623047 0)\"/>\n       <use xlink:href=\"#DejaVuSans-30\" transform=\"translate(95.410156 0)\"/>\n       <use xlink:href=\"#DejaVuSans-30\" transform=\"translate(159.033203 0)\"/>\n       <use xlink:href=\"#DejaVuSans-30\" transform=\"translate(222.65625 0)\"/>\n       <use xlink:href=\"#DejaVuSans-35\" transform=\"translate(286.279297 0)\"/>\n      </g>\n     </g>\n    </g>\n   </g>\n   <g id=\"line2d_56\">\n    <path d=\"M 340.538968 166.476562 \nL 342.107529 194.476562 \nL 343.676091 200.076562 \nL 345.244652 202.476562 \nL 346.813213 203.809896 \nL 348.381775 204.658381 \nL 349.950336 205.245793 \nL 351.518897 205.676562 \nL 353.087459 206.005974 \nL 354.65602 206.266036 \nL 356.224581 206.476562 \nL 357.793143 206.650476 \nL 359.361704 206.796562 \nL 360.930265 206.921007 \nL 362.498826 207.028287 \nL 364.067388 207.121724 \nL 365.635949 207.203835 \nL 367.20451 207.276562 \nL 368.773072 207.341427 \nL 370.341633 207.399639 \nL 371.910194 207.452172 \nL 373.478756 207.499818 \nL 375.047317 207.543229 \nL 376.615878 207.582945 \nL 378.18444 207.61942 \n\" clip-path=\"url(#pee8732fa3c)\" style=\"fill: none; stroke: #1f77b4; stroke-width: 1.5; stroke-linecap: square\"/>\n   </g>\n   <g id=\"line2d_57\">\n    <path d=\"M 301.324935 209.333705 \nL 302.893497 209.37018 \nL 304.462058 209.409896 \nL 306.030619 209.453307 \nL 307.599181 209.500953 \nL 309.167742 209.553486 \nL 310.736303 209.611698 \nL 312.304865 209.676562 \nL 313.873426 209.74929 \nL 315.441987 209.831401 \nL 317.010549 209.924838 \nL 318.57911 210.032118 \nL 320.147671 210.156562 \nL 321.716232 210.302649 \nL 323.284794 210.476562 \nL 324.853355 210.687089 \nL 326.421916 210.947151 \nL 327.990478 211.276562 \nL 329.559039 211.707332 \nL 331.1276 212.294744 \nL 332.696162 213.143229 \nL 334.264723 214.476562 \nL 335.833284 216.876562 \nL 337.401846 222.476562 \nL 338.970407 250.476562 \n\" clip-path=\"url(#pee8732fa3c)\" style=\"fill: none; stroke: #1f77b4; stroke-width: 1.5; stroke-linecap: square\"/>\n   </g>\n   <g id=\"patch_38\">\n    <path d=\"M 297.48196 254.676562 \nL 297.48196 162.276562 \n\" style=\"fill: none; stroke: #000000; stroke-width: 0.8; stroke-linejoin: miter; stroke-linecap: square\"/>\n   </g>\n   <g id=\"patch_39\">\n    <path d=\"M 382.027415 254.676562 \nL 382.027415 162.276562 \n\" style=\"fill: none; stroke: #000000; stroke-width: 0.8; stroke-linejoin: miter; stroke-linecap: square\"/>\n   </g>\n   <g id=\"patch_40\">\n    <path d=\"M 297.48196 254.676562 \nL 382.027415 254.676562 \n\" style=\"fill: none; stroke: #000000; stroke-width: 0.8; stroke-linejoin: miter; stroke-linecap: square\"/>\n   </g>\n   <g id=\"patch_41\">\n    <path d=\"M 297.48196 162.276563 \nL 382.027415 162.276563 \n\" style=\"fill: none; stroke: #000000; stroke-width: 0.8; stroke-linejoin: miter; stroke-linecap: square\"/>\n   </g>\n   <g id=\"text_62\">\n    <!-- $1/x$ -->\n    <g transform=\"translate(330.334688 156.276563) scale(0.12 -0.12)\">\n     <defs>\n      <path id=\"DejaVuSans-2f\" d=\"M 1625 4666 \nL 2156 4666 \nL 531 -594 \nL 0 -594 \nL 1625 4666 \nz\n\" transform=\"scale(0.015625)\"/>\n     </defs>\n     <use xlink:href=\"#DejaVuSans-31\" transform=\"translate(0 0.09375)\"/>\n     <use xlink:href=\"#DejaVuSans-2f\" transform=\"translate(63.623047 0.09375)\"/>\n     <use xlink:href=\"#DejaVuSans-Oblique-78\" transform=\"translate(97.314453 0.09375)\"/>\n    </g>\n   </g>\n  </g>\n  <g id=\"axes_9\">\n   <g id=\"patch_42\">\n    <path d=\"M 415.845597 254.676562 \nL 500.391051 254.676562 \nL 500.391051 162.276563 \nL 415.845597 162.276563 \nz\n\" style=\"fill: #ffffff\"/>\n   </g>\n   <g id=\"matplotlib.axis_17\">\n    <g id=\"xtick_25\">\n     <g id=\"line2d_58\">\n      <g>\n       <use xlink:href=\"#m036055d8f2\" x=\"419.688572\" y=\"254.676562\" style=\"stroke: #000000; stroke-width: 0.8\"/>\n      </g>\n     </g>\n     <g id=\"text_63\">\n      <!-- −100000 -->\n      <g transform=\"translate(396.411228 269.275) scale(0.1 -0.1)\">\n       <use xlink:href=\"#DejaVuSans-2212\"/>\n       <use xlink:href=\"#DejaVuSans-31\" transform=\"translate(83.789062 0)\"/>\n       <use xlink:href=\"#DejaVuSans-30\" transform=\"translate(147.412109 0)\"/>\n       <use xlink:href=\"#DejaVuSans-30\" transform=\"translate(211.035156 0)\"/>\n       <use xlink:href=\"#DejaVuSans-30\" transform=\"translate(274.658203 0)\"/>\n       <use xlink:href=\"#DejaVuSans-30\" transform=\"translate(338.28125 0)\"/>\n       <use xlink:href=\"#DejaVuSans-30\" transform=\"translate(401.904297 0)\"/>\n      </g>\n     </g>\n    </g>\n    <g id=\"xtick_26\">\n     <g id=\"line2d_59\">\n      <g>\n       <use xlink:href=\"#m036055d8f2\" x=\"458.118324\" y=\"254.676562\" style=\"stroke: #000000; stroke-width: 0.8\"/>\n      </g>\n     </g>\n     <g id=\"text_64\">\n      <!-- 0 -->\n      <g transform=\"translate(454.937074 269.275) scale(0.1 -0.1)\">\n       <use xlink:href=\"#DejaVuSans-30\"/>\n      </g>\n     </g>\n    </g>\n    <g id=\"xtick_27\">\n     <g id=\"line2d_60\">\n      <g>\n       <use xlink:href=\"#m036055d8f2\" x=\"496.548076\" y=\"254.676562\" style=\"stroke: #000000; stroke-width: 0.8\"/>\n      </g>\n     </g>\n     <g id=\"text_65\">\n      <!-- 100000 -->\n      <g transform=\"translate(477.460576 269.275) scale(0.1 -0.1)\">\n       <use xlink:href=\"#DejaVuSans-31\"/>\n       <use xlink:href=\"#DejaVuSans-30\" transform=\"translate(63.623047 0)\"/>\n       <use xlink:href=\"#DejaVuSans-30\" transform=\"translate(127.246094 0)\"/>\n       <use xlink:href=\"#DejaVuSans-30\" transform=\"translate(190.869141 0)\"/>\n       <use xlink:href=\"#DejaVuSans-30\" transform=\"translate(254.492188 0)\"/>\n       <use xlink:href=\"#DejaVuSans-30\" transform=\"translate(318.115234 0)\"/>\n      </g>\n     </g>\n    </g>\n   </g>\n   <g id=\"matplotlib.axis_18\">\n    <g id=\"ytick_25\">\n     <g id=\"line2d_61\">\n      <g>\n       <use xlink:href=\"#m2f7e54e4f4\" x=\"415.845597\" y=\"250.476562\" style=\"stroke: #000000; stroke-width: 0.8\"/>\n      </g>\n     </g>\n     <g id=\"text_66\">\n      <!-- −100000 -->\n      <g transform=\"translate(362.290909 254.275781) scale(0.1 -0.1)\">\n       <use xlink:href=\"#DejaVuSans-2212\"/>\n       <use xlink:href=\"#DejaVuSans-31\" transform=\"translate(83.789062 0)\"/>\n       <use xlink:href=\"#DejaVuSans-30\" transform=\"translate(147.412109 0)\"/>\n       <use xlink:href=\"#DejaVuSans-30\" transform=\"translate(211.035156 0)\"/>\n       <use xlink:href=\"#DejaVuSans-30\" transform=\"translate(274.658203 0)\"/>\n       <use xlink:href=\"#DejaVuSans-30\" transform=\"translate(338.28125 0)\"/>\n       <use xlink:href=\"#DejaVuSans-30\" transform=\"translate(401.904297 0)\"/>\n      </g>\n     </g>\n    </g>\n    <g id=\"ytick_26\">\n     <g id=\"line2d_62\">\n      <g>\n       <use xlink:href=\"#m2f7e54e4f4\" x=\"415.845597\" y=\"208.476562\" style=\"stroke: #000000; stroke-width: 0.8\"/>\n      </g>\n     </g>\n     <g id=\"text_67\">\n      <!-- 0 -->\n      <g transform=\"translate(402.483097 212.275781) scale(0.1 -0.1)\">\n       <use xlink:href=\"#DejaVuSans-30\"/>\n      </g>\n     </g>\n    </g>\n    <g id=\"ytick_27\">\n     <g id=\"line2d_63\">\n      <g>\n       <use xlink:href=\"#m2f7e54e4f4\" x=\"415.845597\" y=\"166.476562\" style=\"stroke: #000000; stroke-width: 0.8\"/>\n      </g>\n     </g>\n     <g id=\"text_68\">\n      <!-- 100000 -->\n      <g transform=\"translate(370.670597 170.275781) scale(0.1 -0.1)\">\n       <use xlink:href=\"#DejaVuSans-31\"/>\n       <use xlink:href=\"#DejaVuSans-30\" transform=\"translate(63.623047 0)\"/>\n       <use xlink:href=\"#DejaVuSans-30\" transform=\"translate(127.246094 0)\"/>\n       <use xlink:href=\"#DejaVuSans-30\" transform=\"translate(190.869141 0)\"/>\n       <use xlink:href=\"#DejaVuSans-30\" transform=\"translate(254.492188 0)\"/>\n       <use xlink:href=\"#DejaVuSans-30\" transform=\"translate(318.115234 0)\"/>\n      </g>\n     </g>\n    </g>\n   </g>\n   <g id=\"line2d_64\">\n    <path d=\"M 419.688572 166.476562 \nL 421.257133 168.190848 \nL 422.825694 169.905134 \nL 424.394256 171.61942 \nL 425.962817 173.333705 \nL 427.531378 175.047991 \nL 429.09994 176.762277 \nL 430.668501 178.476562 \nL 432.237062 180.190848 \nL 433.805624 181.905134 \nL 435.374185 183.61942 \nL 436.942746 185.333705 \nL 438.511308 187.047991 \nL 440.079869 188.762277 \nL 441.64843 190.476562 \nL 443.216991 192.190848 \nL 444.785553 193.905134 \nL 446.354114 195.61942 \nL 447.922675 197.333705 \nL 449.491237 199.047991 \nL 451.059798 200.762277 \nL 452.628359 202.476562 \nL 454.196921 204.190848 \nL 455.765482 205.905134 \nL 457.334043 207.61942 \nL 458.902605 209.333705 \nL 460.471166 211.047991 \nL 462.039727 212.762277 \nL 463.608288 214.476562 \nL 465.17685 216.190848 \nL 466.745411 217.905134 \nL 468.313972 219.61942 \nL 469.882534 221.333705 \nL 471.451095 223.047991 \nL 473.019656 224.762277 \nL 474.588218 226.476562 \nL 476.156779 228.190848 \nL 477.72534 229.905134 \nL 479.293902 231.61942 \nL 480.862463 233.333705 \nL 482.431024 235.047991 \nL 483.999585 236.762277 \nL 485.568147 238.476562 \nL 487.136708 240.190848 \nL 488.705269 241.905134 \nL 490.273831 243.61942 \nL 491.842392 245.333705 \nL 493.410953 247.047991 \nL 494.979515 248.762277 \nL 496.548076 250.476562 \n\" clip-path=\"url(#p9604bae231)\" style=\"fill: none; stroke: #1f77b4; stroke-width: 1.5; stroke-linecap: square\"/>\n   </g>\n   <g id=\"patch_43\">\n    <path d=\"M 415.845597 254.676562 \nL 415.845597 162.276563 \n\" style=\"fill: none; stroke: #000000; stroke-width: 0.8; stroke-linejoin: miter; stroke-linecap: square\"/>\n   </g>\n   <g id=\"patch_44\">\n    <path d=\"M 500.391051 254.676562 \nL 500.391051 162.276563 \n\" style=\"fill: none; stroke: #000000; stroke-width: 0.8; stroke-linejoin: miter; stroke-linecap: square\"/>\n   </g>\n   <g id=\"patch_45\">\n    <path d=\"M 415.845597 254.676562 \nL 500.391051 254.676562 \n\" style=\"fill: none; stroke: #000000; stroke-width: 0.8; stroke-linejoin: miter; stroke-linecap: square\"/>\n   </g>\n   <g id=\"patch_46\">\n    <path d=\"M 415.845597 162.276563 \nL 500.391051 162.276563 \n\" style=\"fill: none; stroke: #000000; stroke-width: 0.8; stroke-linejoin: miter; stroke-linecap: square\"/>\n   </g>\n   <g id=\"text_69\">\n    <!-- $-x$ -->\n    <g transform=\"translate(449.538324 156.276563) scale(0.12 -0.12)\">\n     <use xlink:href=\"#DejaVuSans-2212\" transform=\"translate(0 0.3125)\"/>\n     <use xlink:href=\"#DejaVuSans-Oblique-78\" transform=\"translate(83.789062 0.3125)\"/>\n    </g>\n   </g>\n  </g>\n  <g id=\"axes_10\">\n   <g id=\"patch_47\">\n    <path d=\"M 534.209233 254.676562 \nL 618.754688 254.676562 \nL 618.754688 162.276563 \nL 534.209233 162.276563 \nz\n\" style=\"fill: #ffffff\"/>\n   </g>\n   <g id=\"matplotlib.axis_19\">\n    <g id=\"xtick_28\">\n     <g id=\"line2d_65\">\n      <g>\n       <use xlink:href=\"#m036055d8f2\" x=\"538.052208\" y=\"254.676562\" style=\"stroke: #000000; stroke-width: 0.8\"/>\n      </g>\n     </g>\n     <g id=\"text_70\">\n      <!-- −100000 -->\n      <g transform=\"translate(514.774864 269.275) scale(0.1 -0.1)\">\n       <use xlink:href=\"#DejaVuSans-2212\"/>\n       <use xlink:href=\"#DejaVuSans-31\" transform=\"translate(83.789062 0)\"/>\n       <use xlink:href=\"#DejaVuSans-30\" transform=\"translate(147.412109 0)\"/>\n       <use xlink:href=\"#DejaVuSans-30\" transform=\"translate(211.035156 0)\"/>\n       <use xlink:href=\"#DejaVuSans-30\" transform=\"translate(274.658203 0)\"/>\n       <use xlink:href=\"#DejaVuSans-30\" transform=\"translate(338.28125 0)\"/>\n       <use xlink:href=\"#DejaVuSans-30\" transform=\"translate(401.904297 0)\"/>\n      </g>\n     </g>\n    </g>\n    <g id=\"xtick_29\">\n     <g id=\"line2d_66\">\n      <g>\n       <use xlink:href=\"#m036055d8f2\" x=\"576.48196\" y=\"254.676562\" style=\"stroke: #000000; stroke-width: 0.8\"/>\n      </g>\n     </g>\n     <g id=\"text_71\">\n      <!-- 0 -->\n      <g transform=\"translate(573.30071 269.275) scale(0.1 -0.1)\">\n       <use xlink:href=\"#DejaVuSans-30\"/>\n      </g>\n     </g>\n    </g>\n    <g id=\"xtick_30\">\n     <g id=\"line2d_67\">\n      <g>\n       <use xlink:href=\"#m036055d8f2\" x=\"614.911712\" y=\"254.676562\" style=\"stroke: #000000; stroke-width: 0.8\"/>\n      </g>\n     </g>\n     <g id=\"text_72\">\n      <!-- 100000 -->\n      <g transform=\"translate(595.824212 269.275) scale(0.1 -0.1)\">\n       <use xlink:href=\"#DejaVuSans-31\"/>\n       <use xlink:href=\"#DejaVuSans-30\" transform=\"translate(63.623047 0)\"/>\n       <use xlink:href=\"#DejaVuSans-30\" transform=\"translate(127.246094 0)\"/>\n       <use xlink:href=\"#DejaVuSans-30\" transform=\"translate(190.869141 0)\"/>\n       <use xlink:href=\"#DejaVuSans-30\" transform=\"translate(254.492188 0)\"/>\n       <use xlink:href=\"#DejaVuSans-30\" transform=\"translate(318.115234 0)\"/>\n      </g>\n     </g>\n    </g>\n   </g>\n   <g id=\"matplotlib.axis_20\">\n    <g id=\"ytick_28\">\n     <g id=\"line2d_68\">\n      <g>\n       <use xlink:href=\"#m2f7e54e4f4\" x=\"534.209233\" y=\"250.511562\" style=\"stroke: #000000; stroke-width: 0.8\"/>\n      </g>\n     </g>\n     <g id=\"text_73\">\n      <!-- 0.0 -->\n      <g transform=\"translate(511.306108 254.310781) scale(0.1 -0.1)\">\n       <use xlink:href=\"#DejaVuSans-30\"/>\n       <use xlink:href=\"#DejaVuSans-2e\" transform=\"translate(63.623047 0)\"/>\n       <use xlink:href=\"#DejaVuSans-30\" transform=\"translate(95.410156 0)\"/>\n      </g>\n     </g>\n    </g>\n    <g id=\"ytick_29\">\n     <g id=\"line2d_69\">\n      <g>\n       <use xlink:href=\"#m2f7e54e4f4\" x=\"534.209233\" y=\"208.494063\" style=\"stroke: #000000; stroke-width: 0.8\"/>\n      </g>\n     </g>\n     <g id=\"text_74\">\n      <!-- 0.5 -->\n      <g transform=\"translate(511.306108 212.293281) scale(0.1 -0.1)\">\n       <use xlink:href=\"#DejaVuSans-30\"/>\n       <use xlink:href=\"#DejaVuSans-2e\" transform=\"translate(63.623047 0)\"/>\n       <use xlink:href=\"#DejaVuSans-35\" transform=\"translate(95.410156 0)\"/>\n      </g>\n     </g>\n    </g>\n    <g id=\"ytick_30\">\n     <g id=\"line2d_70\">\n      <g>\n       <use xlink:href=\"#m2f7e54e4f4\" x=\"534.209233\" y=\"166.476562\" style=\"stroke: #000000; stroke-width: 0.8\"/>\n      </g>\n     </g>\n     <g id=\"text_75\">\n      <!-- 1.0 -->\n      <g transform=\"translate(511.306108 170.275781) scale(0.1 -0.1)\">\n       <use xlink:href=\"#DejaVuSans-31\"/>\n       <use xlink:href=\"#DejaVuSans-2e\" transform=\"translate(63.623047 0)\"/>\n       <use xlink:href=\"#DejaVuSans-30\" transform=\"translate(95.410156 0)\"/>\n      </g>\n     </g>\n    </g>\n    <g id=\"text_76\">\n     <!-- 1e7 -->\n     <g transform=\"translate(534.209233 159.276563) scale(0.1 -0.1)\">\n      <defs>\n       <path id=\"DejaVuSans-37\" d=\"M 525 4666 \nL 3525 4666 \nL 3525 4397 \nL 1831 0 \nL 1172 0 \nL 2766 4134 \nL 525 4134 \nL 525 4666 \nz\n\" transform=\"scale(0.015625)\"/>\n      </defs>\n      <use xlink:href=\"#DejaVuSans-31\"/>\n      <use xlink:href=\"#DejaVuSans-65\" transform=\"translate(63.623047 0)\"/>\n      <use xlink:href=\"#DejaVuSans-37\" transform=\"translate(125.146484 0)\"/>\n     </g>\n    </g>\n   </g>\n   <g id=\"line2d_71\">\n    <path d=\"M 538.052208 166.476562 \nL 539.620769 173.196563 \nL 541.189331 179.636563 \nL 542.757892 185.796562 \nL 544.326453 191.676562 \nL 545.895015 197.276563 \nL 547.463576 202.596563 \nL 549.032137 207.636563 \nL 550.600699 212.396563 \nL 552.16926 216.876563 \nL 553.737821 221.076563 \nL 555.306383 224.996563 \nL 556.874944 228.636562 \nL 558.443505 231.996563 \nL 560.012066 235.076562 \nL 561.580628 237.876563 \nL 563.149189 240.396562 \nL 564.71775 242.636562 \nL 566.286312 244.596563 \nL 567.854873 246.276563 \nL 569.423434 247.676562 \nL 570.991996 248.796562 \nL 572.560557 249.636562 \nL 574.129118 250.196562 \nL 575.69768 250.476562 \nL 577.266241 250.476562 \nL 578.834802 250.196562 \nL 580.403363 249.636562 \nL 581.971925 248.796562 \nL 583.540486 247.676562 \nL 585.109047 246.276563 \nL 586.677609 244.596563 \nL 588.24617 242.636562 \nL 589.814731 240.396562 \nL 591.383293 237.876563 \nL 592.951854 235.076562 \nL 594.520415 231.996563 \nL 596.088977 228.636562 \nL 597.657538 224.996562 \nL 599.226099 221.076563 \nL 600.794661 216.876562 \nL 602.363222 212.396563 \nL 603.931783 207.636563 \nL 605.500344 202.596563 \nL 607.068906 197.276563 \nL 608.637467 191.676562 \nL 610.206028 185.796562 \nL 611.77459 179.636563 \nL 613.343151 173.196562 \nL 614.911712 166.476562 \n\" clip-path=\"url(#p02c128c392)\" style=\"fill: none; stroke: #1f77b4; stroke-width: 1.5; stroke-linecap: square\"/>\n   </g>\n   <g id=\"patch_48\">\n    <path d=\"M 534.209233 254.676562 \nL 534.209233 162.276563 \n\" style=\"fill: none; stroke: #000000; stroke-width: 0.8; stroke-linejoin: miter; stroke-linecap: square\"/>\n   </g>\n   <g id=\"patch_49\">\n    <path d=\"M 618.754688 254.676562 \nL 618.754688 162.276563 \n\" style=\"fill: none; stroke: #000000; stroke-width: 0.8; stroke-linejoin: miter; stroke-linecap: square\"/>\n   </g>\n   <g id=\"patch_50\">\n    <path d=\"M 534.209233 254.676562 \nL 618.754688 254.676562 \n\" style=\"fill: none; stroke: #000000; stroke-width: 0.8; stroke-linejoin: miter; stroke-linecap: square\"/>\n   </g>\n   <g id=\"patch_51\">\n    <path d=\"M 534.209233 162.276563 \nL 618.754688 162.276563 \n\" style=\"fill: none; stroke: #000000; stroke-width: 0.8; stroke-linejoin: miter; stroke-linecap: square\"/>\n   </g>\n   <g id=\"text_77\">\n    <!-- $0.001 x^2$ -->\n    <g transform=\"translate(552.60196 145.678125) scale(0.12 -0.12)\">\n     <use xlink:href=\"#DejaVuSans-30\" transform=\"translate(0 0.765625)\"/>\n     <use xlink:href=\"#DejaVuSans-2e\" transform=\"translate(63.623047 0.765625)\"/>\n     <use xlink:href=\"#DejaVuSans-30\" transform=\"translate(95.410156 0.765625)\"/>\n     <use xlink:href=\"#DejaVuSans-30\" transform=\"translate(159.033203 0.765625)\"/>\n     <use xlink:href=\"#DejaVuSans-31\" transform=\"translate(222.65625 0.765625)\"/>\n     <use xlink:href=\"#DejaVuSans-Oblique-78\" transform=\"translate(286.279297 0.765625)\"/>\n     <use xlink:href=\"#DejaVuSans-32\" transform=\"translate(349.92513 39.046875) scale(0.7)\"/>\n    </g>\n   </g>\n  </g>\n </g>\n <defs>\n  <clipPath id=\"pc1cd197d71\">\n   <rect x=\"60.754688\" y=\"32.916562\" width=\"84.545455\" height=\"92.4\"/>\n  </clipPath>\n  <clipPath id=\"pf6d61034bc\">\n   <rect x=\"179.118324\" y=\"32.916562\" width=\"84.545455\" height=\"92.4\"/>\n  </clipPath>\n  <clipPath id=\"p6803cf1372\">\n   <rect x=\"297.48196\" y=\"32.916562\" width=\"84.545455\" height=\"92.4\"/>\n  </clipPath>\n  <clipPath id=\"pe10c9758b5\">\n   <rect x=\"415.845597\" y=\"32.916562\" width=\"84.545455\" height=\"92.4\"/>\n  </clipPath>\n  <clipPath id=\"p0b91566445\">\n   <rect x=\"534.209233\" y=\"32.916562\" width=\"84.545455\" height=\"92.4\"/>\n  </clipPath>\n  <clipPath id=\"pbde6a76150\">\n   <rect x=\"60.754688\" y=\"162.276563\" width=\"84.545455\" height=\"92.4\"/>\n  </clipPath>\n  <clipPath id=\"p4e5728ee91\">\n   <rect x=\"179.118324\" y=\"162.276563\" width=\"84.545455\" height=\"92.4\"/>\n  </clipPath>\n  <clipPath id=\"pee8732fa3c\">\n   <rect x=\"297.48196\" y=\"162.276563\" width=\"84.545455\" height=\"92.4\"/>\n  </clipPath>\n  <clipPath id=\"p9604bae231\">\n   <rect x=\"415.845597\" y=\"162.276563\" width=\"84.545455\" height=\"92.4\"/>\n  </clipPath>\n  <clipPath id=\"p02c128c392\">\n   <rect x=\"534.209233\" y=\"162.276563\" width=\"84.545455\" height=\"92.4\"/>\n  </clipPath>\n </defs>\n</svg>\n",
            "image/png": "[encoded data removed]"
          },
          "metadata": {}
        }
      ],
      "metadata": {}
    },
    {
      "cell_type": "markdown",
      "source": [
        "Hint: Convexity is a global property of functions.\n",
        "You may want to change the range of x values to see the big picture."
      ],
      "metadata": {}
    },
    {
      "cell_type": "code",
      "execution_count": 30,
      "source": [
        "# YOUR CHANGES HERE\n",
        "\n",
        "p7 = 8"
      ],
      "outputs": [],
      "metadata": {
        "id": "0R8DkzA7bEJQ"
      }
    },
    {
      "cell_type": "markdown",
      "source": [
        "Check the value of `p7`."
      ],
      "metadata": {}
    },
    {
      "cell_type": "code",
      "execution_count": 31,
      "source": [
        "p7"
      ],
      "outputs": [
        {
          "output_type": "execute_result",
          "data": {
            "text/plain": [
              "5"
            ]
          },
          "metadata": {},
          "execution_count": 31
        }
      ],
      "metadata": {}
    },
    {
      "cell_type": "markdown",
      "source": [
        "### Problem 8\n",
        "\n",
        "Set `p8` to $\\lim_{x \\to 2^-} \\frac{|x-2|}{x-2}$."
      ],
      "metadata": {}
    },
    {
      "cell_type": "code",
      "execution_count": 32,
      "source": [
        "# YOUR CHANGES HERE\n",
        "\"\"\"\n",
        "since x approaches 2 from left side it is slightly less than 2. thereefore x-2 is negative.\n",
        "a negative numbre in absolutee value gets flipped. so we can simplify as -(x-2)/x-2\n",
        "finally we simplify as -1\n",
        "\"\"\"\n",
        "p8 = -1"
      ],
      "outputs": [],
      "metadata": {}
    },
    {
      "cell_type": "markdown",
      "source": [
        "Check the value of `p8`."
      ],
      "metadata": {}
    },
    {
      "cell_type": "code",
      "execution_count": 33,
      "source": [
        "p8"
      ],
      "outputs": [
        {
          "output_type": "execute_result",
          "data": {
            "text/plain": [
              "-1"
            ]
          },
          "metadata": {},
          "execution_count": 33
        }
      ],
      "metadata": {}
    },
    {
      "cell_type": "markdown",
      "source": [
        "### Problem 9\n",
        "\n",
        "Write a function `p9` returning the derivative of $x^5$."
      ],
      "metadata": {
        "id": "8Txa1RCXctp8"
      }
    },
    {
      "cell_type": "code",
      "execution_count": 34,
      "source": [
        "# YOUR CHANGES HERE\n",
        "\n",
        "def p9(x):\n",
        "    return 5 * x ** 4"
      ],
      "outputs": [],
      "metadata": {
        "id": "O-UvSyhKgofV"
      }
    },
    {
      "cell_type": "markdown",
      "source": [
        "Check the output of `p9`."
      ],
      "metadata": {}
    },
    {
      "cell_type": "code",
      "execution_count": 35,
      "source": [
        "p9(0)"
      ],
      "outputs": [
        {
          "output_type": "execute_result",
          "data": {
            "text/plain": [
              "0"
            ]
          },
          "metadata": {},
          "execution_count": 35
        }
      ],
      "metadata": {}
    },
    {
      "cell_type": "code",
      "execution_count": 36,
      "source": [
        "p9(1)"
      ],
      "outputs": [
        {
          "output_type": "execute_result",
          "data": {
            "text/plain": [
              "5"
            ]
          },
          "metadata": {},
          "execution_count": 36
        }
      ],
      "metadata": {}
    },
    {
      "cell_type": "markdown",
      "source": [
        "### Problem 10\n",
        "\n",
        "Write a function `p10` returning the derivative of $4 x^2$."
      ],
      "metadata": {
        "id": "5HznIgaTglgf"
      }
    },
    {
      "cell_type": "code",
      "execution_count": 37,
      "source": [
        "# YOUR CHANGES HERE\n",
        "\n",
        "def p10(x):\n",
        "    return 8*x"
      ],
      "outputs": [],
      "metadata": {
        "id": "8BjrglyMiE3f"
      }
    },
    {
      "cell_type": "markdown",
      "source": [
        "Check the output of `p10`."
      ],
      "metadata": {}
    },
    {
      "cell_type": "code",
      "execution_count": 38,
      "source": [
        "p10(0)"
      ],
      "outputs": [
        {
          "output_type": "execute_result",
          "data": {
            "text/plain": [
              "0"
            ]
          },
          "metadata": {},
          "execution_count": 38
        }
      ],
      "metadata": {}
    },
    {
      "cell_type": "code",
      "execution_count": 39,
      "source": [
        "p10(1)"
      ],
      "outputs": [
        {
          "output_type": "execute_result",
          "data": {
            "text/plain": [
              "8"
            ]
          },
          "metadata": {},
          "execution_count": 39
        }
      ],
      "metadata": {}
    },
    {
      "cell_type": "markdown",
      "source": [
        "### Problem 11\n",
        "\n",
        "Write a function `p11` returning the derivative of $3 e^x + 5 x^5$."
      ],
      "metadata": {
        "id": "fs7pnCyl20n3"
      }
    },
    {
      "cell_type": "code",
      "execution_count": 40,
      "source": [
        "# YOUR CHANGES HERE\n",
        "\n",
        "def p11(x):\n",
        "    # d/dx e^x is just e^x    \n",
        "    return 3 * math.e ** x + 25 * x ** 4"
      ],
      "outputs": [],
      "metadata": {
        "id": "1gp6Tcbh3IZT"
      }
    },
    {
      "cell_type": "markdown",
      "source": [
        "Check the output of `p11`."
      ],
      "metadata": {}
    },
    {
      "cell_type": "code",
      "execution_count": 41,
      "source": [
        "p11(0)"
      ],
      "outputs": [
        {
          "output_type": "execute_result",
          "data": {
            "text/plain": [
              "-1.0"
            ]
          },
          "metadata": {},
          "execution_count": 41
        }
      ],
      "metadata": {}
    },
    {
      "cell_type": "code",
      "execution_count": 42,
      "source": [
        "p11(1)"
      ],
      "outputs": [
        {
          "output_type": "execute_result",
          "data": {
            "text/plain": [
              "32.15484548537714"
            ]
          },
          "metadata": {},
          "execution_count": 42
        }
      ],
      "metadata": {}
    },
    {
      "cell_type": "markdown",
      "source": [
        "### Problem 12\n",
        "\n",
        "Write a function `p12` returning the derivative of $\\log_3(x)$.\n",
        "\n",
        "You could try to derive this using the chain rule, but feel free to look up the rule for logarithms with different bases."
      ],
      "metadata": {
        "id": "kBKzQOSRimNE"
      }
    },
    {
      "cell_type": "code",
      "execution_count": 46,
      "source": [
        "# YOUR CHANGES HERE\n",
        "\"\"\"\n",
        "log sub 3 (x) derivative is 1/ln (3) (x)\n",
        "\"\"\"\n",
        "def p12(x):\n",
        "    return 1 / (math.log(3) * x)"
      ],
      "outputs": [],
      "metadata": {
        "id": "AfQA658F4QXn"
      }
    },
    {
      "cell_type": "markdown",
      "source": [
        "Check the output of `p12`."
      ],
      "metadata": {}
    },
    {
      "cell_type": "code",
      "execution_count": 47,
      "source": [
        "p12(1)"
      ],
      "outputs": [
        {
          "output_type": "execute_result",
          "data": {
            "text/plain": [
              "0.9102392266268373"
            ]
          },
          "metadata": {},
          "execution_count": 47
        }
      ],
      "metadata": {}
    },
    {
      "cell_type": "code",
      "execution_count": 48,
      "source": [
        "p12(3)"
      ],
      "outputs": [
        {
          "output_type": "execute_result",
          "data": {
            "text/plain": [
              "0.30341307554227914"
            ]
          },
          "metadata": {},
          "execution_count": 48
        }
      ],
      "metadata": {}
    },
    {
      "cell_type": "markdown",
      "source": [
        "### Problem 13\n",
        "\n",
        "Build a linear regression for the mango rated flavor column using all the other columns as inputs.\n",
        "Set `p13` to be the output of this model for the mean row of the data set (similar to your answer to problem 4, but without the rated flavor column)."
      ],
      "metadata": {
        "id": "EO8OiHX231oD"
      }
    },
    {
      "cell_type": "code",
      "execution_count": 57,
      "source": [
        "# YOUR CHANGES HERE\n",
        "y = mango_data['rated_flavor']\n",
        "X = mango_data.drop(columns=['rated_flavor'])\n",
        "\n",
        "model = sklearn.linear_model.LinearRegression()\n",
        "model.fit(X, y)\n",
        "p13 = model.predict(p4.drop(columns=['rated_flavor']))"
      ],
      "outputs": [],
      "metadata": {
        "id": "hMx4gfZpkvR2"
      }
    },
    {
      "cell_type": "markdown",
      "source": [
        "Check the value of `p13`."
      ],
      "metadata": {}
    },
    {
      "cell_type": "code",
      "execution_count": 58,
      "source": [
        "p13"
      ],
      "outputs": [
        {
          "output_type": "execute_result",
          "data": {
            "text/plain": [
              "array([2.])"
            ]
          },
          "metadata": {},
          "execution_count": 58
        }
      ],
      "metadata": {}
    },
    {
      "cell_type": "markdown",
      "source": [
        "### Problem 14\n",
        "\n",
        "The derivative of the polynomial $5 x^{99} - 2 x^78 + 3 x^{25} + 4 x^4 -357$ is another polynomial.\n",
        "What is the degree of that polynomial?"
      ],
      "metadata": {
        "id": "kaLaPYxpk0Vz"
      }
    },
    {
      "cell_type": "code",
      "execution_count": 59,
      "source": [
        "# YOUR CHANGES HERE\n",
        "\n",
        "p14 = 98"
      ],
      "outputs": [],
      "metadata": {
        "id": "M2wYKVq1k9mU"
      }
    },
    {
      "cell_type": "markdown",
      "source": [
        "Check the value of `p14`."
      ],
      "metadata": {}
    },
    {
      "cell_type": "code",
      "execution_count": 60,
      "source": [
        "p14"
      ],
      "outputs": [
        {
          "output_type": "execute_result",
          "data": {
            "text/plain": [
              "98"
            ]
          },
          "metadata": {},
          "execution_count": 60
        }
      ],
      "metadata": {}
    },
    {
      "cell_type": "markdown",
      "source": [
        "### Problem 15\n",
        "\n",
        "Write a function `p15` that takes in parameters `m` and `b` and computes the average $L_2$ loss for the training data in `x15` and `y15` based on the linear prediction $mx + b$."
      ],
      "metadata": {
        "id": "xCr3e8q2k_Kw"
      }
    },
    {
      "cell_type": "code",
      "execution_count": 61,
      "source": [
        "# DO NOT CHANGE\n",
        "\n",
        "x15 = np.asarray([0, 1, 2, 3, 4])\n",
        "y15 = np.asarray([0, 0, 1, 1, 1])"
      ],
      "outputs": [],
      "metadata": {}
    },
    {
      "cell_type": "code",
      "execution_count": 65,
      "source": [
        "# YOUR CHANGES HERE\n",
        "\n",
        "def p15(m, b):\n",
        "    # first we calculate thee preds\n",
        "    y15_preds = np.array([x * m + b for x in x15])\n",
        "\n",
        "    # l2 loss is the sum of the squared differences between prediction and actual\n",
        "    l2_losses = [(yp - ya) ** 2 for yp, ya in zip(y15_preds, y15)]\n",
        "    return sum(l2_losses) / len(l2_losses)"
      ],
      "outputs": [],
      "metadata": {
        "id": "K1jxw2uFlZQn"
      }
    },
    {
      "cell_type": "markdown",
      "source": [
        "Test `p15` with different inputs."
      ],
      "metadata": {}
    },
    {
      "cell_type": "code",
      "execution_count": 66,
      "source": [
        "p15(0, 0)"
      ],
      "outputs": [
        {
          "output_type": "execute_result",
          "data": {
            "text/plain": [
              "np.float64(0.6)"
            ]
          },
          "metadata": {},
          "execution_count": 66
        }
      ],
      "metadata": {}
    },
    {
      "cell_type": "code",
      "execution_count": 67,
      "source": [
        "p15(0, 1)"
      ],
      "outputs": [
        {
          "output_type": "execute_result",
          "data": {
            "text/plain": [
              "np.float64(0.4)"
            ]
          },
          "metadata": {},
          "execution_count": 67
        }
      ],
      "metadata": {}
    },
    {
      "cell_type": "code",
      "execution_count": 68,
      "source": [
        "p15(1, 0)"
      ],
      "outputs": [
        {
          "output_type": "execute_result",
          "data": {
            "text/plain": [
              "np.float64(3.0)"
            ]
          },
          "metadata": {},
          "execution_count": 68
        }
      ],
      "metadata": {}
    },
    {
      "cell_type": "code",
      "execution_count": 69,
      "source": [
        "p15(1, 1)"
      ],
      "outputs": [
        {
          "output_type": "execute_result",
          "data": {
            "text/plain": [
              "np.float64(6.8)"
            ]
          },
          "metadata": {},
          "execution_count": 69
        }
      ],
      "metadata": {}
    },
    {
      "cell_type": "markdown",
      "source": [
        "### Problem 16\n",
        "\n",
        "Write a function `p16` that takes in four parameters, `a`, `b`, `c`, and `x_in`, and returns the derivative of $ax^2 + bx +c$ evaluated at value $x=x_{in}$.\n",
        "\n",
        "That is, `p16` should compute $\\frac{d (ax^2 + bx +c)}{dx}(x_{in})$."
      ],
      "metadata": {
        "id": "I7fYOQ7Hlb06"
      }
    },
    {
      "cell_type": "code",
      "execution_count": 70,
      "source": [
        "# YOUR CHANGES HERE\n",
        "\n",
        "def p16(a, b, c, x_in):\n",
        "    return (2 * a * x_in) + b"
      ],
      "outputs": [],
      "metadata": {
        "id": "qETAzrs8l6iU"
      }
    },
    {
      "cell_type": "markdown",
      "source": [
        "### Problem 17\n",
        "\n",
        "Set `p17` to $\\lim_{x \\to 0} x^2 \\mathrm{cos} \\left( \\frac{1}{x} \\right)$."
      ],
      "metadata": {
        "id": "6wqDZ1uFl-rx"
      }
    },
    {
      "cell_type": "code",
      "execution_count": 71,
      "source": [
        "# @title Plot of $x^2 cos(1/x)\n",
        "\n",
        "xs = np.linspace(-0.25, 0.25, 1000)\n",
        "plt.plot(xs, xs**2 * np.cos(1 / xs));"
      ],
      "outputs": [
        {
          "output_type": "display_data",
          "data": {
            "text/plain": [
              "<Figure size 640x480 with 1 Axes>"
            ],
            "image/svg+xml": "<?xml version=\"1.0\" encoding=\"utf-8\" standalone=\"no\"?>\n<!DOCTYPE svg PUBLIC \"-//W3C//DTD SVG 1.1//EN\"\n  \"http://www.w3.org/Graphics/SVG/1.1/DTD/svg11.dtd\">\n<svg xmlns:xlink=\"http://www.w3.org/1999/xlink\" width=\"409.165312pt\" height=\"300.733135pt\" viewBox=\"0 0 409.165312 300.733135\" xmlns=\"http://www.w3.org/2000/svg\" version=\"1.1\">\n <metadata>\n  <rdf:RDF xmlns:dc=\"http://purl.org/dc/elements/1.1/\" xmlns:cc=\"http://creativecommons.org/ns#\" xmlns:rdf=\"http://www.w3.org/1999/02/22-rdf-syntax-ns#\">\n   <cc:Work>\n    <dc:type rdf:resource=\"http://purl.org/dc/dcmitype/StillImage\"/>\n    <dc:date>2025-09-23T21:33:27.669322</dc:date>\n    <dc:format>image/svg+xml</dc:format>\n    <dc:creator>\n     <cc:Agent>\n      <dc:title>Matplotlib v3.10.0, https://matplotlib.org/</dc:title>\n     </cc:Agent>\n    </dc:creator>\n   </cc:Work>\n  </rdf:RDF>\n </metadata>\n <defs>\n  <style type=\"text/css\">*{stroke-linejoin: round; stroke-linecap: butt}</style>\n </defs>\n <g id=\"figure_1\">\n  <g id=\"patch_1\">\n   <path d=\"M 0 300.733135 \nL 409.165312 300.733135 \nL 409.165312 0 \nL 0 0 \nz\n\" style=\"fill: #ffffff\"/>\n  </g>\n  <g id=\"axes_1\">\n   <g id=\"patch_2\">\n    <path d=\"M 44.845313 276.85501 \nL 401.965312 276.85501 \nL 401.965312 10.74301 \nL 44.845313 10.74301 \nz\n\" style=\"fill: #ffffff\"/>\n   </g>\n   <g id=\"matplotlib.axis_1\">\n    <g id=\"xtick_1\">\n     <g id=\"line2d_1\">\n      <defs>\n       <path id=\"m5f1f059ae8\" d=\"M 0 0 \nL 0 3.5 \n\" style=\"stroke: #000000; stroke-width: 0.8\"/>\n      </defs>\n      <g>\n       <use xlink:href=\"#m5f1f059ae8\" x=\"93.543494\" y=\"276.85501\" style=\"stroke: #000000; stroke-width: 0.8\"/>\n      </g>\n     </g>\n     <g id=\"text_1\">\n      <!-- −0.2 -->\n      <g transform=\"translate(81.402088 291.453447) scale(0.1 -0.1)\">\n       <defs>\n        <path id=\"DejaVuSans-2212\" d=\"M 678 2272 \nL 4684 2272 \nL 4684 1741 \nL 678 1741 \nL 678 2272 \nz\n\" transform=\"scale(0.015625)\"/>\n        <path id=\"DejaVuSans-30\" d=\"M 2034 4250 \nQ 1547 4250 1301 3770 \nQ 1056 3291 1056 2328 \nQ 1056 1369 1301 889 \nQ 1547 409 2034 409 \nQ 2525 409 2770 889 \nQ 3016 1369 3016 2328 \nQ 3016 3291 2770 3770 \nQ 2525 4250 2034 4250 \nz\nM 2034 4750 \nQ 2819 4750 3233 4129 \nQ 3647 3509 3647 2328 \nQ 3647 1150 3233 529 \nQ 2819 -91 2034 -91 \nQ 1250 -91 836 529 \nQ 422 1150 422 2328 \nQ 422 3509 836 4129 \nQ 1250 4750 2034 4750 \nz\n\" transform=\"scale(0.015625)\"/>\n        <path id=\"DejaVuSans-2e\" d=\"M 684 794 \nL 1344 794 \nL 1344 0 \nL 684 0 \nL 684 794 \nz\n\" transform=\"scale(0.015625)\"/>\n        <path id=\"DejaVuSans-32\" d=\"M 1228 531 \nL 3431 531 \nL 3431 0 \nL 469 0 \nL 469 531 \nQ 828 903 1448 1529 \nQ 2069 2156 2228 2338 \nQ 2531 2678 2651 2914 \nQ 2772 3150 2772 3378 \nQ 2772 3750 2511 3984 \nQ 2250 4219 1831 4219 \nQ 1534 4219 1204 4116 \nQ 875 4013 500 3803 \nL 500 4441 \nQ 881 4594 1212 4672 \nQ 1544 4750 1819 4750 \nQ 2544 4750 2975 4387 \nQ 3406 4025 3406 3419 \nQ 3406 3131 3298 2873 \nQ 3191 2616 2906 2266 \nQ 2828 2175 2409 1742 \nQ 1991 1309 1228 531 \nz\n\" transform=\"scale(0.015625)\"/>\n       </defs>\n       <use xlink:href=\"#DejaVuSans-2212\"/>\n       <use xlink:href=\"#DejaVuSans-30\" transform=\"translate(83.789062 0)\"/>\n       <use xlink:href=\"#DejaVuSans-2e\" transform=\"translate(147.412109 0)\"/>\n       <use xlink:href=\"#DejaVuSans-32\" transform=\"translate(179.199219 0)\"/>\n      </g>\n     </g>\n    </g>\n    <g id=\"xtick_2\">\n     <g id=\"line2d_2\">\n      <g>\n       <use xlink:href=\"#m5f1f059ae8\" x=\"158.474403\" y=\"276.85501\" style=\"stroke: #000000; stroke-width: 0.8\"/>\n      </g>\n     </g>\n     <g id=\"text_2\">\n      <!-- −0.1 -->\n      <g transform=\"translate(146.332997 291.453447) scale(0.1 -0.1)\">\n       <defs>\n        <path id=\"DejaVuSans-31\" d=\"M 794 531 \nL 1825 531 \nL 1825 4091 \nL 703 3866 \nL 703 4441 \nL 1819 4666 \nL 2450 4666 \nL 2450 531 \nL 3481 531 \nL 3481 0 \nL 794 0 \nL 794 531 \nz\n\" transform=\"scale(0.015625)\"/>\n       </defs>\n       <use xlink:href=\"#DejaVuSans-2212\"/>\n       <use xlink:href=\"#DejaVuSans-30\" transform=\"translate(83.789062 0)\"/>\n       <use xlink:href=\"#DejaVuSans-2e\" transform=\"translate(147.412109 0)\"/>\n       <use xlink:href=\"#DejaVuSans-31\" transform=\"translate(179.199219 0)\"/>\n      </g>\n     </g>\n    </g>\n    <g id=\"xtick_3\">\n     <g id=\"line2d_3\">\n      <g>\n       <use xlink:href=\"#m5f1f059ae8\" x=\"223.405313\" y=\"276.85501\" style=\"stroke: #000000; stroke-width: 0.8\"/>\n      </g>\n     </g>\n     <g id=\"text_3\">\n      <!-- 0.0 -->\n      <g transform=\"translate(215.45375 291.453447) scale(0.1 -0.1)\">\n       <use xlink:href=\"#DejaVuSans-30\"/>\n       <use xlink:href=\"#DejaVuSans-2e\" transform=\"translate(63.623047 0)\"/>\n       <use xlink:href=\"#DejaVuSans-30\" transform=\"translate(95.410156 0)\"/>\n      </g>\n     </g>\n    </g>\n    <g id=\"xtick_4\">\n     <g id=\"line2d_4\">\n      <g>\n       <use xlink:href=\"#m5f1f059ae8\" x=\"288.336222\" y=\"276.85501\" style=\"stroke: #000000; stroke-width: 0.8\"/>\n      </g>\n     </g>\n     <g id=\"text_4\">\n      <!-- 0.1 -->\n      <g transform=\"translate(280.384659 291.453447) scale(0.1 -0.1)\">\n       <use xlink:href=\"#DejaVuSans-30\"/>\n       <use xlink:href=\"#DejaVuSans-2e\" transform=\"translate(63.623047 0)\"/>\n       <use xlink:href=\"#DejaVuSans-31\" transform=\"translate(95.410156 0)\"/>\n      </g>\n     </g>\n    </g>\n    <g id=\"xtick_5\">\n     <g id=\"line2d_5\">\n      <g>\n       <use xlink:href=\"#m5f1f059ae8\" x=\"353.267131\" y=\"276.85501\" style=\"stroke: #000000; stroke-width: 0.8\"/>\n      </g>\n     </g>\n     <g id=\"text_5\">\n      <!-- 0.2 -->\n      <g transform=\"translate(345.315568 291.453447) scale(0.1 -0.1)\">\n       <use xlink:href=\"#DejaVuSans-30\"/>\n       <use xlink:href=\"#DejaVuSans-2e\" transform=\"translate(63.623047 0)\"/>\n       <use xlink:href=\"#DejaVuSans-32\" transform=\"translate(95.410156 0)\"/>\n      </g>\n     </g>\n    </g>\n   </g>\n   <g id=\"matplotlib.axis_2\">\n    <g id=\"ytick_1\">\n     <g id=\"line2d_6\">\n      <defs>\n       <path id=\"m9c99c2f1e1\" d=\"M 0 0 \nL -3.5 0 \n\" style=\"stroke: #000000; stroke-width: 0.8\"/>\n      </defs>\n      <g>\n       <use xlink:href=\"#m9c99c2f1e1\" x=\"44.845313\" y=\"261.704961\" style=\"stroke: #000000; stroke-width: 0.8\"/>\n      </g>\n     </g>\n     <g id=\"text_6\">\n      <!-- −0.04 -->\n      <g transform=\"translate(7.2 265.50418) scale(0.1 -0.1)\">\n       <defs>\n        <path id=\"DejaVuSans-34\" d=\"M 2419 4116 \nL 825 1625 \nL 2419 1625 \nL 2419 4116 \nz\nM 2253 4666 \nL 3047 4666 \nL 3047 1625 \nL 3713 1625 \nL 3713 1100 \nL 3047 1100 \nL 3047 0 \nL 2419 0 \nL 2419 1100 \nL 313 1100 \nL 313 1709 \nL 2253 4666 \nz\n\" transform=\"scale(0.015625)\"/>\n       </defs>\n       <use xlink:href=\"#DejaVuSans-2212\"/>\n       <use xlink:href=\"#DejaVuSans-30\" transform=\"translate(83.789062 0)\"/>\n       <use xlink:href=\"#DejaVuSans-2e\" transform=\"translate(147.412109 0)\"/>\n       <use xlink:href=\"#DejaVuSans-30\" transform=\"translate(179.199219 0)\"/>\n       <use xlink:href=\"#DejaVuSans-34\" transform=\"translate(242.822266 0)\"/>\n      </g>\n     </g>\n    </g>\n    <g id=\"ytick_2\">\n     <g id=\"line2d_7\">\n      <g>\n       <use xlink:href=\"#m9c99c2f1e1\" x=\"44.845313\" y=\"225.889855\" style=\"stroke: #000000; stroke-width: 0.8\"/>\n      </g>\n     </g>\n     <g id=\"text_7\">\n      <!-- −0.03 -->\n      <g transform=\"translate(7.2 229.689074) scale(0.1 -0.1)\">\n       <defs>\n        <path id=\"DejaVuSans-33\" d=\"M 2597 2516 \nQ 3050 2419 3304 2112 \nQ 3559 1806 3559 1356 \nQ 3559 666 3084 287 \nQ 2609 -91 1734 -91 \nQ 1441 -91 1130 -33 \nQ 819 25 488 141 \nL 488 750 \nQ 750 597 1062 519 \nQ 1375 441 1716 441 \nQ 2309 441 2620 675 \nQ 2931 909 2931 1356 \nQ 2931 1769 2642 2001 \nQ 2353 2234 1838 2234 \nL 1294 2234 \nL 1294 2753 \nL 1863 2753 \nQ 2328 2753 2575 2939 \nQ 2822 3125 2822 3475 \nQ 2822 3834 2567 4026 \nQ 2313 4219 1838 4219 \nQ 1578 4219 1281 4162 \nQ 984 4106 628 3988 \nL 628 4550 \nQ 988 4650 1302 4700 \nQ 1616 4750 1894 4750 \nQ 2613 4750 3031 4423 \nQ 3450 4097 3450 3541 \nQ 3450 3153 3228 2886 \nQ 3006 2619 2597 2516 \nz\n\" transform=\"scale(0.015625)\"/>\n       </defs>\n       <use xlink:href=\"#DejaVuSans-2212\"/>\n       <use xlink:href=\"#DejaVuSans-30\" transform=\"translate(83.789062 0)\"/>\n       <use xlink:href=\"#DejaVuSans-2e\" transform=\"translate(147.412109 0)\"/>\n       <use xlink:href=\"#DejaVuSans-30\" transform=\"translate(179.199219 0)\"/>\n       <use xlink:href=\"#DejaVuSans-33\" transform=\"translate(242.822266 0)\"/>\n      </g>\n     </g>\n    </g>\n    <g id=\"ytick_3\">\n     <g id=\"line2d_8\">\n      <g>\n       <use xlink:href=\"#m9c99c2f1e1\" x=\"44.845313\" y=\"190.074749\" style=\"stroke: #000000; stroke-width: 0.8\"/>\n      </g>\n     </g>\n     <g id=\"text_8\">\n      <!-- −0.02 -->\n      <g transform=\"translate(7.2 193.873968) scale(0.1 -0.1)\">\n       <use xlink:href=\"#DejaVuSans-2212\"/>\n       <use xlink:href=\"#DejaVuSans-30\" transform=\"translate(83.789062 0)\"/>\n       <use xlink:href=\"#DejaVuSans-2e\" transform=\"translate(147.412109 0)\"/>\n       <use xlink:href=\"#DejaVuSans-30\" transform=\"translate(179.199219 0)\"/>\n       <use xlink:href=\"#DejaVuSans-32\" transform=\"translate(242.822266 0)\"/>\n      </g>\n     </g>\n    </g>\n    <g id=\"ytick_4\">\n     <g id=\"line2d_9\">\n      <g>\n       <use xlink:href=\"#m9c99c2f1e1\" x=\"44.845313\" y=\"154.259643\" style=\"stroke: #000000; stroke-width: 0.8\"/>\n      </g>\n     </g>\n     <g id=\"text_9\">\n      <!-- −0.01 -->\n      <g transform=\"translate(7.2 158.058862) scale(0.1 -0.1)\">\n       <use xlink:href=\"#DejaVuSans-2212\"/>\n       <use xlink:href=\"#DejaVuSans-30\" transform=\"translate(83.789062 0)\"/>\n       <use xlink:href=\"#DejaVuSans-2e\" transform=\"translate(147.412109 0)\"/>\n       <use xlink:href=\"#DejaVuSans-30\" transform=\"translate(179.199219 0)\"/>\n       <use xlink:href=\"#DejaVuSans-31\" transform=\"translate(242.822266 0)\"/>\n      </g>\n     </g>\n    </g>\n    <g id=\"ytick_5\">\n     <g id=\"line2d_10\">\n      <g>\n       <use xlink:href=\"#m9c99c2f1e1\" x=\"44.845313\" y=\"118.444537\" style=\"stroke: #000000; stroke-width: 0.8\"/>\n      </g>\n     </g>\n     <g id=\"text_10\">\n      <!-- 0.00 -->\n      <g transform=\"translate(15.579688 122.243756) scale(0.1 -0.1)\">\n       <use xlink:href=\"#DejaVuSans-30\"/>\n       <use xlink:href=\"#DejaVuSans-2e\" transform=\"translate(63.623047 0)\"/>\n       <use xlink:href=\"#DejaVuSans-30\" transform=\"translate(95.410156 0)\"/>\n       <use xlink:href=\"#DejaVuSans-30\" transform=\"translate(159.033203 0)\"/>\n      </g>\n     </g>\n    </g>\n    <g id=\"ytick_6\">\n     <g id=\"line2d_11\">\n      <g>\n       <use xlink:href=\"#m9c99c2f1e1\" x=\"44.845313\" y=\"82.629431\" style=\"stroke: #000000; stroke-width: 0.8\"/>\n      </g>\n     </g>\n     <g id=\"text_11\">\n      <!-- 0.01 -->\n      <g transform=\"translate(15.579688 86.42865) scale(0.1 -0.1)\">\n       <use xlink:href=\"#DejaVuSans-30\"/>\n       <use xlink:href=\"#DejaVuSans-2e\" transform=\"translate(63.623047 0)\"/>\n       <use xlink:href=\"#DejaVuSans-30\" transform=\"translate(95.410156 0)\"/>\n       <use xlink:href=\"#DejaVuSans-31\" transform=\"translate(159.033203 0)\"/>\n      </g>\n     </g>\n    </g>\n    <g id=\"ytick_7\">\n     <g id=\"line2d_12\">\n      <g>\n       <use xlink:href=\"#m9c99c2f1e1\" x=\"44.845313\" y=\"46.814325\" style=\"stroke: #000000; stroke-width: 0.8\"/>\n      </g>\n     </g>\n     <g id=\"text_12\">\n      <!-- 0.02 -->\n      <g transform=\"translate(15.579688 50.613544) scale(0.1 -0.1)\">\n       <use xlink:href=\"#DejaVuSans-30\"/>\n       <use xlink:href=\"#DejaVuSans-2e\" transform=\"translate(63.623047 0)\"/>\n       <use xlink:href=\"#DejaVuSans-30\" transform=\"translate(95.410156 0)\"/>\n       <use xlink:href=\"#DejaVuSans-32\" transform=\"translate(159.033203 0)\"/>\n      </g>\n     </g>\n    </g>\n    <g id=\"ytick_8\">\n     <g id=\"line2d_13\">\n      <g>\n       <use xlink:href=\"#m9c99c2f1e1\" x=\"44.845313\" y=\"10.999219\" style=\"stroke: #000000; stroke-width: 0.8\"/>\n      </g>\n     </g>\n     <g id=\"text_13\">\n      <!-- 0.03 -->\n      <g transform=\"translate(15.579688 14.798437) scale(0.1 -0.1)\">\n       <use xlink:href=\"#DejaVuSans-30\"/>\n       <use xlink:href=\"#DejaVuSans-2e\" transform=\"translate(63.623047 0)\"/>\n       <use xlink:href=\"#DejaVuSans-30\" transform=\"translate(95.410156 0)\"/>\n       <use xlink:href=\"#DejaVuSans-33\" transform=\"translate(159.033203 0)\"/>\n      </g>\n     </g>\n    </g>\n   </g>\n   <g id=\"line2d_14\">\n    <path d=\"M 61.07804 264.75901 \nL 69.852487 211.616036 \nL 79.601873 152.851664 \nL 84.476566 124.789127 \nL 88.37632 103.555692 \nL 91.626115 86.99107 \nL 94.550931 73.179646 \nL 97.150767 61.937589 \nL 99.425624 53.016923 \nL 101.375501 46.129931 \nL 103.325378 40.010785 \nL 104.950276 35.544039 \nL 106.575173 31.691427 \nL 107.875091 29.075721 \nL 109.175009 26.894022 \nL 110.474928 25.163611 \nL 111.449866 24.171891 \nL 112.424805 23.449849 \nL 113.399743 23.003652 \nL 114.374682 22.83901 \nL 115.34962 22.961112 \nL 116.324559 23.374555 \nL 117.299498 24.083263 \nL 118.274436 25.090404 \nL 119.249375 26.398306 \nL 120.549293 28.612287 \nL 121.849211 31.363701 \nL 123.149129 34.649227 \nL 124.774027 39.495363 \nL 126.398924 45.138922 \nL 128.023822 51.541855 \nL 129.973699 60.152507 \nL 132.248556 71.318552 \nL 134.848392 85.233959 \nL 143.947819 135.20355 \nL 145.572716 142.591109 \nL 147.197614 148.937003 \nL 148.497532 153.10456 \nL 149.472471 155.623663 \nL 150.447409 157.572435 \nL 151.097368 158.534459 \nL 151.747327 159.214134 \nL 152.397286 159.602126 \nL 153.047245 159.690653 \nL 153.697204 159.473697 \nL 154.347163 158.947233 \nL 154.997122 158.109462 \nL 155.647082 156.961042 \nL 156.62202 154.664088 \nL 157.596959 151.700353 \nL 158.896877 146.784007 \nL 160.196795 140.902692 \nL 161.821693 132.517212 \nL 166.696385 106.456441 \nL 167.996303 101.190328 \nL 168.971242 98.224941 \nL 169.621201 96.807156 \nL 170.27116 95.883991 \nL 170.921119 95.487122 \nL 171.246099 95.493281 \nL 171.571078 95.638287 \nL 172.221037 96.34739 \nL 172.870996 97.610649 \nL 173.520955 99.408881 \nL 174.495894 103.025501 \nL 175.470833 107.562118 \nL 177.42071 118.138714 \nL 179.045607 126.461637 \nL 180.020546 130.234325 \nL 180.670505 131.953628 \nL 181.320464 132.906895 \nL 181.645444 133.071221 \nL 181.970423 133.018989 \nL 182.295403 132.747612 \nL 182.620382 132.257791 \nL 183.270341 130.643568 \nL 183.9203 128.256374 \nL 184.895239 123.55861 \nL 187.170095 111.778828 \nL 187.820055 109.584293 \nL 188.145034 108.865579 \nL 188.470014 108.434486 \nL 188.794993 108.308867 \nL 189.119973 108.498172 \nL 189.444952 109.002313 \nL 190.094911 110.901699 \nL 190.74487 113.787518 \nL 192.694747 123.742574 \nL 193.344706 125.541171 \nL 193.669686 125.865732 \nL 193.994665 125.76531 \nL 194.319645 125.236611 \nL 194.644625 124.302446 \nL 195.294584 121.446807 \nL 196.594502 114.718798 \nL 196.919481 113.585471 \nL 197.244461 112.912876 \nL 197.56944 112.774193 \nL 197.89442 113.195711 \nL 198.219399 114.147907 \nL 198.869358 117.229094 \nL 199.844297 122.003166 \nL 200.169276 122.783206 \nL 200.494256 122.893966 \nL 200.819236 122.300583 \nL 201.469195 119.43656 \nL 202.119154 116.088592 \nL 202.444133 115.066292 \nL 202.769113 114.831197 \nL 203.094092 115.460606 \nL 203.744051 118.569525 \nL 204.069031 120.219853 \nL 204.39401 121.2681 \nL 204.71899 121.357257 \nL 205.043969 120.428958 \nL 206.018908 116.03523 \nL 206.343887 116.128515 \nL 206.668867 117.358848 \nL 207.318826 120.39738 \nL 207.643806 120.423193 \nL 208.618744 116.591744 \nL 208.943724 117.363394 \nL 209.268703 119.070991 \nL 209.593683 120.054876 \nL 209.918662 119.252311 \nL 210.243642 117.567311 \nL 210.568621 117.114383 \nL 211.21858 119.696011 \nL 211.54356 118.726499 \nL 211.868539 117.353933 \nL 212.193519 118.225671 \nL 212.518498 119.450205 \nL 212.843478 118.241559 \nL 213.168457 117.708163 \nL 213.493437 119.190421 \nL 213.818417 118.301247 \nL 214.143396 118.044829 \nL 214.468376 119.070013 \nL 214.793355 117.8145 \nL 215.118335 119.017766 \nL 215.443314 117.910581 \nL 215.768294 118.930293 \nL 216.093273 118.13983 \nL 216.418253 118.340629 \nL 216.743232 118.82054 \nL 217.393191 118.329234 \nL 217.718171 118.313606 \nL 218.36813 118.65905 \nL 218.693109 118.273631 \nL 219.018089 118.598404 \nL 222.592864 118.442692 \nL 227.142577 118.513406 \nL 227.792536 118.598404 \nL 228.117516 118.273631 \nL 228.442495 118.65905 \nL 229.092454 118.313606 \nL 229.417434 118.329234 \nL 230.067393 118.82054 \nL 230.392372 118.340629 \nL 230.717352 118.13983 \nL 231.042331 118.930293 \nL 231.367311 117.910581 \nL 231.69229 119.017766 \nL 232.01727 117.8145 \nL 232.342249 119.070013 \nL 232.667229 118.044829 \nL 232.992208 118.301247 \nL 233.317188 119.190421 \nL 233.642168 117.708163 \nL 233.967147 118.241559 \nL 234.292127 119.450205 \nL 234.942086 117.353933 \nL 235.592045 119.696011 \nL 236.242004 117.114383 \nL 236.566983 117.567311 \nL 236.891963 119.252311 \nL 237.216942 120.054876 \nL 237.541922 119.070991 \nL 237.866901 117.363394 \nL 238.191881 116.591744 \nL 238.51686 117.42027 \nL 239.166819 120.423193 \nL 239.491799 120.39738 \nL 239.816779 119.108545 \nL 240.466738 116.128515 \nL 240.791717 116.03523 \nL 241.116697 117.092245 \nL 241.766656 120.428958 \nL 242.091635 121.357257 \nL 242.416615 121.2681 \nL 242.741594 120.219853 \nL 243.716533 115.460606 \nL 244.041512 114.831197 \nL 244.366492 115.066292 \nL 244.691471 116.088592 \nL 245.991389 122.300583 \nL 246.316369 122.893966 \nL 246.641349 122.783206 \nL 246.966328 122.003166 \nL 247.616287 119.017179 \nL 248.591226 114.147907 \nL 248.916205 113.195711 \nL 249.241185 112.774193 \nL 249.566164 112.912876 \nL 249.891144 113.585471 \nL 250.541103 116.204708 \nL 252.166 124.302446 \nL 252.49098 125.236611 \nL 252.81596 125.76531 \nL 253.140939 125.865732 \nL 253.465919 125.541171 \nL 253.790898 124.818145 \nL 254.440857 122.375395 \nL 255.740775 115.482849 \nL 256.715714 110.901699 \nL 257.365673 109.002313 \nL 257.690652 108.498172 \nL 258.015632 108.308867 \nL 258.340611 108.434486 \nL 258.665591 108.865579 \nL 259.31555 110.565638 \nL 259.965509 113.188628 \nL 261.265427 120.005475 \nL 262.565345 126.815383 \nL 263.540284 130.643568 \nL 264.190243 132.257791 \nL 264.515222 132.747612 \nL 264.840202 133.018989 \nL 265.165181 133.071221 \nL 265.490161 132.906895 \nL 265.815141 132.531602 \nL 266.4651 131.183632 \nL 267.115059 129.120144 \nL 268.089997 124.95201 \nL 269.389915 118.138714 \nL 271.664772 105.963806 \nL 272.639711 101.706017 \nL 273.614649 98.444737 \nL 274.264608 96.910569 \nL 274.914567 95.922991 \nL 275.564526 95.493281 \nL 275.889506 95.487122 \nL 276.214485 95.618155 \nL 276.864444 96.281556 \nL 277.514403 97.456538 \nL 278.164362 99.107161 \nL 279.139301 102.379121 \nL 280.11424 106.456441 \nL 281.414158 112.829765 \nL 283.689014 125.322764 \nL 286.288851 139.304576 \nL 287.913748 146.784007 \nL 289.213666 151.700353 \nL 290.188605 154.664088 \nL 291.163543 156.961042 \nL 292.138482 158.56728 \nL 292.788441 159.249321 \nL 293.4384 159.620661 \nL 294.088359 159.684243 \nL 294.738318 159.445116 \nL 295.388277 158.910207 \nL 296.038236 158.088102 \nL 297.013175 156.338736 \nL 297.988113 154.004925 \nL 298.963052 151.130434 \nL 300.26297 146.538946 \nL 301.887868 139.74766 \nL 303.837745 130.370572 \nL 306.112602 118.253122 \nL 315.861987 64.802422 \nL 318.136844 54.304389 \nL 320.086721 46.360222 \nL 321.711619 40.561302 \nL 323.336516 35.553284 \nL 324.636435 32.135227 \nL 325.936353 29.249819 \nL 327.236271 26.901379 \nL 328.536189 25.090404 \nL 329.511127 24.083263 \nL 330.486066 23.374555 \nL 331.461005 22.961112 \nL 332.435943 22.83901 \nL 333.410882 23.003652 \nL 334.38582 23.449849 \nL 335.360759 24.171891 \nL 336.335697 25.163611 \nL 337.635616 26.894022 \nL 338.935534 29.075721 \nL 340.235452 31.691427 \nL 341.860349 35.544039 \nL 343.485247 40.010785 \nL 345.435124 46.129931 \nL 347.385001 53.016923 \nL 349.659858 61.937589 \nL 352.259694 73.179646 \nL 354.85953 85.401367 \nL 358.109326 101.848358 \nL 361.6841 121.163021 \nL 365.908834 145.237982 \nL 371.433486 178.058802 \nL 385.732585 264.75901 \nL 385.732585 264.75901 \n\" clip-path=\"url(#pa93a21f46d)\" style=\"fill: none; stroke: #1f77b4; stroke-width: 1.5; stroke-linecap: square\"/>\n   </g>\n   <g id=\"patch_3\">\n    <path d=\"M 44.845313 276.85501 \nL 44.845313 10.74301 \n\" style=\"fill: none; stroke: #000000; stroke-width: 0.8; stroke-linejoin: miter; stroke-linecap: square\"/>\n   </g>\n   <g id=\"patch_4\">\n    <path d=\"M 401.965312 276.85501 \nL 401.965312 10.74301 \n\" style=\"fill: none; stroke: #000000; stroke-width: 0.8; stroke-linejoin: miter; stroke-linecap: square\"/>\n   </g>\n   <g id=\"patch_5\">\n    <path d=\"M 44.845313 276.85501 \nL 401.965312 276.85501 \n\" style=\"fill: none; stroke: #000000; stroke-width: 0.8; stroke-linejoin: miter; stroke-linecap: square\"/>\n   </g>\n   <g id=\"patch_6\">\n    <path d=\"M 44.845313 10.74301 \nL 401.965312 10.74301 \n\" style=\"fill: none; stroke: #000000; stroke-width: 0.8; stroke-linejoin: miter; stroke-linecap: square\"/>\n   </g>\n  </g>\n </g>\n <defs>\n  <clipPath id=\"pa93a21f46d\">\n   <rect x=\"44.845313\" y=\"10.74301\" width=\"357.12\" height=\"266.112\"/>\n  </clipPath>\n </defs>\n</svg>\n",
            "image/png": "[encoded data removed]"
          },
          "metadata": {}
        }
      ],
      "metadata": {}
    },
    {
      "cell_type": "markdown",
      "source": [
        "Hint: This one looks tricky because $\\mathrm{cos} \\left( \\frac{1}{x} \\right)$ oscillates increasingly fast as $x$ approaches zero.\n",
        "However, you should still be able to bound its behavior."
      ],
      "metadata": {}
    },
    {
      "cell_type": "code",
      "execution_count": 1,
      "source": [
        "# YOUR CHANGES HERE\n",
        "\"\"\"\n",
        "lim x-> 0    x^2 cos (1/x)\n",
        "\n",
        "since x oscillates fast around zero you can use the squeeze theorem\n",
        "\n",
        "0 <= cos(1/x) <= 0\n",
        "0\n",
        "\n",
        "\"\"\"\n",
        "p17 = 0"
      ],
      "outputs": [],
      "metadata": {
        "id": "r6b4X09smlcz"
      }
    },
    {
      "cell_type": "code",
      "execution_count": 2,
      "source": [
        "p17"
      ],
      "outputs": [
        {
          "output_type": "execute_result",
          "data": {
            "text/plain": [
              "0"
            ]
          },
          "metadata": {},
          "execution_count": 2
        }
      ],
      "metadata": {}
    },
    {
      "cell_type": "markdown",
      "source": [
        "### Problem 18\n",
        "\n",
        "Given a model with a single parameter $c$ whose loss function in terms of $c$ is convex, and given the following samples of the loss function output, what is the best (highest) lower bound that you can put on the optimal value of $c$?\n",
        "\n",
        "| c | Loss(c) |\n",
        "|---:|---:|\n",
        "| 0 | 1.0 |\n",
        "| 1 | 0.5 |\n",
        "| 2 | 0.25 |\n",
        "| 3 | 0.125 | \n",
        "| 4 | 0.25 |\n",
        "| 5 | 0.6 |\n",
        "| 6 | 0.9 |"
      ],
      "metadata": {
        "id": "wO5h_FDkmnaC"
      }
    },
    {
      "cell_type": "code",
      "execution_count": 3,
      "source": [
        "# YOUR CHANGES HERE\n",
        "\n",
        "p18 = 3"
      ],
      "outputs": [],
      "metadata": {
        "id": "E8cvcltFq4wn"
      }
    },
    {
      "cell_type": "markdown",
      "source": [
        "Check the value of `p18`."
      ],
      "metadata": {}
    },
    {
      "cell_type": "code",
      "execution_count": 4,
      "source": [
        "p18"
      ],
      "outputs": [
        {
          "output_type": "execute_result",
          "data": {
            "text/plain": [
              "0.125"
            ]
          },
          "metadata": {},
          "execution_count": 4
        }
      ],
      "metadata": {}
    },
    {
      "cell_type": "markdown",
      "source": [
        "### Problem 19\n",
        "\n",
        "Write a function `p19` that returns the strings \"cat\", \"dog\", \"cow\", \"tiger\" or \"horse\" with equal probability."
      ],
      "metadata": {
        "id": "OIv4TecnnLwW"
      }
    },
    {
      "cell_type": "code",
      "execution_count": 10,
      "source": [
        "# YOUR CHANGES HERE\n",
        "\n",
        "def p19():\n",
        "    return random.choice([\"cat\", \"dog\", \"cow\", \"tiger\", \"horse\"])"
      ],
      "outputs": [],
      "metadata": {
        "id": "CXavfX24nWyL"
      }
    },
    {
      "cell_type": "code",
      "execution_count": 11,
      "source": [
        "[p19() for _ in range(10)]"
      ],
      "outputs": [
        {
          "output_type": "execute_result",
          "data": {
            "text/plain": [
              "['cow', 'dog', 'dog', 'horse', 'tiger', 'cow', 'dog', 'cow', 'tiger', 'cat']"
            ]
          },
          "metadata": {},
          "execution_count": 11
        }
      ],
      "metadata": {}
    },
    {
      "cell_type": "markdown",
      "source": [
        "### Problem 20\n",
        "\n",
        "Set `p20` to the value of $x$ that minimizes $x^4 + 3x^3 + 2x + 5$."
      ],
      "metadata": {
        "id": "WJy4fHQlnYos"
      }
    },
    {
      "cell_type": "code",
      "execution_count": 16,
      "source": [
        "def q20(x):\n",
        "    return x**4 + 3 * x**3 + 2*x + 5\n"
      ],
      "outputs": [],
      "metadata": {}
    },
    {
      "cell_type": "code",
      "execution_count": null,
      "source": [
        "# @title Plot of $x^4 + 3x^3 + 2x + 5$\n",
        "\n",
        "xs = np.linspace(-5, 5, 1000)\n",
        "plt.plot(xs, xs**4 + 3 * xs**3 + 2*xs + 5);"
      ],
      "outputs": [],
      "metadata": {}
    },
    {
      "cell_type": "markdown",
      "source": [
        "Hint: whatever tactics you prefer to minimize this function numerically."
      ],
      "metadata": {}
    },
    {
      "cell_type": "code",
      "execution_count": 37,
      "source": [
        "\"\"\"\n",
        "how to minimize thee expression\n",
        "\n",
        "1. take first derivative of the expression\n",
        "    4x^3 + 3*3x^2 + 2 == 4x^3 + 9x^2 + 2\n",
        "2. set first derivative to zero\n",
        "    4x^3 + 9x^2 + 2 = 0\n",
        "    4x^3 + 9x^2 = -2. x is appprox -2.3\n",
        "3. take 2nd derivative of the expression\n",
        "    12x^2 + 18x\n",
        "4. substitute\n",
        "    12(-2.3^2) + 18(-2.3)\n",
        "    = approx 22.08\n",
        "    since it is positive we know that the \"critical point is a minimum\" so we can return the -2.3\n",
        "\"\"\"\n",
        "p20 = -2.3"
      ],
      "outputs": [],
      "metadata": {
        "id": "qHCZc2VFrDfY"
      }
    },
    {
      "cell_type": "markdown",
      "source": [
        "Check the value of `p20`."
      ],
      "metadata": {}
    },
    {
      "cell_type": "code",
      "execution_count": 38,
      "source": [
        "p20"
      ],
      "outputs": [
        {
          "output_type": "execute_result",
          "data": {
            "text/plain": [
              "-22.08"
            ]
          },
          "metadata": {},
          "execution_count": 38
        }
      ],
      "metadata": {}
    },
    {
      "cell_type": "code",
      "execution_count": 39,
      "source": [
        "q20(p20)"
      ],
      "outputs": [
        {
          "output_type": "execute_result",
          "data": {
            "text/plain": [
              "205349.0819609599"
            ]
          },
          "metadata": {},
          "execution_count": 39
        }
      ],
      "metadata": {}
    },
    {
      "cell_type": "markdown",
      "source": [
        "### Generative AI Usage\n",
        "\n",
        "If you used any generative AI tools, please add links to your transcripts below, and any other information that you feel is necessary to comply with the [generative AI policy](https://www.bu.edu/cds-faculty/culture-community/gaia-policy/).\n",
        "If you did not use any generative AI tools, simply write NONE below."
      ],
      "metadata": {}
    },
    {
      "cell_type": "markdown",
      "source": [
        "NONE"
      ],
      "metadata": {}
    }
  ],
  "metadata": {
    "colab": {
      "toc_visible": false
    },
    "kernelspec": {
      "name": "python3",
      "display_name": "Python 3.13.5 64-bit ('test_env': conda)"
    },
    "language_info": {
      "codemirror_mode": {
        "name": "ipython",
        "version": 3
      },
      "file_extension": ".py",
      "mimetype": "text/x-python",
      "name": "python",
      "nbconvert_exporter": "python",
      "pygments_lexer": "ipython3",
      "version": "3.13.5"
    },
    "interpreter": {
      "hash": "cb23f857d3c7f0ee2d2845c75d7b24082b558c492a726c87849400f4f24ab23a"
    }
  },
  "nbformat": 4,
  "nbformat_minor": 2
}