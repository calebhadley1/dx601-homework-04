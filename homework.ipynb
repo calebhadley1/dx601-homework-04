{
  "cells": [
    {
      "cell_type": "markdown",
      "source": [
        "# DX 601 Week 4 Homework"
      ],
      "metadata": {
        "id": "QOUYaLGHhOgH"
      }
    },
    {
      "cell_type": "markdown",
      "source": [
        "## Introduction\n",
        "\n",
        "In this homework, you will practice linear regression and working with random variables.\n",
        "The data sets of this homework are small, so your code should run in an instant, but you will be able to apply the same techniques to larger data sets.\n",
        "\n",
        "You may find it helpful to refer to these GitHub repositories of Jupyter notebooks for sample code.\n",
        "\n",
        "* https://github.com/bu-cds-omds/dx500-examples\n",
        "* https://github.com/bu-cds-omds/dx601-examples\n",
        "* https://github.com/bu-cds-omds/dx602-examples\n",
        "\n",
        "Any calculations demonstrated in code examples or videos may be found in these notebooks, and you are allowed to copy this example code in your homework answers."
      ],
      "metadata": {
        "id": "_NYSQfpU6p9u"
      }
    },
    {
      "cell_type": "markdown",
      "source": [
        "## Instructions\n",
        "\n",
        "You should replace every instance of \"...\" below.\n",
        "These are where you are expected to write code to answer each problem.\n",
        "\n",
        "After some of the problems, there are extra code cells that will test functions that you wrote so you can quickly see how they run on an example.\n",
        "If your code works on these examples, it is more likely to be correct.\n",
        "However, the autograder will test different examples, so working correctly on these examples does not guarantee full credit for the problem.\n",
        "You may change the example inputs to further test your functions on your own.\n",
        "You may also add your own example inputs for problems where we did not provide any.\n",
        "\n",
        "Be sure to run each code block after you edit it to make sure it runs as expected.\n",
        "When you are done, we strongly recommend you run all the code from scratch (Runtime menu -> Restart and Run all) to make sure your current code works for all problems.\n",
        "\n",
        "If your code raises an exception when run from scratch, it will  interfere with the auto-grader process causing you to lose some or all points for this homework.\n",
        "Please ask for help in YellowDig or schedule an appointment with a learning facilitator if you get stuck.\n"
      ],
      "metadata": {
        "id": "GH7dFzB97Wlh"
      }
    },
    {
      "cell_type": "markdown",
      "source": [
        "## Problems"
      ],
      "metadata": {
        "id": "Ze7ev3s6Bu44"
      }
    },
    {
      "cell_type": "markdown",
      "source": [
        "## Shared Imports\n",
        "\n",
        "Do not install or use any additional modules.\n",
        "Installing additional modules may result in an autograder failure resulting in zero points for some or all problems."
      ],
      "metadata": {
        "id": "vf-VY5qsmS7n"
      }
    },
    {
      "cell_type": "code",
      "execution_count": 8,
      "source": [
        "import math\n",
        "import random"
      ],
      "outputs": [],
      "metadata": {
        "id": "RWYk7xICmOGe"
      }
    },
    {
      "cell_type": "code",
      "execution_count": 9,
      "source": [
        "import matplotlib.pyplot as plt\n",
        "import numpy as np\n",
        "import pandas as pd\n",
        "import sklearn.linear_model"
      ],
      "outputs": [],
      "metadata": {
        "id": "RJSJeBTwCIUS"
      }
    },
    {
      "cell_type": "markdown",
      "source": [
        "### Shared Data\n",
        "\n",
        "Many of the problems will use this mango data set.\n",
        "This data set is small and your code should run instantly with it, but you will be able to use the same code and techniques with larger data sets."
      ],
      "metadata": {
        "id": "UIRa5mxfB3FG"
      }
    },
    {
      "cell_type": "code",
      "execution_count": 3,
      "source": [
        "mango_data = pd.read_csv(\"mango-tiny.tsv\", sep=\"\\t\")"
      ],
      "outputs": [],
      "metadata": {
        "id": "PiW8n851CKo8"
      }
    },
    {
      "cell_type": "code",
      "execution_count": 4,
      "source": [
        "mango_data"
      ],
      "outputs": [
        {
          "output_type": "execute_result",
          "data": {
            "text/plain": [
              "   green_rating  yellow_rating  softness  wrinkles  estimated_flavor  \\\n",
              "0             1              5         4         0                 4   \n",
              "1             1              5         5         1                 5   \n",
              "2             2              4         3         1                 3   \n",
              "3             3              3         2         0                 2   \n",
              "4             5              1         1         1                 1   \n",
              "5             4              2         1         1                 1   \n",
              "6             5              1         1         1                 2   \n",
              "7             3              3         2         1                 2   \n",
              "\n",
              "   estimated_sweetness  rated_flavor  \n",
              "0                    4             5  \n",
              "1                    5             1  \n",
              "2                    3             3  \n",
              "3                    1             2  \n",
              "4                    1             1  \n",
              "5                    1             1  \n",
              "6                    1             1  \n",
              "7                    2             2  "
            ],
            "text/html": [
              "<div>\n",
              "<style scoped>\n",
              "    .dataframe tbody tr th:only-of-type {\n",
              "        vertical-align: middle;\n",
              "    }\n",
              "\n",
              "    .dataframe tbody tr th {\n",
              "        vertical-align: top;\n",
              "    }\n",
              "\n",
              "    .dataframe thead th {\n",
              "        text-align: right;\n",
              "    }\n",
              "</style>\n",
              "<table border=\"1\" class=\"dataframe\">\n",
              "  <thead>\n",
              "    <tr style=\"text-align: right;\">\n",
              "      <th></th>\n",
              "      <th>green_rating</th>\n",
              "      <th>yellow_rating</th>\n",
              "      <th>softness</th>\n",
              "      <th>wrinkles</th>\n",
              "      <th>estimated_flavor</th>\n",
              "      <th>estimated_sweetness</th>\n",
              "      <th>rated_flavor</th>\n",
              "    </tr>\n",
              "  </thead>\n",
              "  <tbody>\n",
              "    <tr>\n",
              "      <th>0</th>\n",
              "      <td>1</td>\n",
              "      <td>5</td>\n",
              "      <td>4</td>\n",
              "      <td>0</td>\n",
              "      <td>4</td>\n",
              "      <td>4</td>\n",
              "      <td>5</td>\n",
              "    </tr>\n",
              "    <tr>\n",
              "      <th>1</th>\n",
              "      <td>1</td>\n",
              "      <td>5</td>\n",
              "      <td>5</td>\n",
              "      <td>1</td>\n",
              "      <td>5</td>\n",
              "      <td>5</td>\n",
              "      <td>1</td>\n",
              "    </tr>\n",
              "    <tr>\n",
              "      <th>2</th>\n",
              "      <td>2</td>\n",
              "      <td>4</td>\n",
              "      <td>3</td>\n",
              "      <td>1</td>\n",
              "      <td>3</td>\n",
              "      <td>3</td>\n",
              "      <td>3</td>\n",
              "    </tr>\n",
              "    <tr>\n",
              "      <th>3</th>\n",
              "      <td>3</td>\n",
              "      <td>3</td>\n",
              "      <td>2</td>\n",
              "      <td>0</td>\n",
              "      <td>2</td>\n",
              "      <td>1</td>\n",
              "      <td>2</td>\n",
              "    </tr>\n",
              "    <tr>\n",
              "      <th>4</th>\n",
              "      <td>5</td>\n",
              "      <td>1</td>\n",
              "      <td>1</td>\n",
              "      <td>1</td>\n",
              "      <td>1</td>\n",
              "      <td>1</td>\n",
              "      <td>1</td>\n",
              "    </tr>\n",
              "    <tr>\n",
              "      <th>5</th>\n",
              "      <td>4</td>\n",
              "      <td>2</td>\n",
              "      <td>1</td>\n",
              "      <td>1</td>\n",
              "      <td>1</td>\n",
              "      <td>1</td>\n",
              "      <td>1</td>\n",
              "    </tr>\n",
              "    <tr>\n",
              "      <th>6</th>\n",
              "      <td>5</td>\n",
              "      <td>1</td>\n",
              "      <td>1</td>\n",
              "      <td>1</td>\n",
              "      <td>2</td>\n",
              "      <td>1</td>\n",
              "      <td>1</td>\n",
              "    </tr>\n",
              "    <tr>\n",
              "      <th>7</th>\n",
              "      <td>3</td>\n",
              "      <td>3</td>\n",
              "      <td>2</td>\n",
              "      <td>1</td>\n",
              "      <td>2</td>\n",
              "      <td>2</td>\n",
              "      <td>2</td>\n",
              "    </tr>\n",
              "  </tbody>\n",
              "</table>\n",
              "</div>"
            ]
          },
          "metadata": {},
          "execution_count": 4
        }
      ],
      "metadata": {
        "colab": {
          "base_uri": "https://localhost:8080/",
          "height": 317
        },
        "id": "MrVaT2kv41QQ",
        "outputId": "828770a9-6f46-422e-b9ac-d01f1dbd5fb0"
      }
    },
    {
      "cell_type": "markdown",
      "source": [
        "### Problem 1\n",
        "\n",
        "Set `p1` to the number of parameters in a linear model trained on the mango data set that predicts rated flavor from the other columns."
      ],
      "metadata": {
        "id": "Poy2o9ST1EvL"
      }
    },
    {
      "cell_type": "code",
      "execution_count": 10,
      "source": [
        "# YOUR CHANGES HERE\n",
        "\n",
        "p1 = len(mango_data.columns) - 1"
      ],
      "outputs": [],
      "metadata": {
        "id": "nhdirreg1pyy"
      }
    },
    {
      "cell_type": "code",
      "execution_count": 11,
      "source": [
        "p1"
      ],
      "outputs": [
        {
          "output_type": "execute_result",
          "data": {
            "text/plain": [
              "6"
            ]
          },
          "metadata": {},
          "execution_count": 11
        }
      ],
      "metadata": {}
    },
    {
      "cell_type": "markdown",
      "source": [
        "### Problem 2\n",
        "\n",
        "Set `p2` to $\\lim_{x \\rightarrow 2} \\frac{(x^2-4)}{x+2}$."
      ],
      "metadata": {
        "id": "g06sNjVm2R_J"
      }
    },
    {
      "cell_type": "markdown",
      "source": [
        "Hint: Try to simplify that fraction assuming $x \\neq 2$."
      ],
      "metadata": {}
    },
    {
      "cell_type": "code",
      "execution_count": 12,
      "source": [
        "# YOUR CHANGES HERE\n",
        "\"\"\"\n",
        "x^2 - 4 = (x-2)(x+2). therefore we simplify the fraction to (x-2)/1 = x-2\n",
        "\n",
        "now we can plug in 2, giving us 0\n",
        "\n",
        "\"\"\"\n",
        "p2 = 0"
      ],
      "outputs": [],
      "metadata": {
        "id": "OpJpSZXW2RDO"
      }
    },
    {
      "cell_type": "markdown",
      "source": [
        "Check the value of `p2`."
      ],
      "metadata": {}
    },
    {
      "cell_type": "code",
      "execution_count": 13,
      "source": [
        "p2"
      ],
      "outputs": [
        {
          "output_type": "execute_result",
          "data": {
            "text/plain": [
              "0"
            ]
          },
          "metadata": {},
          "execution_count": 13
        }
      ],
      "metadata": {}
    },
    {
      "cell_type": "markdown",
      "source": [
        "### Problem 3\n",
        "\n",
        "What is the derivative of $x^2 - 3x + 9$ at $x=2$?"
      ],
      "metadata": {
        "id": "zb6e3gQs4cgL"
      }
    },
    {
      "cell_type": "code",
      "execution_count": 14,
      "source": [
        "# DO NOT CHANGE\n",
        "\n",
        "xs = np.linspace(-5, 5)\n",
        "plt.plot(xs, xs * xs - 3 * xs + 9)\n",
        "plt.ylim(0);"
      ],
      "outputs": [
        {
          "output_type": "display_data",
          "data": {
            "text/plain": [
              "<Figure size 640x480 with 1 Axes>"
            ],
            "image/svg+xml": "<?xml version=\"1.0\" encoding=\"utf-8\" standalone=\"no\"?>\n<!DOCTYPE svg PUBLIC \"-//W3C//DTD SVG 1.1//EN\"\n  \"http://www.w3.org/Graphics/SVG/1.1/DTD/svg11.dtd\">\n<svg xmlns:xlink=\"http://www.w3.org/1999/xlink\" width=\"391.245pt\" height=\"297.190125pt\" viewBox=\"0 0 391.245 297.190125\" xmlns=\"http://www.w3.org/2000/svg\" version=\"1.1\">\n <metadata>\n  <rdf:RDF xmlns:dc=\"http://purl.org/dc/elements/1.1/\" xmlns:cc=\"http://creativecommons.org/ns#\" xmlns:rdf=\"http://www.w3.org/1999/02/22-rdf-syntax-ns#\">\n   <cc:Work>\n    <dc:type rdf:resource=\"http://purl.org/dc/dcmitype/StillImage\"/>\n    <dc:date>2025-09-23T20:31:53.953235</dc:date>\n    <dc:format>image/svg+xml</dc:format>\n    <dc:creator>\n     <cc:Agent>\n      <dc:title>Matplotlib v3.10.0, https://matplotlib.org/</dc:title>\n     </cc:Agent>\n    </dc:creator>\n   </cc:Work>\n  </rdf:RDF>\n </metadata>\n <defs>\n  <style type=\"text/css\">*{stroke-linejoin: round; stroke-linecap: butt}</style>\n </defs>\n <g id=\"figure_1\">\n  <g id=\"patch_1\">\n   <path d=\"M 0 297.190125 \nL 391.245 297.190125 \nL 391.245 0 \nL 0 0 \nz\n\" style=\"fill: #ffffff\"/>\n  </g>\n  <g id=\"axes_1\">\n   <g id=\"patch_2\">\n    <path d=\"M 26.925 273.312 \nL 384.045 273.312 \nL 384.045 7.2 \nL 26.925 7.2 \nz\n\" style=\"fill: #ffffff\"/>\n   </g>\n   <g id=\"matplotlib.axis_1\">\n    <g id=\"xtick_1\">\n     <g id=\"line2d_1\">\n      <defs>\n       <path id=\"m6a5da67c86\" d=\"M 0 0 \nL 0 3.5 \n\" style=\"stroke: #000000; stroke-width: 0.8\"/>\n      </defs>\n      <g>\n       <use xlink:href=\"#m6a5da67c86\" x=\"75.623182\" y=\"273.312\" style=\"stroke: #000000; stroke-width: 0.8\"/>\n      </g>\n     </g>\n     <g id=\"text_1\">\n      <!-- −4 -->\n      <g transform=\"translate(68.252088 287.910437) scale(0.1 -0.1)\">\n       <defs>\n        <path id=\"DejaVuSans-2212\" d=\"M 678 2272 \nL 4684 2272 \nL 4684 1741 \nL 678 1741 \nL 678 2272 \nz\n\" transform=\"scale(0.015625)\"/>\n        <path id=\"DejaVuSans-34\" d=\"M 2419 4116 \nL 825 1625 \nL 2419 1625 \nL 2419 4116 \nz\nM 2253 4666 \nL 3047 4666 \nL 3047 1625 \nL 3713 1625 \nL 3713 1100 \nL 3047 1100 \nL 3047 0 \nL 2419 0 \nL 2419 1100 \nL 313 1100 \nL 313 1709 \nL 2253 4666 \nz\n\" transform=\"scale(0.015625)\"/>\n       </defs>\n       <use xlink:href=\"#DejaVuSans-2212\"/>\n       <use xlink:href=\"#DejaVuSans-34\" transform=\"translate(83.789062 0)\"/>\n      </g>\n     </g>\n    </g>\n    <g id=\"xtick_2\">\n     <g id=\"line2d_2\">\n      <g>\n       <use xlink:href=\"#m6a5da67c86\" x=\"140.554091\" y=\"273.312\" style=\"stroke: #000000; stroke-width: 0.8\"/>\n      </g>\n     </g>\n     <g id=\"text_2\">\n      <!-- −2 -->\n      <g transform=\"translate(133.182997 287.910437) scale(0.1 -0.1)\">\n       <defs>\n        <path id=\"DejaVuSans-32\" d=\"M 1228 531 \nL 3431 531 \nL 3431 0 \nL 469 0 \nL 469 531 \nQ 828 903 1448 1529 \nQ 2069 2156 2228 2338 \nQ 2531 2678 2651 2914 \nQ 2772 3150 2772 3378 \nQ 2772 3750 2511 3984 \nQ 2250 4219 1831 4219 \nQ 1534 4219 1204 4116 \nQ 875 4013 500 3803 \nL 500 4441 \nQ 881 4594 1212 4672 \nQ 1544 4750 1819 4750 \nQ 2544 4750 2975 4387 \nQ 3406 4025 3406 3419 \nQ 3406 3131 3298 2873 \nQ 3191 2616 2906 2266 \nQ 2828 2175 2409 1742 \nQ 1991 1309 1228 531 \nz\n\" transform=\"scale(0.015625)\"/>\n       </defs>\n       <use xlink:href=\"#DejaVuSans-2212\"/>\n       <use xlink:href=\"#DejaVuSans-32\" transform=\"translate(83.789062 0)\"/>\n      </g>\n     </g>\n    </g>\n    <g id=\"xtick_3\">\n     <g id=\"line2d_3\">\n      <g>\n       <use xlink:href=\"#m6a5da67c86\" x=\"205.485\" y=\"273.312\" style=\"stroke: #000000; stroke-width: 0.8\"/>\n      </g>\n     </g>\n     <g id=\"text_3\">\n      <!-- 0 -->\n      <g transform=\"translate(202.30375 287.910437) scale(0.1 -0.1)\">\n       <defs>\n        <path id=\"DejaVuSans-30\" d=\"M 2034 4250 \nQ 1547 4250 1301 3770 \nQ 1056 3291 1056 2328 \nQ 1056 1369 1301 889 \nQ 1547 409 2034 409 \nQ 2525 409 2770 889 \nQ 3016 1369 3016 2328 \nQ 3016 3291 2770 3770 \nQ 2525 4250 2034 4250 \nz\nM 2034 4750 \nQ 2819 4750 3233 4129 \nQ 3647 3509 3647 2328 \nQ 3647 1150 3233 529 \nQ 2819 -91 2034 -91 \nQ 1250 -91 836 529 \nQ 422 1150 422 2328 \nQ 422 3509 836 4129 \nQ 1250 4750 2034 4750 \nz\n\" transform=\"scale(0.015625)\"/>\n       </defs>\n       <use xlink:href=\"#DejaVuSans-30\"/>\n      </g>\n     </g>\n    </g>\n    <g id=\"xtick_4\">\n     <g id=\"line2d_4\">\n      <g>\n       <use xlink:href=\"#m6a5da67c86\" x=\"270.415909\" y=\"273.312\" style=\"stroke: #000000; stroke-width: 0.8\"/>\n      </g>\n     </g>\n     <g id=\"text_4\">\n      <!-- 2 -->\n      <g transform=\"translate(267.234659 287.910437) scale(0.1 -0.1)\">\n       <use xlink:href=\"#DejaVuSans-32\"/>\n      </g>\n     </g>\n    </g>\n    <g id=\"xtick_5\">\n     <g id=\"line2d_5\">\n      <g>\n       <use xlink:href=\"#m6a5da67c86\" x=\"335.346818\" y=\"273.312\" style=\"stroke: #000000; stroke-width: 0.8\"/>\n      </g>\n     </g>\n     <g id=\"text_5\">\n      <!-- 4 -->\n      <g transform=\"translate(332.165568 287.910437) scale(0.1 -0.1)\">\n       <use xlink:href=\"#DejaVuSans-34\"/>\n      </g>\n     </g>\n    </g>\n   </g>\n   <g id=\"matplotlib.axis_2\">\n    <g id=\"ytick_1\">\n     <g id=\"line2d_6\">\n      <defs>\n       <path id=\"mb5382f0753\" d=\"M 0 0 \nL -3.5 0 \n\" style=\"stroke: #000000; stroke-width: 0.8\"/>\n      </defs>\n      <g>\n       <use xlink:href=\"#mb5382f0753\" x=\"26.925\" y=\"273.312\" style=\"stroke: #000000; stroke-width: 0.8\"/>\n      </g>\n     </g>\n     <g id=\"text_6\">\n      <!-- 0 -->\n      <g transform=\"translate(13.5625 277.111219) scale(0.1 -0.1)\">\n       <use xlink:href=\"#DejaVuSans-30\"/>\n      </g>\n     </g>\n    </g>\n    <g id=\"ytick_2\">\n     <g id=\"line2d_7\">\n      <g>\n       <use xlink:href=\"#mb5382f0753\" x=\"26.925\" y=\"221.247976\" style=\"stroke: #000000; stroke-width: 0.8\"/>\n      </g>\n     </g>\n     <g id=\"text_7\">\n      <!-- 10 -->\n      <g transform=\"translate(7.2 225.047194) scale(0.1 -0.1)\">\n       <defs>\n        <path id=\"DejaVuSans-31\" d=\"M 794 531 \nL 1825 531 \nL 1825 4091 \nL 703 3866 \nL 703 4441 \nL 1819 4666 \nL 2450 4666 \nL 2450 531 \nL 3481 531 \nL 3481 0 \nL 794 0 \nL 794 531 \nz\n\" transform=\"scale(0.015625)\"/>\n       </defs>\n       <use xlink:href=\"#DejaVuSans-31\"/>\n       <use xlink:href=\"#DejaVuSans-30\" transform=\"translate(63.623047 0)\"/>\n      </g>\n     </g>\n    </g>\n    <g id=\"ytick_3\">\n     <g id=\"line2d_8\">\n      <g>\n       <use xlink:href=\"#mb5382f0753\" x=\"26.925\" y=\"169.183951\" style=\"stroke: #000000; stroke-width: 0.8\"/>\n      </g>\n     </g>\n     <g id=\"text_8\">\n      <!-- 20 -->\n      <g transform=\"translate(7.2 172.98317) scale(0.1 -0.1)\">\n       <use xlink:href=\"#DejaVuSans-32\"/>\n       <use xlink:href=\"#DejaVuSans-30\" transform=\"translate(63.623047 0)\"/>\n      </g>\n     </g>\n    </g>\n    <g id=\"ytick_4\">\n     <g id=\"line2d_9\">\n      <g>\n       <use xlink:href=\"#mb5382f0753\" x=\"26.925\" y=\"117.119927\" style=\"stroke: #000000; stroke-width: 0.8\"/>\n      </g>\n     </g>\n     <g id=\"text_9\">\n      <!-- 30 -->\n      <g transform=\"translate(7.2 120.919146) scale(0.1 -0.1)\">\n       <defs>\n        <path id=\"DejaVuSans-33\" d=\"M 2597 2516 \nQ 3050 2419 3304 2112 \nQ 3559 1806 3559 1356 \nQ 3559 666 3084 287 \nQ 2609 -91 1734 -91 \nQ 1441 -91 1130 -33 \nQ 819 25 488 141 \nL 488 750 \nQ 750 597 1062 519 \nQ 1375 441 1716 441 \nQ 2309 441 2620 675 \nQ 2931 909 2931 1356 \nQ 2931 1769 2642 2001 \nQ 2353 2234 1838 2234 \nL 1294 2234 \nL 1294 2753 \nL 1863 2753 \nQ 2328 2753 2575 2939 \nQ 2822 3125 2822 3475 \nQ 2822 3834 2567 4026 \nQ 2313 4219 1838 4219 \nQ 1578 4219 1281 4162 \nQ 984 4106 628 3988 \nL 628 4550 \nQ 988 4650 1302 4700 \nQ 1616 4750 1894 4750 \nQ 2613 4750 3031 4423 \nQ 3450 4097 3450 3541 \nQ 3450 3153 3228 2886 \nQ 3006 2619 2597 2516 \nz\n\" transform=\"scale(0.015625)\"/>\n       </defs>\n       <use xlink:href=\"#DejaVuSans-33\"/>\n       <use xlink:href=\"#DejaVuSans-30\" transform=\"translate(63.623047 0)\"/>\n      </g>\n     </g>\n    </g>\n    <g id=\"ytick_5\">\n     <g id=\"line2d_10\">\n      <g>\n       <use xlink:href=\"#mb5382f0753\" x=\"26.925\" y=\"65.055903\" style=\"stroke: #000000; stroke-width: 0.8\"/>\n      </g>\n     </g>\n     <g id=\"text_10\">\n      <!-- 40 -->\n      <g transform=\"translate(7.2 68.855122) scale(0.1 -0.1)\">\n       <use xlink:href=\"#DejaVuSans-34\"/>\n       <use xlink:href=\"#DejaVuSans-30\" transform=\"translate(63.623047 0)\"/>\n      </g>\n     </g>\n    </g>\n    <g id=\"ytick_6\">\n     <g id=\"line2d_11\">\n      <g>\n       <use xlink:href=\"#mb5382f0753\" x=\"26.925\" y=\"12.991879\" style=\"stroke: #000000; stroke-width: 0.8\"/>\n      </g>\n     </g>\n     <g id=\"text_11\">\n      <!-- 50 -->\n      <g transform=\"translate(7.2 16.791097) scale(0.1 -0.1)\">\n       <defs>\n        <path id=\"DejaVuSans-35\" d=\"M 691 4666 \nL 3169 4666 \nL 3169 4134 \nL 1269 4134 \nL 1269 2991 \nQ 1406 3038 1543 3061 \nQ 1681 3084 1819 3084 \nQ 2600 3084 3056 2656 \nQ 3513 2228 3513 1497 \nQ 3513 744 3044 326 \nQ 2575 -91 1722 -91 \nQ 1428 -91 1123 -41 \nQ 819 9 494 109 \nL 494 744 \nQ 775 591 1075 516 \nQ 1375 441 1709 441 \nQ 2250 441 2565 725 \nQ 2881 1009 2881 1497 \nQ 2881 1984 2565 2268 \nQ 2250 2553 1709 2553 \nQ 1456 2553 1204 2497 \nQ 953 2441 691 2322 \nL 691 4666 \nz\n\" transform=\"scale(0.015625)\"/>\n       </defs>\n       <use xlink:href=\"#DejaVuSans-35\"/>\n       <use xlink:href=\"#DejaVuSans-30\" transform=\"translate(63.623047 0)\"/>\n      </g>\n     </g>\n    </g>\n   </g>\n   <g id=\"line2d_12\">\n    <path d=\"M 43.157727 18.198281 \nL 49.78333 31.794342 \nL 56.408933 44.956718 \nL 63.034536 57.685407 \nL 69.660139 69.980409 \nL 76.285742 81.841726 \nL 82.911345 93.269357 \nL 89.536948 104.263301 \nL 96.162551 114.823559 \nL 102.788154 124.950131 \nL 109.413757 134.643017 \nL 116.03936 143.902216 \nL 122.664963 152.72773 \nL 129.290566 161.119557 \nL 135.916169 169.077698 \nL 142.541772 176.602153 \nL 149.167375 183.692922 \nL 155.792978 190.350005 \nL 162.418581 196.573401 \nL 169.044184 202.363112 \nL 175.669787 207.719136 \nL 182.29539 212.641474 \nL 188.920993 217.130126 \nL 195.546596 221.185091 \nL 202.172199 224.806371 \nL 208.797801 227.993964 \nL 215.423404 230.747871 \nL 222.049007 233.068092 \nL 228.67461 234.954627 \nL 235.300213 236.407476 \nL 241.925816 237.426638 \nL 248.551419 238.012115 \nL 255.177022 238.163905 \nL 261.802625 237.882009 \nL 268.428228 237.166426 \nL 275.053831 236.017158 \nL 281.679434 234.434204 \nL 288.305037 232.417563 \nL 294.93064 229.967236 \nL 301.556243 227.083223 \nL 308.181846 223.765524 \nL 314.807449 220.014139 \nL 321.433052 215.829067 \nL 328.058655 211.210309 \nL 334.684258 206.157866 \nL 341.309861 200.671736 \nL 347.935464 194.751919 \nL 354.561067 188.398417 \nL 361.18667 181.611229 \nL 367.812273 174.390354 \n\" clip-path=\"url(#pbe2a770585)\" style=\"fill: none; stroke: #1f77b4; stroke-width: 1.5; stroke-linecap: square\"/>\n   </g>\n   <g id=\"patch_3\">\n    <path d=\"M 26.925 273.312 \nL 26.925 7.2 \n\" style=\"fill: none; stroke: #000000; stroke-width: 0.8; stroke-linejoin: miter; stroke-linecap: square\"/>\n   </g>\n   <g id=\"patch_4\">\n    <path d=\"M 384.045 273.312 \nL 384.045 7.2 \n\" style=\"fill: none; stroke: #000000; stroke-width: 0.8; stroke-linejoin: miter; stroke-linecap: square\"/>\n   </g>\n   <g id=\"patch_5\">\n    <path d=\"M 26.925 273.312 \nL 384.045 273.312 \n\" style=\"fill: none; stroke: #000000; stroke-width: 0.8; stroke-linejoin: miter; stroke-linecap: square\"/>\n   </g>\n   <g id=\"patch_6\">\n    <path d=\"M 26.925 7.2 \nL 384.045 7.2 \n\" style=\"fill: none; stroke: #000000; stroke-width: 0.8; stroke-linejoin: miter; stroke-linecap: square\"/>\n   </g>\n  </g>\n </g>\n <defs>\n  <clipPath id=\"pbe2a770585\">\n   <rect x=\"26.925\" y=\"7.2\" width=\"357.12\" height=\"266.112\"/>\n  </clipPath>\n </defs>\n</svg>\n",
            "image/png": "[encoded data removed]"
          },
          "metadata": {}
        }
      ],
      "metadata": {}
    },
    {
      "cell_type": "code",
      "execution_count": 16,
      "source": [
        "# YOUR CHANGES HERE\n",
        "\"\"\"\n",
        "x^2 becomes 2x, so we have 2x - 3x + 9 = -x + 9\n",
        "at 2 it is -2+9=7\n",
        "\"\"\"\n",
        "\n",
        "p3 = 7"
      ],
      "outputs": [],
      "metadata": {
        "id": "vH-PYxIl2zUn"
      }
    },
    {
      "cell_type": "markdown",
      "source": [
        "Check the value of `p3`."
      ],
      "metadata": {}
    },
    {
      "cell_type": "code",
      "execution_count": 17,
      "source": [
        "p3"
      ],
      "outputs": [
        {
          "output_type": "execute_result",
          "data": {
            "text/plain": [
              "7"
            ]
          },
          "metadata": {},
          "execution_count": 17
        }
      ],
      "metadata": {}
    },
    {
      "cell_type": "markdown",
      "source": [
        "### Problem 4\n",
        "\n",
        "Set `p4` to the mean row of the mango data set.\n",
        "That is, `p4` should be a single row of data with the same columns, where each value is the mean of the corresponding column in the mango data set."
      ],
      "metadata": {
        "id": "QKUyLpq23Jeg"
      }
    },
    {
      "cell_type": "code",
      "execution_count": 22,
      "source": [
        "# YOUR CHANGES HERE\n",
        "\n",
        "p4 = mango_data.mean().to_frame().T"
      ],
      "outputs": [],
      "metadata": {
        "id": "aNiGYYTg3sbv"
      }
    },
    {
      "cell_type": "code",
      "execution_count": 23,
      "source": [
        "p4"
      ],
      "outputs": [
        {
          "output_type": "execute_result",
          "data": {
            "text/plain": [
              "   green_rating  yellow_rating  softness  wrinkles  estimated_flavor  \\\n",
              "0           3.0            3.0     2.375      0.75               2.5   \n",
              "\n",
              "   estimated_sweetness  rated_flavor  \n",
              "0                 2.25           2.0  "
            ],
            "text/html": [
              "<div>\n",
              "<style scoped>\n",
              "    .dataframe tbody tr th:only-of-type {\n",
              "        vertical-align: middle;\n",
              "    }\n",
              "\n",
              "    .dataframe tbody tr th {\n",
              "        vertical-align: top;\n",
              "    }\n",
              "\n",
              "    .dataframe thead th {\n",
              "        text-align: right;\n",
              "    }\n",
              "</style>\n",
              "<table border=\"1\" class=\"dataframe\">\n",
              "  <thead>\n",
              "    <tr style=\"text-align: right;\">\n",
              "      <th></th>\n",
              "      <th>green_rating</th>\n",
              "      <th>yellow_rating</th>\n",
              "      <th>softness</th>\n",
              "      <th>wrinkles</th>\n",
              "      <th>estimated_flavor</th>\n",
              "      <th>estimated_sweetness</th>\n",
              "      <th>rated_flavor</th>\n",
              "    </tr>\n",
              "  </thead>\n",
              "  <tbody>\n",
              "    <tr>\n",
              "      <th>0</th>\n",
              "      <td>3.0</td>\n",
              "      <td>3.0</td>\n",
              "      <td>2.375</td>\n",
              "      <td>0.75</td>\n",
              "      <td>2.5</td>\n",
              "      <td>2.25</td>\n",
              "      <td>2.0</td>\n",
              "    </tr>\n",
              "  </tbody>\n",
              "</table>\n",
              "</div>"
            ]
          },
          "metadata": {},
          "execution_count": 23
        }
      ],
      "metadata": {}
    },
    {
      "cell_type": "markdown",
      "source": [
        "### Problem 5\n",
        "\n",
        "Set `p5` to be the median of the estimated flavor column in the mango data set.\n",
        "\n",
        "You may find NumPy's [numpy.median](https://numpy.org/doc/stable/reference/generated/numpy.median.html) function or pandas' [pandas.DataFrame.median](https://pandas.pydata.org/pandas-docs/stable/reference/api/pandas.DataFrame.median.html) method helpful."
      ],
      "metadata": {
        "id": "_4ZYOT4DB0L3"
      }
    },
    {
      "cell_type": "code",
      "execution_count": 25,
      "source": [
        "# YOUR CHANGES HERE\n",
        "\n",
        "p5 = mango_data['estimated_flavor'].median()"
      ],
      "outputs": [],
      "metadata": {
        "id": "qLQyPsen5ExP"
      }
    },
    {
      "cell_type": "markdown",
      "source": [
        "Check the value of `p5`."
      ],
      "metadata": {}
    },
    {
      "cell_type": "code",
      "execution_count": 26,
      "source": [
        "p5"
      ],
      "outputs": [
        {
          "output_type": "execute_result",
          "data": {
            "text/plain": [
              "2.0"
            ]
          },
          "metadata": {},
          "execution_count": 26
        }
      ],
      "metadata": {}
    },
    {
      "cell_type": "markdown",
      "source": [
        "### Problem 6\n",
        "\n",
        "How many local extrema does the function $x^3 - 3x$ have?"
      ],
      "metadata": {
        "id": "4Sona6mNZDRD"
      }
    },
    {
      "cell_type": "code",
      "execution_count": 160,
      "source": [
        "# @title Plot of $x^3 - 3x$\n",
        "\n",
        "xs = np.linspace(-5,5)\n",
        "plt.plot(xs, xs**3 - 3 * xs);"
      ],
      "outputs": [
        {
          "output_type": "display_data",
          "data": {
            "text/plain": [
              "<Figure size 640x480 with 1 Axes>"
            ],
            "image/png": "[encoded data removed]"
          },
          "metadata": {}
        }
      ],
      "metadata": {}
    },
    {
      "cell_type": "code",
      "execution_count": 27,
      "source": [
        "# YOUR CHANGES HERE\n",
        "\n",
        "p6 = 2"
      ],
      "outputs": [],
      "metadata": {
        "id": "8Ply7kvsZ9AB"
      }
    },
    {
      "cell_type": "markdown",
      "source": [
        "Check the value of `p6`."
      ],
      "metadata": {}
    },
    {
      "cell_type": "code",
      "execution_count": 28,
      "source": [
        "p6"
      ],
      "outputs": [
        {
          "output_type": "execute_result",
          "data": {
            "text/plain": [
              "2"
            ]
          },
          "metadata": {},
          "execution_count": 28
        }
      ],
      "metadata": {}
    },
    {
      "cell_type": "markdown",
      "source": [
        "### Problem 7\n",
        "\n",
        "Set `p7` to the number of following functions that are convex."
      ],
      "metadata": {
        "id": "2sm6qPi7aKWO"
      }
    },
    {
      "cell_type": "code",
      "execution_count": 29,
      "source": [
        "# @ title Functions to Check for Convexity\n",
        "\n",
        "xs = np.linspace(-5, 5)\n",
        "\n",
        "plt.figure(figsize=(10, 4))\n",
        "plt.subplot(2, 5, 1)\n",
        "plt.plot(xs, xs**2)\n",
        "plt.title(\"$x^2$\")\n",
        "\n",
        "plt.subplot(2, 5, 2)\n",
        "plt.plot(xs, -xs**2)\n",
        "plt.title(\"$-x^2$\")\n",
        "\n",
        "plt.subplot(2, 5, 3)\n",
        "plt.plot(xs, xs**3)\n",
        "plt.title(\"$x^3$\")\n",
        "\n",
        "plt.subplot(2, 5, 4)\n",
        "plt.plot(xs, xs**4)\n",
        "plt.title(\"$x^4$\")\n",
        "\n",
        "plt.subplot(2, 5, 5)\n",
        "plt.plot(xs, xs*xs - 9 * xs)\n",
        "plt.title(\"$x^2 - 9x$\")\n",
        "\n",
        "plt.subplot(2, 5, 6)\n",
        "plt.plot(xs, xs)\n",
        "plt.title(\"$x$\")\n",
        "\n",
        "plt.subplot(2, 5, 7)\n",
        "plt.plot(xs, -xs**4+1000 * xs**2)\n",
        "plt.title(\"$1000x^2 - x^4$\")\n",
        "\n",
        "plt.subplot(2, 5, 8)\n",
        "plt.plot([x for x in xs if x > 0], [1 / x for x in xs if x > 0], color=\"C0\")\n",
        "plt.plot([x for x in xs if x < 0], [1 / x for x in xs if x < 0], color=\"C0\")\n",
        "plt.title(\"$1/x$\")\n",
        "\n",
        "plt.subplot(2, 5, 9)\n",
        "plt.plot(xs, -xs)\n",
        "plt.title(\"$-x$\")\n",
        "\n",
        "plt.subplot(2, 5, 10)\n",
        "plt.plot(xs, 0.001 * xs**2)\n",
        "plt.title(\"$0.001 x^2$\")\n",
        "\n",
        "plt.subplots_adjust(hspace=0.4, wspace=0.4);"
      ],
      "outputs": [
        {
          "output_type": "display_data",
          "data": {
            "text/plain": [
              "<Figure size 1000x400 with 10 Axes>"
            ],
            "image/svg+xml": "<?xml version=\"1.0\" encoding=\"utf-8\" standalone=\"no\"?>\n<!DOCTYPE svg PUBLIC \"-//W3C//DTD SVG 1.1//EN\"\n  \"http://www.w3.org/Graphics/SVG/1.1/DTD/svg11.dtd\">\n<svg xmlns:xlink=\"http://www.w3.org/1999/xlink\" width=\"594.142188pt\" height=\"267.95625pt\" viewBox=\"0 0 594.142188 267.95625\" xmlns=\"http://www.w3.org/2000/svg\" version=\"1.1\">\n <metadata>\n  <rdf:RDF xmlns:dc=\"http://purl.org/dc/elements/1.1/\" xmlns:cc=\"http://creativecommons.org/ns#\" xmlns:rdf=\"http://www.w3.org/1999/02/22-rdf-syntax-ns#\">\n   <cc:Work>\n    <dc:type rdf:resource=\"http://purl.org/dc/dcmitype/StillImage\"/>\n    <dc:date>2025-09-23T20:40:56.859293</dc:date>\n    <dc:format>image/svg+xml</dc:format>\n    <dc:creator>\n     <cc:Agent>\n      <dc:title>Matplotlib v3.10.0, https://matplotlib.org/</dc:title>\n     </cc:Agent>\n    </dc:creator>\n   </cc:Work>\n  </rdf:RDF>\n </metadata>\n <defs>\n  <style type=\"text/css\">*{stroke-linejoin: round; stroke-linecap: butt}</style>\n </defs>\n <g id=\"figure_1\">\n  <g id=\"patch_1\">\n   <path d=\"M 0 267.95625 \nL 594.142188 267.95625 \nL 594.142188 0 \nL 0 0 \nz\n\" style=\"fill: #ffffff\"/>\n  </g>\n  <g id=\"axes_1\">\n   <g id=\"patch_2\">\n    <path d=\"M 28.942188 114.718125 \nL 113.487642 114.718125 \nL 113.487642 22.318125 \nL 28.942188 22.318125 \nz\n\" style=\"fill: #ffffff\"/>\n   </g>\n   <g id=\"matplotlib.axis_1\">\n    <g id=\"xtick_1\">\n     <g id=\"line2d_1\">\n      <defs>\n       <path id=\"m8b3cef4aaa\" d=\"M 0 0 \nL 0 3.5 \n\" style=\"stroke: #000000; stroke-width: 0.8\"/>\n      </defs>\n      <g>\n       <use xlink:href=\"#m8b3cef4aaa\" x=\"32.785163\" y=\"114.718125\" style=\"stroke: #000000; stroke-width: 0.8\"/>\n      </g>\n     </g>\n     <g id=\"text_1\">\n      <!-- −5 -->\n      <g transform=\"translate(25.414069 129.316563) scale(0.1 -0.1)\">\n       <defs>\n        <path id=\"DejaVuSans-2212\" d=\"M 678 2272 \nL 4684 2272 \nL 4684 1741 \nL 678 1741 \nL 678 2272 \nz\n\" transform=\"scale(0.015625)\"/>\n        <path id=\"DejaVuSans-35\" d=\"M 691 4666 \nL 3169 4666 \nL 3169 4134 \nL 1269 4134 \nL 1269 2991 \nQ 1406 3038 1543 3061 \nQ 1681 3084 1819 3084 \nQ 2600 3084 3056 2656 \nQ 3513 2228 3513 1497 \nQ 3513 744 3044 326 \nQ 2575 -91 1722 -91 \nQ 1428 -91 1123 -41 \nQ 819 9 494 109 \nL 494 744 \nQ 775 591 1075 516 \nQ 1375 441 1709 441 \nQ 2250 441 2565 725 \nQ 2881 1009 2881 1497 \nQ 2881 1984 2565 2268 \nQ 2250 2553 1709 2553 \nQ 1456 2553 1204 2497 \nQ 953 2441 691 2322 \nL 691 4666 \nz\n\" transform=\"scale(0.015625)\"/>\n       </defs>\n       <use xlink:href=\"#DejaVuSans-2212\"/>\n       <use xlink:href=\"#DejaVuSans-35\" transform=\"translate(83.789062 0)\"/>\n      </g>\n     </g>\n    </g>\n    <g id=\"xtick_2\">\n     <g id=\"line2d_2\">\n      <g>\n       <use xlink:href=\"#m8b3cef4aaa\" x=\"71.214915\" y=\"114.718125\" style=\"stroke: #000000; stroke-width: 0.8\"/>\n      </g>\n     </g>\n     <g id=\"text_2\">\n      <!-- 0 -->\n      <g transform=\"translate(68.033665 129.316563) scale(0.1 -0.1)\">\n       <defs>\n        <path id=\"DejaVuSans-30\" d=\"M 2034 4250 \nQ 1547 4250 1301 3770 \nQ 1056 3291 1056 2328 \nQ 1056 1369 1301 889 \nQ 1547 409 2034 409 \nQ 2525 409 2770 889 \nQ 3016 1369 3016 2328 \nQ 3016 3291 2770 3770 \nQ 2525 4250 2034 4250 \nz\nM 2034 4750 \nQ 2819 4750 3233 4129 \nQ 3647 3509 3647 2328 \nQ 3647 1150 3233 529 \nQ 2819 -91 2034 -91 \nQ 1250 -91 836 529 \nQ 422 1150 422 2328 \nQ 422 3509 836 4129 \nQ 1250 4750 2034 4750 \nz\n\" transform=\"scale(0.015625)\"/>\n       </defs>\n       <use xlink:href=\"#DejaVuSans-30\"/>\n      </g>\n     </g>\n    </g>\n    <g id=\"xtick_3\">\n     <g id=\"line2d_3\">\n      <g>\n       <use xlink:href=\"#m8b3cef4aaa\" x=\"109.644667\" y=\"114.718125\" style=\"stroke: #000000; stroke-width: 0.8\"/>\n      </g>\n     </g>\n     <g id=\"text_3\">\n      <!-- 5 -->\n      <g transform=\"translate(106.463417 129.316563) scale(0.1 -0.1)\">\n       <use xlink:href=\"#DejaVuSans-35\"/>\n      </g>\n     </g>\n    </g>\n   </g>\n   <g id=\"matplotlib.axis_2\">\n    <g id=\"ytick_1\">\n     <g id=\"line2d_4\">\n      <defs>\n       <path id=\"m5e38b55dcb\" d=\"M 0 0 \nL -3.5 0 \n\" style=\"stroke: #000000; stroke-width: 0.8\"/>\n      </defs>\n      <g>\n       <use xlink:href=\"#m5e38b55dcb\" x=\"28.942188\" y=\"110.553125\" style=\"stroke: #000000; stroke-width: 0.8\"/>\n      </g>\n     </g>\n     <g id=\"text_4\">\n      <!-- 0 -->\n      <g transform=\"translate(15.579688 114.352344) scale(0.1 -0.1)\">\n       <use xlink:href=\"#DejaVuSans-30\"/>\n      </g>\n     </g>\n    </g>\n    <g id=\"ytick_2\">\n     <g id=\"line2d_5\">\n      <g>\n       <use xlink:href=\"#m5e38b55dcb\" x=\"28.942188\" y=\"76.939125\" style=\"stroke: #000000; stroke-width: 0.8\"/>\n      </g>\n     </g>\n     <g id=\"text_5\">\n      <!-- 10 -->\n      <g transform=\"translate(9.217188 80.738344) scale(0.1 -0.1)\">\n       <defs>\n        <path id=\"DejaVuSans-31\" d=\"M 794 531 \nL 1825 531 \nL 1825 4091 \nL 703 3866 \nL 703 4441 \nL 1819 4666 \nL 2450 4666 \nL 2450 531 \nL 3481 531 \nL 3481 0 \nL 794 0 \nL 794 531 \nz\n\" transform=\"scale(0.015625)\"/>\n       </defs>\n       <use xlink:href=\"#DejaVuSans-31\"/>\n       <use xlink:href=\"#DejaVuSans-30\" transform=\"translate(63.623047 0)\"/>\n      </g>\n     </g>\n    </g>\n    <g id=\"ytick_3\">\n     <g id=\"line2d_6\">\n      <g>\n       <use xlink:href=\"#m5e38b55dcb\" x=\"28.942188\" y=\"43.325125\" style=\"stroke: #000000; stroke-width: 0.8\"/>\n      </g>\n     </g>\n     <g id=\"text_6\">\n      <!-- 20 -->\n      <g transform=\"translate(9.217188 47.124344) scale(0.1 -0.1)\">\n       <defs>\n        <path id=\"DejaVuSans-32\" d=\"M 1228 531 \nL 3431 531 \nL 3431 0 \nL 469 0 \nL 469 531 \nQ 828 903 1448 1529 \nQ 2069 2156 2228 2338 \nQ 2531 2678 2651 2914 \nQ 2772 3150 2772 3378 \nQ 2772 3750 2511 3984 \nQ 2250 4219 1831 4219 \nQ 1534 4219 1204 4116 \nQ 875 4013 500 3803 \nL 500 4441 \nQ 881 4594 1212 4672 \nQ 1544 4750 1819 4750 \nQ 2544 4750 2975 4387 \nQ 3406 4025 3406 3419 \nQ 3406 3131 3298 2873 \nQ 3191 2616 2906 2266 \nQ 2828 2175 2409 1742 \nQ 1991 1309 1228 531 \nz\n\" transform=\"scale(0.015625)\"/>\n       </defs>\n       <use xlink:href=\"#DejaVuSans-32\"/>\n       <use xlink:href=\"#DejaVuSans-30\" transform=\"translate(63.623047 0)\"/>\n      </g>\n     </g>\n    </g>\n   </g>\n   <g id=\"line2d_7\">\n    <path d=\"M 32.785163 26.518125 \nL 34.353724 33.238125 \nL 35.922285 39.678125 \nL 37.490847 45.838125 \nL 39.059408 51.718125 \nL 40.627969 57.318125 \nL 42.196531 62.638125 \nL 43.765092 67.678125 \nL 45.333653 72.438125 \nL 46.902214 76.918125 \nL 48.470776 81.118125 \nL 50.039337 85.038125 \nL 51.607898 88.678125 \nL 53.17646 92.038125 \nL 54.745021 95.118125 \nL 56.313582 97.918125 \nL 57.882144 100.438125 \nL 59.450705 102.678125 \nL 61.019266 104.638125 \nL 62.587828 106.318125 \nL 64.156389 107.718125 \nL 65.72495 108.838125 \nL 67.293512 109.678125 \nL 68.862073 110.238125 \nL 70.430634 110.518125 \nL 71.999195 110.518125 \nL 73.567757 110.238125 \nL 75.136318 109.678125 \nL 76.704879 108.838125 \nL 78.273441 107.718125 \nL 79.842002 106.318125 \nL 81.410563 104.638125 \nL 82.979125 102.678125 \nL 84.547686 100.438125 \nL 86.116247 97.918125 \nL 87.684809 95.118125 \nL 89.25337 92.038125 \nL 90.821931 88.678125 \nL 92.390492 85.038125 \nL 93.959054 81.118125 \nL 95.527615 76.918125 \nL 97.096176 72.438125 \nL 98.664738 67.678125 \nL 100.233299 62.638125 \nL 101.80186 57.318125 \nL 103.370422 51.718125 \nL 104.938983 45.838125 \nL 106.507544 39.678125 \nL 108.076106 33.238125 \nL 109.644667 26.518125 \n\" clip-path=\"url(#pae7c18d840)\" style=\"fill: none; stroke: #1f77b4; stroke-width: 1.5; stroke-linecap: square\"/>\n   </g>\n   <g id=\"patch_3\">\n    <path d=\"M 28.942188 114.718125 \nL 28.942188 22.318125 \n\" style=\"fill: none; stroke: #000000; stroke-width: 0.8; stroke-linejoin: miter; stroke-linecap: square\"/>\n   </g>\n   <g id=\"patch_4\">\n    <path d=\"M 113.487642 114.718125 \nL 113.487642 22.318125 \n\" style=\"fill: none; stroke: #000000; stroke-width: 0.8; stroke-linejoin: miter; stroke-linecap: square\"/>\n   </g>\n   <g id=\"patch_5\">\n    <path d=\"M 28.942188 114.718125 \nL 113.487642 114.718125 \n\" style=\"fill: none; stroke: #000000; stroke-width: 0.8; stroke-linejoin: miter; stroke-linecap: square\"/>\n   </g>\n   <g id=\"patch_6\">\n    <path d=\"M 28.942188 22.318125 \nL 113.487642 22.318125 \n\" style=\"fill: none; stroke: #000000; stroke-width: 0.8; stroke-linejoin: miter; stroke-linecap: square\"/>\n   </g>\n   <g id=\"text_7\">\n    <!-- $x^2$ -->\n    <g transform=\"translate(64.554915 16.318125) scale(0.12 -0.12)\">\n     <defs>\n      <path id=\"DejaVuSans-Oblique-78\" d=\"M 3841 3500 \nL 2234 1784 \nL 3219 0 \nL 2559 0 \nL 1819 1388 \nL 531 0 \nL -166 0 \nL 1556 1844 \nL 641 3500 \nL 1300 3500 \nL 1972 2234 \nL 3144 3500 \nL 3841 3500 \nz\n\" transform=\"scale(0.015625)\"/>\n     </defs>\n     <use xlink:href=\"#DejaVuSans-Oblique-78\" transform=\"translate(0 0.765625)\"/>\n     <use xlink:href=\"#DejaVuSans-32\" transform=\"translate(63.645833 39.046875) scale(0.7)\"/>\n    </g>\n   </g>\n  </g>\n  <g id=\"axes_2\">\n   <g id=\"patch_7\">\n    <path d=\"M 147.305824 114.718125 \nL 231.851278 114.718125 \nL 231.851278 22.318125 \nL 147.305824 22.318125 \nz\n\" style=\"fill: #ffffff\"/>\n   </g>\n   <g id=\"matplotlib.axis_3\">\n    <g id=\"xtick_4\">\n     <g id=\"line2d_8\">\n      <g>\n       <use xlink:href=\"#m8b3cef4aaa\" x=\"151.148799\" y=\"114.718125\" style=\"stroke: #000000; stroke-width: 0.8\"/>\n      </g>\n     </g>\n     <g id=\"text_8\">\n      <!-- −5 -->\n      <g transform=\"translate(143.777705 129.316563) scale(0.1 -0.1)\">\n       <use xlink:href=\"#DejaVuSans-2212\"/>\n       <use xlink:href=\"#DejaVuSans-35\" transform=\"translate(83.789062 0)\"/>\n      </g>\n     </g>\n    </g>\n    <g id=\"xtick_5\">\n     <g id=\"line2d_9\">\n      <g>\n       <use xlink:href=\"#m8b3cef4aaa\" x=\"189.578551\" y=\"114.718125\" style=\"stroke: #000000; stroke-width: 0.8\"/>\n      </g>\n     </g>\n     <g id=\"text_9\">\n      <!-- 0 -->\n      <g transform=\"translate(186.397301 129.316563) scale(0.1 -0.1)\">\n       <use xlink:href=\"#DejaVuSans-30\"/>\n      </g>\n     </g>\n    </g>\n    <g id=\"xtick_6\">\n     <g id=\"line2d_10\">\n      <g>\n       <use xlink:href=\"#m8b3cef4aaa\" x=\"228.008303\" y=\"114.718125\" style=\"stroke: #000000; stroke-width: 0.8\"/>\n      </g>\n     </g>\n     <g id=\"text_10\">\n      <!-- 5 -->\n      <g transform=\"translate(224.827053 129.316563) scale(0.1 -0.1)\">\n       <use xlink:href=\"#DejaVuSans-35\"/>\n      </g>\n     </g>\n    </g>\n   </g>\n   <g id=\"matplotlib.axis_4\">\n    <g id=\"ytick_4\">\n     <g id=\"line2d_11\">\n      <g>\n       <use xlink:href=\"#m5e38b55dcb\" x=\"147.305824\" y=\"93.711125\" style=\"stroke: #000000; stroke-width: 0.8\"/>\n      </g>\n     </g>\n     <g id=\"text_11\">\n      <!-- −20 -->\n      <g transform=\"translate(119.201136 97.510344) scale(0.1 -0.1)\">\n       <use xlink:href=\"#DejaVuSans-2212\"/>\n       <use xlink:href=\"#DejaVuSans-32\" transform=\"translate(83.789062 0)\"/>\n       <use xlink:href=\"#DejaVuSans-30\" transform=\"translate(147.412109 0)\"/>\n      </g>\n     </g>\n    </g>\n    <g id=\"ytick_5\">\n     <g id=\"line2d_12\">\n      <g>\n       <use xlink:href=\"#m5e38b55dcb\" x=\"147.305824\" y=\"60.097125\" style=\"stroke: #000000; stroke-width: 0.8\"/>\n      </g>\n     </g>\n     <g id=\"text_12\">\n      <!-- −10 -->\n      <g transform=\"translate(119.201136 63.896344) scale(0.1 -0.1)\">\n       <use xlink:href=\"#DejaVuSans-2212\"/>\n       <use xlink:href=\"#DejaVuSans-31\" transform=\"translate(83.789062 0)\"/>\n       <use xlink:href=\"#DejaVuSans-30\" transform=\"translate(147.412109 0)\"/>\n      </g>\n     </g>\n    </g>\n    <g id=\"ytick_6\">\n     <g id=\"line2d_13\">\n      <g>\n       <use xlink:href=\"#m5e38b55dcb\" x=\"147.305824\" y=\"26.483125\" style=\"stroke: #000000; stroke-width: 0.8\"/>\n      </g>\n     </g>\n     <g id=\"text_13\">\n      <!-- 0 -->\n      <g transform=\"translate(133.943324 30.282344) scale(0.1 -0.1)\">\n       <use xlink:href=\"#DejaVuSans-30\"/>\n      </g>\n     </g>\n    </g>\n   </g>\n   <g id=\"line2d_14\">\n    <path d=\"M 151.148799 110.518125 \nL 152.71736 103.798125 \nL 154.285922 97.358125 \nL 155.854483 91.198125 \nL 157.423044 85.318125 \nL 158.991606 79.718125 \nL 160.560167 74.398125 \nL 162.128728 69.358125 \nL 163.69729 64.598125 \nL 165.265851 60.118125 \nL 166.834412 55.918125 \nL 168.402973 51.998125 \nL 169.971535 48.358125 \nL 171.540096 44.998125 \nL 173.108657 41.918125 \nL 174.677219 39.118125 \nL 176.24578 36.598125 \nL 177.814341 34.358125 \nL 179.382903 32.398125 \nL 180.951464 30.718125 \nL 182.520025 29.318125 \nL 184.088587 28.198125 \nL 185.657148 27.358125 \nL 187.225709 26.798125 \nL 188.79427 26.518125 \nL 190.362832 26.518125 \nL 191.931393 26.798125 \nL 193.499954 27.358125 \nL 195.068516 28.198125 \nL 196.637077 29.318125 \nL 198.205638 30.718125 \nL 199.7742 32.398125 \nL 201.342761 34.358125 \nL 202.911322 36.598125 \nL 204.479884 39.118125 \nL 206.048445 41.918125 \nL 207.617006 44.998125 \nL 209.185567 48.358125 \nL 210.754129 51.998125 \nL 212.32269 55.918125 \nL 213.891251 60.118125 \nL 215.459813 64.598125 \nL 217.028374 69.358125 \nL 218.596935 74.398125 \nL 220.165497 79.718125 \nL 221.734058 85.318125 \nL 223.302619 91.198125 \nL 224.871181 97.358125 \nL 226.439742 103.798125 \nL 228.008303 110.518125 \n\" clip-path=\"url(#p526525476d)\" style=\"fill: none; stroke: #1f77b4; stroke-width: 1.5; stroke-linecap: square\"/>\n   </g>\n   <g id=\"patch_8\">\n    <path d=\"M 147.305824 114.718125 \nL 147.305824 22.318125 \n\" style=\"fill: none; stroke: #000000; stroke-width: 0.8; stroke-linejoin: miter; stroke-linecap: square\"/>\n   </g>\n   <g id=\"patch_9\">\n    <path d=\"M 231.851278 114.718125 \nL 231.851278 22.318125 \n\" style=\"fill: none; stroke: #000000; stroke-width: 0.8; stroke-linejoin: miter; stroke-linecap: square\"/>\n   </g>\n   <g id=\"patch_10\">\n    <path d=\"M 147.305824 114.718125 \nL 231.851278 114.718125 \n\" style=\"fill: none; stroke: #000000; stroke-width: 0.8; stroke-linejoin: miter; stroke-linecap: square\"/>\n   </g>\n   <g id=\"patch_11\">\n    <path d=\"M 147.305824 22.318125 \nL 231.851278 22.318125 \n\" style=\"fill: none; stroke: #000000; stroke-width: 0.8; stroke-linejoin: miter; stroke-linecap: square\"/>\n   </g>\n   <g id=\"text_14\">\n    <!-- $-x^2$ -->\n    <g transform=\"translate(177.878551 16.318125) scale(0.12 -0.12)\">\n     <use xlink:href=\"#DejaVuSans-2212\" transform=\"translate(0 0.765625)\"/>\n     <use xlink:href=\"#DejaVuSans-Oblique-78\" transform=\"translate(83.789062 0.765625)\"/>\n     <use xlink:href=\"#DejaVuSans-32\" transform=\"translate(147.434896 39.046875) scale(0.7)\"/>\n    </g>\n   </g>\n  </g>\n  <g id=\"axes_3\">\n   <g id=\"patch_12\">\n    <path d=\"M 265.66946 114.718125 \nL 350.214915 114.718125 \nL 350.214915 22.318125 \nL 265.66946 22.318125 \nz\n\" style=\"fill: #ffffff\"/>\n   </g>\n   <g id=\"matplotlib.axis_5\">\n    <g id=\"xtick_7\">\n     <g id=\"line2d_15\">\n      <g>\n       <use xlink:href=\"#m8b3cef4aaa\" x=\"269.512435\" y=\"114.718125\" style=\"stroke: #000000; stroke-width: 0.8\"/>\n      </g>\n     </g>\n     <g id=\"text_15\">\n      <!-- −5 -->\n      <g transform=\"translate(262.141342 129.316563) scale(0.1 -0.1)\">\n       <use xlink:href=\"#DejaVuSans-2212\"/>\n       <use xlink:href=\"#DejaVuSans-35\" transform=\"translate(83.789062 0)\"/>\n      </g>\n     </g>\n    </g>\n    <g id=\"xtick_8\">\n     <g id=\"line2d_16\">\n      <g>\n       <use xlink:href=\"#m8b3cef4aaa\" x=\"307.942188\" y=\"114.718125\" style=\"stroke: #000000; stroke-width: 0.8\"/>\n      </g>\n     </g>\n     <g id=\"text_16\">\n      <!-- 0 -->\n      <g transform=\"translate(304.760938 129.316563) scale(0.1 -0.1)\">\n       <use xlink:href=\"#DejaVuSans-30\"/>\n      </g>\n     </g>\n    </g>\n    <g id=\"xtick_9\">\n     <g id=\"line2d_17\">\n      <g>\n       <use xlink:href=\"#m8b3cef4aaa\" x=\"346.37194\" y=\"114.718125\" style=\"stroke: #000000; stroke-width: 0.8\"/>\n      </g>\n     </g>\n     <g id=\"text_17\">\n      <!-- 5 -->\n      <g transform=\"translate(343.19069 129.316563) scale(0.1 -0.1)\">\n       <use xlink:href=\"#DejaVuSans-35\"/>\n      </g>\n     </g>\n    </g>\n   </g>\n   <g id=\"matplotlib.axis_6\">\n    <g id=\"ytick_7\">\n     <g id=\"line2d_18\">\n      <g>\n       <use xlink:href=\"#m5e38b55dcb\" x=\"265.66946\" y=\"102.118125\" style=\"stroke: #000000; stroke-width: 0.8\"/>\n      </g>\n     </g>\n     <g id=\"text_18\">\n      <!-- −100 -->\n      <g transform=\"translate(231.202273 105.917344) scale(0.1 -0.1)\">\n       <use xlink:href=\"#DejaVuSans-2212\"/>\n       <use xlink:href=\"#DejaVuSans-31\" transform=\"translate(83.789062 0)\"/>\n       <use xlink:href=\"#DejaVuSans-30\" transform=\"translate(147.412109 0)\"/>\n       <use xlink:href=\"#DejaVuSans-30\" transform=\"translate(211.035156 0)\"/>\n      </g>\n     </g>\n    </g>\n    <g id=\"ytick_8\">\n     <g id=\"line2d_19\">\n      <g>\n       <use xlink:href=\"#m5e38b55dcb\" x=\"265.66946\" y=\"68.518125\" style=\"stroke: #000000; stroke-width: 0.8\"/>\n      </g>\n     </g>\n     <g id=\"text_19\">\n      <!-- 0 -->\n      <g transform=\"translate(252.30696 72.317344) scale(0.1 -0.1)\">\n       <use xlink:href=\"#DejaVuSans-30\"/>\n      </g>\n     </g>\n    </g>\n    <g id=\"ytick_9\">\n     <g id=\"line2d_20\">\n      <g>\n       <use xlink:href=\"#m5e38b55dcb\" x=\"265.66946\" y=\"34.918125\" style=\"stroke: #000000; stroke-width: 0.8\"/>\n      </g>\n     </g>\n     <g id=\"text_20\">\n      <!-- 100 -->\n      <g transform=\"translate(239.58196 38.717344) scale(0.1 -0.1)\">\n       <use xlink:href=\"#DejaVuSans-31\"/>\n       <use xlink:href=\"#DejaVuSans-30\" transform=\"translate(63.623047 0)\"/>\n       <use xlink:href=\"#DejaVuSans-30\" transform=\"translate(127.246094 0)\"/>\n      </g>\n     </g>\n    </g>\n   </g>\n   <g id=\"line2d_21\">\n    <path d=\"M 269.512435 110.518125 \nL 271.080997 105.582324 \nL 272.649558 101.049213 \nL 274.218119 96.901656 \nL 275.786681 93.122516 \nL 277.355242 89.694659 \nL 278.923803 86.600948 \nL 280.492365 83.824247 \nL 282.060926 81.347422 \nL 283.629487 79.153337 \nL 285.198049 77.224854 \nL 286.76661 75.54484 \nL 288.335171 74.096158 \nL 289.903732 72.861672 \nL 291.472294 71.824247 \nL 293.040855 70.966748 \nL 294.609416 70.272037 \nL 296.177978 69.72298 \nL 297.746539 69.302441 \nL 299.3151 68.993284 \nL 300.883662 68.778374 \nL 302.452223 68.640574 \nL 304.020784 68.562749 \nL 305.589346 68.527764 \nL 307.157907 68.518482 \nL 308.726468 68.517768 \nL 310.295029 68.508486 \nL 311.863591 68.473501 \nL 313.432152 68.395676 \nL 315.000713 68.257876 \nL 316.569275 68.042966 \nL 318.137836 67.733809 \nL 319.706397 67.31327 \nL 321.274959 66.764213 \nL 322.84352 66.069502 \nL 324.412081 65.212003 \nL 325.980643 64.174578 \nL 327.549204 62.940092 \nL 329.117765 61.49141 \nL 330.686326 59.811396 \nL 332.254888 57.882913 \nL 333.823449 55.688828 \nL 335.39201 53.212003 \nL 336.960572 50.435302 \nL 338.529133 47.341591 \nL 340.097694 43.913734 \nL 341.666256 40.134594 \nL 343.234817 35.987037 \nL 344.803378 31.453926 \nL 346.37194 26.518125 \n\" clip-path=\"url(#pdccb2ea06c)\" style=\"fill: none; stroke: #1f77b4; stroke-width: 1.5; stroke-linecap: square\"/>\n   </g>\n   <g id=\"patch_13\">\n    <path d=\"M 265.66946 114.718125 \nL 265.66946 22.318125 \n\" style=\"fill: none; stroke: #000000; stroke-width: 0.8; stroke-linejoin: miter; stroke-linecap: square\"/>\n   </g>\n   <g id=\"patch_14\">\n    <path d=\"M 350.214915 114.718125 \nL 350.214915 22.318125 \n\" style=\"fill: none; stroke: #000000; stroke-width: 0.8; stroke-linejoin: miter; stroke-linecap: square\"/>\n   </g>\n   <g id=\"patch_15\">\n    <path d=\"M 265.66946 114.718125 \nL 350.214915 114.718125 \n\" style=\"fill: none; stroke: #000000; stroke-width: 0.8; stroke-linejoin: miter; stroke-linecap: square\"/>\n   </g>\n   <g id=\"patch_16\">\n    <path d=\"M 265.66946 22.318125 \nL 350.214915 22.318125 \n\" style=\"fill: none; stroke: #000000; stroke-width: 0.8; stroke-linejoin: miter; stroke-linecap: square\"/>\n   </g>\n   <g id=\"text_21\">\n    <!-- $x^3$ -->\n    <g transform=\"translate(301.282188 16.318125) scale(0.12 -0.12)\">\n     <defs>\n      <path id=\"DejaVuSans-33\" d=\"M 2597 2516 \nQ 3050 2419 3304 2112 \nQ 3559 1806 3559 1356 \nQ 3559 666 3084 287 \nQ 2609 -91 1734 -91 \nQ 1441 -91 1130 -33 \nQ 819 25 488 141 \nL 488 750 \nQ 750 597 1062 519 \nQ 1375 441 1716 441 \nQ 2309 441 2620 675 \nQ 2931 909 2931 1356 \nQ 2931 1769 2642 2001 \nQ 2353 2234 1838 2234 \nL 1294 2234 \nL 1294 2753 \nL 1863 2753 \nQ 2328 2753 2575 2939 \nQ 2822 3125 2822 3475 \nQ 2822 3834 2567 4026 \nQ 2313 4219 1838 4219 \nQ 1578 4219 1281 4162 \nQ 984 4106 628 3988 \nL 628 4550 \nQ 988 4650 1302 4700 \nQ 1616 4750 1894 4750 \nQ 2613 4750 3031 4423 \nQ 3450 4097 3450 3541 \nQ 3450 3153 3228 2886 \nQ 3006 2619 2597 2516 \nz\n\" transform=\"scale(0.015625)\"/>\n     </defs>\n     <use xlink:href=\"#DejaVuSans-Oblique-78\" transform=\"translate(0 0.765625)\"/>\n     <use xlink:href=\"#DejaVuSans-33\" transform=\"translate(63.645833 39.046875) scale(0.7)\"/>\n    </g>\n   </g>\n  </g>\n  <g id=\"axes_4\">\n   <g id=\"patch_17\">\n    <path d=\"M 384.033097 114.718125 \nL 468.578551 114.718125 \nL 468.578551 22.318125 \nL 384.033097 22.318125 \nz\n\" style=\"fill: #ffffff\"/>\n   </g>\n   <g id=\"matplotlib.axis_7\">\n    <g id=\"xtick_10\">\n     <g id=\"line2d_22\">\n      <g>\n       <use xlink:href=\"#m8b3cef4aaa\" x=\"387.876072\" y=\"114.718125\" style=\"stroke: #000000; stroke-width: 0.8\"/>\n      </g>\n     </g>\n     <g id=\"text_22\">\n      <!-- −5 -->\n      <g transform=\"translate(380.504978 129.316563) scale(0.1 -0.1)\">\n       <use xlink:href=\"#DejaVuSans-2212\"/>\n       <use xlink:href=\"#DejaVuSans-35\" transform=\"translate(83.789062 0)\"/>\n      </g>\n     </g>\n    </g>\n    <g id=\"xtick_11\">\n     <g id=\"line2d_23\">\n      <g>\n       <use xlink:href=\"#m8b3cef4aaa\" x=\"426.305824\" y=\"114.718125\" style=\"stroke: #000000; stroke-width: 0.8\"/>\n      </g>\n     </g>\n     <g id=\"text_23\">\n      <!-- 0 -->\n      <g transform=\"translate(423.124574 129.316563) scale(0.1 -0.1)\">\n       <use xlink:href=\"#DejaVuSans-30\"/>\n      </g>\n     </g>\n    </g>\n    <g id=\"xtick_12\">\n     <g id=\"line2d_24\">\n      <g>\n       <use xlink:href=\"#m8b3cef4aaa\" x=\"464.735576\" y=\"114.718125\" style=\"stroke: #000000; stroke-width: 0.8\"/>\n      </g>\n     </g>\n     <g id=\"text_24\">\n      <!-- 5 -->\n      <g transform=\"translate(461.554326 129.316563) scale(0.1 -0.1)\">\n       <use xlink:href=\"#DejaVuSans-35\"/>\n      </g>\n     </g>\n    </g>\n   </g>\n   <g id=\"matplotlib.axis_8\">\n    <g id=\"ytick_10\">\n     <g id=\"line2d_25\">\n      <g>\n       <use xlink:href=\"#m5e38b55dcb\" x=\"384.033097\" y=\"110.51814\" style=\"stroke: #000000; stroke-width: 0.8\"/>\n      </g>\n     </g>\n     <g id=\"text_25\">\n      <!-- 0 -->\n      <g transform=\"translate(370.670597 114.317358) scale(0.1 -0.1)\">\n       <use xlink:href=\"#DejaVuSans-30\"/>\n      </g>\n     </g>\n    </g>\n    <g id=\"ytick_11\">\n     <g id=\"line2d_26\">\n      <g>\n       <use xlink:href=\"#m5e38b55dcb\" x=\"384.033097\" y=\"83.638135\" style=\"stroke: #000000; stroke-width: 0.8\"/>\n      </g>\n     </g>\n     <g id=\"text_26\">\n      <!-- 200 -->\n      <g transform=\"translate(357.945597 87.437354) scale(0.1 -0.1)\">\n       <use xlink:href=\"#DejaVuSans-32\"/>\n       <use xlink:href=\"#DejaVuSans-30\" transform=\"translate(63.623047 0)\"/>\n       <use xlink:href=\"#DejaVuSans-30\" transform=\"translate(127.246094 0)\"/>\n      </g>\n     </g>\n    </g>\n    <g id=\"ytick_12\">\n     <g id=\"line2d_27\">\n      <g>\n       <use xlink:href=\"#m5e38b55dcb\" x=\"384.033097\" y=\"56.75813\" style=\"stroke: #000000; stroke-width: 0.8\"/>\n      </g>\n     </g>\n     <g id=\"text_27\">\n      <!-- 400 -->\n      <g transform=\"translate(357.945597 60.557349) scale(0.1 -0.1)\">\n       <defs>\n        <path id=\"DejaVuSans-34\" d=\"M 2419 4116 \nL 825 1625 \nL 2419 1625 \nL 2419 4116 \nz\nM 2253 4666 \nL 3047 4666 \nL 3047 1625 \nL 3713 1625 \nL 3713 1100 \nL 3047 1100 \nL 3047 0 \nL 2419 0 \nL 2419 1100 \nL 313 1100 \nL 313 1709 \nL 2253 4666 \nz\n\" transform=\"scale(0.015625)\"/>\n       </defs>\n       <use xlink:href=\"#DejaVuSans-34\"/>\n       <use xlink:href=\"#DejaVuSans-30\" transform=\"translate(63.623047 0)\"/>\n       <use xlink:href=\"#DejaVuSans-30\" transform=\"translate(127.246094 0)\"/>\n      </g>\n     </g>\n    </g>\n    <g id=\"ytick_13\">\n     <g id=\"line2d_28\">\n      <g>\n       <use xlink:href=\"#m5e38b55dcb\" x=\"384.033097\" y=\"29.878126\" style=\"stroke: #000000; stroke-width: 0.8\"/>\n      </g>\n     </g>\n     <g id=\"text_28\">\n      <!-- 600 -->\n      <g transform=\"translate(357.945597 33.677344) scale(0.1 -0.1)\">\n       <defs>\n        <path id=\"DejaVuSans-36\" d=\"M 2113 2584 \nQ 1688 2584 1439 2293 \nQ 1191 2003 1191 1497 \nQ 1191 994 1439 701 \nQ 1688 409 2113 409 \nQ 2538 409 2786 701 \nQ 3034 994 3034 1497 \nQ 3034 2003 2786 2293 \nQ 2538 2584 2113 2584 \nz\nM 3366 4563 \nL 3366 3988 \nQ 3128 4100 2886 4159 \nQ 2644 4219 2406 4219 \nQ 1781 4219 1451 3797 \nQ 1122 3375 1075 2522 \nQ 1259 2794 1537 2939 \nQ 1816 3084 2150 3084 \nQ 2853 3084 3261 2657 \nQ 3669 2231 3669 1497 \nQ 3669 778 3244 343 \nQ 2819 -91 2113 -91 \nQ 1303 -91 875 529 \nQ 447 1150 447 2328 \nQ 447 3434 972 4092 \nQ 1497 4750 2381 4750 \nQ 2619 4750 2861 4703 \nQ 3103 4656 3366 4563 \nz\n\" transform=\"scale(0.015625)\"/>\n       </defs>\n       <use xlink:href=\"#DejaVuSans-36\"/>\n       <use xlink:href=\"#DejaVuSans-30\" transform=\"translate(63.623047 0)\"/>\n       <use xlink:href=\"#DejaVuSans-30\" transform=\"translate(127.246094 0)\"/>\n      </g>\n     </g>\n    </g>\n   </g>\n   <g id=\"line2d_29\">\n    <path d=\"M 387.876072 26.518125 \nL 389.444633 39.415377 \nL 391.013194 50.767151 \nL 392.581756 60.702138 \nL 394.150317 69.343437 \nL 395.718878 76.80855 \nL 397.28744 83.209382 \nL 398.856001 88.652247 \nL 400.424562 93.237859 \nL 401.993124 97.061339 \nL 403.561685 100.212213 \nL 405.130246 102.774411 \nL 406.698808 104.826268 \nL 408.267369 106.440523 \nL 409.83593 107.68432 \nL 411.404491 108.619207 \nL 412.973053 109.301139 \nL 414.541614 109.780473 \nL 416.110175 110.101972 \nL 417.678737 110.304803 \nL 419.247298 110.422538 \nL 420.815859 110.483154 \nL 422.384421 110.509033 \nL 423.952982 110.516959 \nL 425.521543 110.518125 \nL 427.090105 110.518125 \nL 428.658666 110.516959 \nL 430.227227 110.509033 \nL 431.795788 110.483154 \nL 433.36435 110.422538 \nL 434.932911 110.304803 \nL 436.501472 110.101972 \nL 438.070034 109.780473 \nL 439.638595 109.301139 \nL 441.207156 108.619207 \nL 442.775718 107.68432 \nL 444.344279 106.440523 \nL 445.91284 104.826268 \nL 447.481402 102.774411 \nL 449.049963 100.212213 \nL 450.618524 97.061339 \nL 452.187085 93.237859 \nL 453.755647 88.652247 \nL 455.324208 83.209382 \nL 456.892769 76.80855 \nL 458.461331 69.343437 \nL 460.029892 60.702138 \nL 461.598453 50.767151 \nL 463.167015 39.415377 \nL 464.735576 26.518125 \n\" clip-path=\"url(#pf87e7725d3)\" style=\"fill: none; stroke: #1f77b4; stroke-width: 1.5; stroke-linecap: square\"/>\n   </g>\n   <g id=\"patch_18\">\n    <path d=\"M 384.033097 114.718125 \nL 384.033097 22.318125 \n\" style=\"fill: none; stroke: #000000; stroke-width: 0.8; stroke-linejoin: miter; stroke-linecap: square\"/>\n   </g>\n   <g id=\"patch_19\">\n    <path d=\"M 468.578551 114.718125 \nL 468.578551 22.318125 \n\" style=\"fill: none; stroke: #000000; stroke-width: 0.8; stroke-linejoin: miter; stroke-linecap: square\"/>\n   </g>\n   <g id=\"patch_20\">\n    <path d=\"M 384.033097 114.718125 \nL 468.578551 114.718125 \n\" style=\"fill: none; stroke: #000000; stroke-width: 0.8; stroke-linejoin: miter; stroke-linecap: square\"/>\n   </g>\n   <g id=\"patch_21\">\n    <path d=\"M 384.033097 22.318125 \nL 468.578551 22.318125 \n\" style=\"fill: none; stroke: #000000; stroke-width: 0.8; stroke-linejoin: miter; stroke-linecap: square\"/>\n   </g>\n   <g id=\"text_29\">\n    <!-- $x^4$ -->\n    <g transform=\"translate(419.645824 16.318125) scale(0.12 -0.12)\">\n     <use xlink:href=\"#DejaVuSans-Oblique-78\" transform=\"translate(0 0.684375)\"/>\n     <use xlink:href=\"#DejaVuSans-34\" transform=\"translate(63.645833 38.965625) scale(0.7)\"/>\n    </g>\n   </g>\n  </g>\n  <g id=\"axes_5\">\n   <g id=\"patch_22\">\n    <path d=\"M 502.396733 114.718125 \nL 586.942188 114.718125 \nL 586.942188 22.318125 \nL 502.396733 22.318125 \nz\n\" style=\"fill: #ffffff\"/>\n   </g>\n   <g id=\"matplotlib.axis_9\">\n    <g id=\"xtick_13\">\n     <g id=\"line2d_30\">\n      <g>\n       <use xlink:href=\"#m8b3cef4aaa\" x=\"506.239708\" y=\"114.718125\" style=\"stroke: #000000; stroke-width: 0.8\"/>\n      </g>\n     </g>\n     <g id=\"text_30\">\n      <!-- −5 -->\n      <g transform=\"translate(498.868614 129.316563) scale(0.1 -0.1)\">\n       <use xlink:href=\"#DejaVuSans-2212\"/>\n       <use xlink:href=\"#DejaVuSans-35\" transform=\"translate(83.789062 0)\"/>\n      </g>\n     </g>\n    </g>\n    <g id=\"xtick_14\">\n     <g id=\"line2d_31\">\n      <g>\n       <use xlink:href=\"#m8b3cef4aaa\" x=\"544.66946\" y=\"114.718125\" style=\"stroke: #000000; stroke-width: 0.8\"/>\n      </g>\n     </g>\n     <g id=\"text_31\">\n      <!-- 0 -->\n      <g transform=\"translate(541.48821 129.316563) scale(0.1 -0.1)\">\n       <use xlink:href=\"#DejaVuSans-30\"/>\n      </g>\n     </g>\n    </g>\n    <g id=\"xtick_15\">\n     <g id=\"line2d_32\">\n      <g>\n       <use xlink:href=\"#m8b3cef4aaa\" x=\"583.099212\" y=\"114.718125\" style=\"stroke: #000000; stroke-width: 0.8\"/>\n      </g>\n     </g>\n     <g id=\"text_32\">\n      <!-- 5 -->\n      <g transform=\"translate(579.917962 129.316563) scale(0.1 -0.1)\">\n       <use xlink:href=\"#DejaVuSans-35\"/>\n      </g>\n     </g>\n    </g>\n   </g>\n   <g id=\"matplotlib.axis_10\">\n    <g id=\"ytick_14\">\n     <g id=\"line2d_33\">\n      <g>\n       <use xlink:href=\"#m5e38b55dcb\" x=\"502.396733\" y=\"91.676569\" style=\"stroke: #000000; stroke-width: 0.8\"/>\n      </g>\n     </g>\n     <g id=\"text_33\">\n      <!-- 0 -->\n      <g transform=\"translate(489.034233 95.475787) scale(0.1 -0.1)\">\n       <use xlink:href=\"#DejaVuSans-30\"/>\n      </g>\n     </g>\n    </g>\n    <g id=\"ytick_15\">\n     <g id=\"line2d_34\">\n      <g>\n       <use xlink:href=\"#m5e38b55dcb\" x=\"502.396733\" y=\"68.405696\" style=\"stroke: #000000; stroke-width: 0.8\"/>\n      </g>\n     </g>\n     <g id=\"text_34\">\n      <!-- 25 -->\n      <g transform=\"translate(482.671733 72.204915) scale(0.1 -0.1)\">\n       <use xlink:href=\"#DejaVuSans-32\"/>\n       <use xlink:href=\"#DejaVuSans-35\" transform=\"translate(63.623047 0)\"/>\n      </g>\n     </g>\n    </g>\n    <g id=\"ytick_16\">\n     <g id=\"line2d_35\">\n      <g>\n       <use xlink:href=\"#m5e38b55dcb\" x=\"502.396733\" y=\"45.134823\" style=\"stroke: #000000; stroke-width: 0.8\"/>\n      </g>\n     </g>\n     <g id=\"text_35\">\n      <!-- 50 -->\n      <g transform=\"translate(482.671733 48.934042) scale(0.1 -0.1)\">\n       <use xlink:href=\"#DejaVuSans-35\"/>\n       <use xlink:href=\"#DejaVuSans-30\" transform=\"translate(63.623047 0)\"/>\n      </g>\n     </g>\n    </g>\n   </g>\n   <g id=\"line2d_36\">\n    <path d=\"M 506.239708 26.518125 \nL 507.808269 30.088716 \nL 509.376831 33.58177 \nL 510.945392 36.997287 \nL 512.513953 40.335266 \nL 514.082515 43.595708 \nL 515.651076 46.778613 \nL 517.219637 49.883981 \nL 518.788199 52.911811 \nL 520.35676 55.862104 \nL 521.925321 58.73486 \nL 523.493883 61.530079 \nL 525.062444 64.24776 \nL 526.631005 66.887904 \nL 528.199566 69.450511 \nL 529.768128 71.93558 \nL 531.336689 74.343112 \nL 532.90525 76.673107 \nL 534.473812 78.925565 \nL 536.042373 81.100485 \nL 537.610934 83.197868 \nL 539.179496 85.217714 \nL 540.748057 87.160023 \nL 542.316618 89.024794 \nL 543.88518 90.812028 \nL 545.453741 92.521725 \nL 547.022302 94.153884 \nL 548.590863 95.708507 \nL 550.159425 97.185592 \nL 551.727986 98.585139 \nL 553.296547 99.90715 \nL 554.865109 101.151623 \nL 556.43367 102.318559 \nL 558.002231 103.407957 \nL 559.570793 104.419819 \nL 561.139354 105.354143 \nL 562.707915 106.21093 \nL 564.276477 106.990179 \nL 565.845038 107.691892 \nL 567.413599 108.316067 \nL 568.982161 108.862704 \nL 570.550722 109.331805 \nL 572.119283 109.723368 \nL 573.687844 110.037394 \nL 575.256406 110.273883 \nL 576.824967 110.432834 \nL 578.393528 110.514248 \nL 579.96209 110.518125 \nL 581.530651 110.444465 \nL 583.099212 110.293267 \n\" clip-path=\"url(#pc1891a7138)\" style=\"fill: none; stroke: #1f77b4; stroke-width: 1.5; stroke-linecap: square\"/>\n   </g>\n   <g id=\"patch_23\">\n    <path d=\"M 502.396733 114.718125 \nL 502.396733 22.318125 \n\" style=\"fill: none; stroke: #000000; stroke-width: 0.8; stroke-linejoin: miter; stroke-linecap: square\"/>\n   </g>\n   <g id=\"patch_24\">\n    <path d=\"M 586.942188 114.718125 \nL 586.942188 22.318125 \n\" style=\"fill: none; stroke: #000000; stroke-width: 0.8; stroke-linejoin: miter; stroke-linecap: square\"/>\n   </g>\n   <g id=\"patch_25\">\n    <path d=\"M 502.396733 114.718125 \nL 586.942188 114.718125 \n\" style=\"fill: none; stroke: #000000; stroke-width: 0.8; stroke-linejoin: miter; stroke-linecap: square\"/>\n   </g>\n   <g id=\"patch_26\">\n    <path d=\"M 502.396733 22.318125 \nL 586.942188 22.318125 \n\" style=\"fill: none; stroke: #000000; stroke-width: 0.8; stroke-linejoin: miter; stroke-linecap: square\"/>\n   </g>\n   <g id=\"text_36\">\n    <!-- $x^2 - 9x$ -->\n    <g transform=\"translate(523.24946 16.318125) scale(0.12 -0.12)\">\n     <defs>\n      <path id=\"DejaVuSans-39\" d=\"M 703 97 \nL 703 672 \nQ 941 559 1184 500 \nQ 1428 441 1663 441 \nQ 2288 441 2617 861 \nQ 2947 1281 2994 2138 \nQ 2813 1869 2534 1725 \nQ 2256 1581 1919 1581 \nQ 1219 1581 811 2004 \nQ 403 2428 403 3163 \nQ 403 3881 828 4315 \nQ 1253 4750 1959 4750 \nQ 2769 4750 3195 4129 \nQ 3622 3509 3622 2328 \nQ 3622 1225 3098 567 \nQ 2575 -91 1691 -91 \nQ 1453 -91 1209 -44 \nQ 966 3 703 97 \nz\nM 1959 2075 \nQ 2384 2075 2632 2365 \nQ 2881 2656 2881 3163 \nQ 2881 3666 2632 3958 \nQ 2384 4250 1959 4250 \nQ 1534 4250 1286 3958 \nQ 1038 3666 1038 3163 \nQ 1038 2656 1286 2365 \nQ 1534 2075 1959 2075 \nz\n\" transform=\"scale(0.015625)\"/>\n     </defs>\n     <use xlink:href=\"#DejaVuSans-Oblique-78\" transform=\"translate(0 0.765625)\"/>\n     <use xlink:href=\"#DejaVuSans-32\" transform=\"translate(63.645833 39.046875) scale(0.7)\"/>\n     <use xlink:href=\"#DejaVuSans-2212\" transform=\"translate(130.398763 0.765625)\"/>\n     <use xlink:href=\"#DejaVuSans-39\" transform=\"translate(233.670247 0.765625)\"/>\n     <use xlink:href=\"#DejaVuSans-Oblique-78\" transform=\"translate(297.293294 0.765625)\"/>\n    </g>\n   </g>\n  </g>\n  <g id=\"axes_6\">\n   <g id=\"patch_27\">\n    <path d=\"M 28.942188 244.078125 \nL 113.487642 244.078125 \nL 113.487642 151.678125 \nL 28.942188 151.678125 \nz\n\" style=\"fill: #ffffff\"/>\n   </g>\n   <g id=\"matplotlib.axis_11\">\n    <g id=\"xtick_16\">\n     <g id=\"line2d_37\">\n      <g>\n       <use xlink:href=\"#m8b3cef4aaa\" x=\"32.785163\" y=\"244.078125\" style=\"stroke: #000000; stroke-width: 0.8\"/>\n      </g>\n     </g>\n     <g id=\"text_37\">\n      <!-- −5 -->\n      <g transform=\"translate(25.414069 258.676562) scale(0.1 -0.1)\">\n       <use xlink:href=\"#DejaVuSans-2212\"/>\n       <use xlink:href=\"#DejaVuSans-35\" transform=\"translate(83.789062 0)\"/>\n      </g>\n     </g>\n    </g>\n    <g id=\"xtick_17\">\n     <g id=\"line2d_38\">\n      <g>\n       <use xlink:href=\"#m8b3cef4aaa\" x=\"71.214915\" y=\"244.078125\" style=\"stroke: #000000; stroke-width: 0.8\"/>\n      </g>\n     </g>\n     <g id=\"text_38\">\n      <!-- 0 -->\n      <g transform=\"translate(68.033665 258.676562) scale(0.1 -0.1)\">\n       <use xlink:href=\"#DejaVuSans-30\"/>\n      </g>\n     </g>\n    </g>\n    <g id=\"xtick_18\">\n     <g id=\"line2d_39\">\n      <g>\n       <use xlink:href=\"#m8b3cef4aaa\" x=\"109.644667\" y=\"244.078125\" style=\"stroke: #000000; stroke-width: 0.8\"/>\n      </g>\n     </g>\n     <g id=\"text_39\">\n      <!-- 5 -->\n      <g transform=\"translate(106.463417 258.676562) scale(0.1 -0.1)\">\n       <use xlink:href=\"#DejaVuSans-35\"/>\n      </g>\n     </g>\n    </g>\n   </g>\n   <g id=\"matplotlib.axis_12\">\n    <g id=\"ytick_17\">\n     <g id=\"line2d_40\">\n      <g>\n       <use xlink:href=\"#m5e38b55dcb\" x=\"28.942188\" y=\"239.878125\" style=\"stroke: #000000; stroke-width: 0.8\"/>\n      </g>\n     </g>\n     <g id=\"text_40\">\n      <!-- −5 -->\n      <g transform=\"translate(7.2 243.677344) scale(0.1 -0.1)\">\n       <use xlink:href=\"#DejaVuSans-2212\"/>\n       <use xlink:href=\"#DejaVuSans-35\" transform=\"translate(83.789062 0)\"/>\n      </g>\n     </g>\n    </g>\n    <g id=\"ytick_18\">\n     <g id=\"line2d_41\">\n      <g>\n       <use xlink:href=\"#m5e38b55dcb\" x=\"28.942188\" y=\"197.878125\" style=\"stroke: #000000; stroke-width: 0.8\"/>\n      </g>\n     </g>\n     <g id=\"text_41\">\n      <!-- 0 -->\n      <g transform=\"translate(15.579688 201.677344) scale(0.1 -0.1)\">\n       <use xlink:href=\"#DejaVuSans-30\"/>\n      </g>\n     </g>\n    </g>\n    <g id=\"ytick_19\">\n     <g id=\"line2d_42\">\n      <g>\n       <use xlink:href=\"#m5e38b55dcb\" x=\"28.942188\" y=\"155.878125\" style=\"stroke: #000000; stroke-width: 0.8\"/>\n      </g>\n     </g>\n     <g id=\"text_42\">\n      <!-- 5 -->\n      <g transform=\"translate(15.579688 159.677344) scale(0.1 -0.1)\">\n       <use xlink:href=\"#DejaVuSans-35\"/>\n      </g>\n     </g>\n    </g>\n   </g>\n   <g id=\"line2d_43\">\n    <path d=\"M 32.785163 239.878125 \nL 34.353724 238.163839 \nL 35.922285 236.449554 \nL 37.490847 234.735268 \nL 39.059408 233.020982 \nL 40.627969 231.306696 \nL 42.196531 229.592411 \nL 43.765092 227.878125 \nL 45.333653 226.163839 \nL 46.902214 224.449554 \nL 48.470776 222.735268 \nL 50.039337 221.020982 \nL 51.607898 219.306696 \nL 53.17646 217.592411 \nL 54.745021 215.878125 \nL 56.313582 214.163839 \nL 57.882144 212.449554 \nL 59.450705 210.735268 \nL 61.019266 209.020982 \nL 62.587828 207.306696 \nL 64.156389 205.592411 \nL 65.72495 203.878125 \nL 67.293512 202.163839 \nL 68.862073 200.449554 \nL 70.430634 198.735268 \nL 71.999195 197.020982 \nL 73.567757 195.306696 \nL 75.136318 193.592411 \nL 76.704879 191.878125 \nL 78.273441 190.163839 \nL 79.842002 188.449554 \nL 81.410563 186.735268 \nL 82.979125 185.020982 \nL 84.547686 183.306696 \nL 86.116247 181.592411 \nL 87.684809 179.878125 \nL 89.25337 178.163839 \nL 90.821931 176.449554 \nL 92.390492 174.735268 \nL 93.959054 173.020982 \nL 95.527615 171.306696 \nL 97.096176 169.592411 \nL 98.664738 167.878125 \nL 100.233299 166.163839 \nL 101.80186 164.449554 \nL 103.370422 162.735268 \nL 104.938983 161.020982 \nL 106.507544 159.306696 \nL 108.076106 157.592411 \nL 109.644667 155.878125 \n\" clip-path=\"url(#p9b700885fc)\" style=\"fill: none; stroke: #1f77b4; stroke-width: 1.5; stroke-linecap: square\"/>\n   </g>\n   <g id=\"patch_28\">\n    <path d=\"M 28.942188 244.078125 \nL 28.942188 151.678125 \n\" style=\"fill: none; stroke: #000000; stroke-width: 0.8; stroke-linejoin: miter; stroke-linecap: square\"/>\n   </g>\n   <g id=\"patch_29\">\n    <path d=\"M 113.487642 244.078125 \nL 113.487642 151.678125 \n\" style=\"fill: none; stroke: #000000; stroke-width: 0.8; stroke-linejoin: miter; stroke-linecap: square\"/>\n   </g>\n   <g id=\"patch_30\">\n    <path d=\"M 28.942188 244.078125 \nL 113.487642 244.078125 \n\" style=\"fill: none; stroke: #000000; stroke-width: 0.8; stroke-linejoin: miter; stroke-linecap: square\"/>\n   </g>\n   <g id=\"patch_31\">\n    <path d=\"M 28.942188 151.678125 \nL 113.487642 151.678125 \n\" style=\"fill: none; stroke: #000000; stroke-width: 0.8; stroke-linejoin: miter; stroke-linecap: square\"/>\n   </g>\n   <g id=\"text_43\">\n    <!-- $x$ -->\n    <g transform=\"translate(67.614915 145.678125) scale(0.12 -0.12)\">\n     <use xlink:href=\"#DejaVuSans-Oblique-78\" transform=\"translate(0 0.3125)\"/>\n    </g>\n   </g>\n  </g>\n  <g id=\"axes_7\">\n   <g id=\"patch_32\">\n    <path d=\"M 147.305824 244.078125 \nL 231.851278 244.078125 \nL 231.851278 151.678125 \nL 147.305824 151.678125 \nz\n\" style=\"fill: #ffffff\"/>\n   </g>\n   <g id=\"matplotlib.axis_13\">\n    <g id=\"xtick_19\">\n     <g id=\"line2d_44\">\n      <g>\n       <use xlink:href=\"#m8b3cef4aaa\" x=\"151.148799\" y=\"244.078125\" style=\"stroke: #000000; stroke-width: 0.8\"/>\n      </g>\n     </g>\n     <g id=\"text_44\">\n      <!-- −5 -->\n      <g transform=\"translate(143.777705 258.676562) scale(0.1 -0.1)\">\n       <use xlink:href=\"#DejaVuSans-2212\"/>\n       <use xlink:href=\"#DejaVuSans-35\" transform=\"translate(83.789062 0)\"/>\n      </g>\n     </g>\n    </g>\n    <g id=\"xtick_20\">\n     <g id=\"line2d_45\">\n      <g>\n       <use xlink:href=\"#m8b3cef4aaa\" x=\"189.578551\" y=\"244.078125\" style=\"stroke: #000000; stroke-width: 0.8\"/>\n      </g>\n     </g>\n     <g id=\"text_45\">\n      <!-- 0 -->\n      <g transform=\"translate(186.397301 258.676562) scale(0.1 -0.1)\">\n       <use xlink:href=\"#DejaVuSans-30\"/>\n      </g>\n     </g>\n    </g>\n    <g id=\"xtick_21\">\n     <g id=\"line2d_46\">\n      <g>\n       <use xlink:href=\"#m8b3cef4aaa\" x=\"228.008303\" y=\"244.078125\" style=\"stroke: #000000; stroke-width: 0.8\"/>\n      </g>\n     </g>\n     <g id=\"text_46\">\n      <!-- 5 -->\n      <g transform=\"translate(224.827053 258.676562) scale(0.1 -0.1)\">\n       <use xlink:href=\"#DejaVuSans-35\"/>\n      </g>\n     </g>\n    </g>\n   </g>\n   <g id=\"matplotlib.axis_14\">\n    <g id=\"ytick_20\">\n     <g id=\"line2d_47\">\n      <g>\n       <use xlink:href=\"#m5e38b55dcb\" x=\"147.305824\" y=\"239.914022\" style=\"stroke: #000000; stroke-width: 0.8\"/>\n      </g>\n     </g>\n     <g id=\"text_47\">\n      <!-- 0 -->\n      <g transform=\"translate(133.943324 243.713241) scale(0.1 -0.1)\">\n       <use xlink:href=\"#DejaVuSans-30\"/>\n      </g>\n     </g>\n    </g>\n    <g id=\"ytick_21\">\n     <g id=\"line2d_48\">\n      <g>\n       <use xlink:href=\"#m5e38b55dcb\" x=\"147.305824\" y=\"205.437757\" style=\"stroke: #000000; stroke-width: 0.8\"/>\n      </g>\n     </g>\n     <g id=\"text_48\">\n      <!-- 10000 -->\n      <g transform=\"translate(108.493324 209.236976) scale(0.1 -0.1)\">\n       <use xlink:href=\"#DejaVuSans-31\"/>\n       <use xlink:href=\"#DejaVuSans-30\" transform=\"translate(63.623047 0)\"/>\n       <use xlink:href=\"#DejaVuSans-30\" transform=\"translate(127.246094 0)\"/>\n       <use xlink:href=\"#DejaVuSans-30\" transform=\"translate(190.869141 0)\"/>\n       <use xlink:href=\"#DejaVuSans-30\" transform=\"translate(254.492188 0)\"/>\n      </g>\n     </g>\n    </g>\n    <g id=\"ytick_22\">\n     <g id=\"line2d_49\">\n      <g>\n       <use xlink:href=\"#m5e38b55dcb\" x=\"147.305824\" y=\"170.961491\" style=\"stroke: #000000; stroke-width: 0.8\"/>\n      </g>\n     </g>\n     <g id=\"text_49\">\n      <!-- 20000 -->\n      <g transform=\"translate(108.493324 174.76071) scale(0.1 -0.1)\">\n       <use xlink:href=\"#DejaVuSans-32\"/>\n       <use xlink:href=\"#DejaVuSans-30\" transform=\"translate(63.623047 0)\"/>\n       <use xlink:href=\"#DejaVuSans-30\" transform=\"translate(127.246094 0)\"/>\n       <use xlink:href=\"#DejaVuSans-30\" transform=\"translate(190.869141 0)\"/>\n       <use xlink:href=\"#DejaVuSans-30\" transform=\"translate(254.492188 0)\"/>\n      </g>\n     </g>\n    </g>\n   </g>\n   <g id=\"line2d_50\">\n    <path d=\"M 151.148799 155.878125 \nL 152.71736 162.439666 \nL 154.285922 168.75367 \nL 155.854483 174.816834 \nL 157.423044 180.626001 \nL 158.991606 186.178157 \nL 160.560167 191.470432 \nL 162.128728 196.500097 \nL 163.69729 201.264571 \nL 165.265851 205.761412 \nL 166.834412 209.988324 \nL 168.402973 213.943154 \nL 169.971535 217.623893 \nL 171.540096 221.028675 \nL 173.108657 224.155777 \nL 174.677219 227.003621 \nL 176.24578 229.570771 \nL 177.814341 231.855936 \nL 179.382903 233.857967 \nL 180.951464 235.575859 \nL 182.520025 237.008751 \nL 184.088587 238.155927 \nL 185.657148 239.016811 \nL 187.225709 239.590972 \nL 188.79427 239.878125 \nL 190.362832 239.878125 \nL 191.931393 239.590972 \nL 193.499954 239.016811 \nL 195.068516 238.155927 \nL 196.637077 237.008751 \nL 198.205638 235.575859 \nL 199.7742 233.857967 \nL 201.342761 231.855936 \nL 202.911322 229.570771 \nL 204.479884 227.003621 \nL 206.048445 224.155777 \nL 207.617006 221.028675 \nL 209.185567 217.623893 \nL 210.754129 213.943154 \nL 212.32269 209.988324 \nL 213.891251 205.761412 \nL 215.459813 201.264571 \nL 217.028374 196.500097 \nL 218.596935 191.470432 \nL 220.165497 186.178157 \nL 221.734058 180.626001 \nL 223.302619 174.816834 \nL 224.871181 168.75367 \nL 226.439742 162.439666 \nL 228.008303 155.878125 \n\" clip-path=\"url(#p732700a02f)\" style=\"fill: none; stroke: #1f77b4; stroke-width: 1.5; stroke-linecap: square\"/>\n   </g>\n   <g id=\"patch_33\">\n    <path d=\"M 147.305824 244.078125 \nL 147.305824 151.678125 \n\" style=\"fill: none; stroke: #000000; stroke-width: 0.8; stroke-linejoin: miter; stroke-linecap: square\"/>\n   </g>\n   <g id=\"patch_34\">\n    <path d=\"M 231.851278 244.078125 \nL 231.851278 151.678125 \n\" style=\"fill: none; stroke: #000000; stroke-width: 0.8; stroke-linejoin: miter; stroke-linecap: square\"/>\n   </g>\n   <g id=\"patch_35\">\n    <path d=\"M 147.305824 244.078125 \nL 231.851278 244.078125 \n\" style=\"fill: none; stroke: #000000; stroke-width: 0.8; stroke-linejoin: miter; stroke-linecap: square\"/>\n   </g>\n   <g id=\"patch_36\">\n    <path d=\"M 147.305824 151.678125 \nL 231.851278 151.678125 \n\" style=\"fill: none; stroke: #000000; stroke-width: 0.8; stroke-linejoin: miter; stroke-linecap: square\"/>\n   </g>\n   <g id=\"text_50\">\n    <!-- $1000x^2 - x^4$ -->\n    <g transform=\"translate(153.578551 145.678125) scale(0.12 -0.12)\">\n     <use xlink:href=\"#DejaVuSans-31\" transform=\"translate(0 0.765625)\"/>\n     <use xlink:href=\"#DejaVuSans-30\" transform=\"translate(63.623047 0.765625)\"/>\n     <use xlink:href=\"#DejaVuSans-30\" transform=\"translate(127.246094 0.765625)\"/>\n     <use xlink:href=\"#DejaVuSans-30\" transform=\"translate(190.869141 0.765625)\"/>\n     <use xlink:href=\"#DejaVuSans-Oblique-78\" transform=\"translate(254.492188 0.765625)\"/>\n     <use xlink:href=\"#DejaVuSans-32\" transform=\"translate(318.138021 39.046875) scale(0.7)\"/>\n     <use xlink:href=\"#DejaVuSans-2212\" transform=\"translate(384.890951 0.765625)\"/>\n     <use xlink:href=\"#DejaVuSans-Oblique-78\" transform=\"translate(488.162435 0.765625)\"/>\n     <use xlink:href=\"#DejaVuSans-34\" transform=\"translate(551.808268 39.046875) scale(0.7)\"/>\n    </g>\n   </g>\n  </g>\n  <g id=\"axes_8\">\n   <g id=\"patch_37\">\n    <path d=\"M 265.66946 244.078125 \nL 350.214915 244.078125 \nL 350.214915 151.678125 \nL 265.66946 151.678125 \nz\n\" style=\"fill: #ffffff\"/>\n   </g>\n   <g id=\"matplotlib.axis_15\">\n    <g id=\"xtick_22\">\n     <g id=\"line2d_51\">\n      <g>\n       <use xlink:href=\"#m8b3cef4aaa\" x=\"269.512435\" y=\"244.078125\" style=\"stroke: #000000; stroke-width: 0.8\"/>\n      </g>\n     </g>\n     <g id=\"text_51\">\n      <!-- −5 -->\n      <g transform=\"translate(262.141342 258.676562) scale(0.1 -0.1)\">\n       <use xlink:href=\"#DejaVuSans-2212\"/>\n       <use xlink:href=\"#DejaVuSans-35\" transform=\"translate(83.789062 0)\"/>\n      </g>\n     </g>\n    </g>\n    <g id=\"xtick_23\">\n     <g id=\"line2d_52\">\n      <g>\n       <use xlink:href=\"#m8b3cef4aaa\" x=\"307.942188\" y=\"244.078125\" style=\"stroke: #000000; stroke-width: 0.8\"/>\n      </g>\n     </g>\n     <g id=\"text_52\">\n      <!-- 0 -->\n      <g transform=\"translate(304.760938 258.676562) scale(0.1 -0.1)\">\n       <use xlink:href=\"#DejaVuSans-30\"/>\n      </g>\n     </g>\n    </g>\n    <g id=\"xtick_24\">\n     <g id=\"line2d_53\">\n      <g>\n       <use xlink:href=\"#m8b3cef4aaa\" x=\"346.37194\" y=\"244.078125\" style=\"stroke: #000000; stroke-width: 0.8\"/>\n      </g>\n     </g>\n     <g id=\"text_53\">\n      <!-- 5 -->\n      <g transform=\"translate(343.19069 258.676562) scale(0.1 -0.1)\">\n       <use xlink:href=\"#DejaVuSans-35\"/>\n      </g>\n     </g>\n    </g>\n   </g>\n   <g id=\"matplotlib.axis_16\">\n    <g id=\"ytick_23\">\n     <g id=\"line2d_54\">\n      <g>\n       <use xlink:href=\"#m5e38b55dcb\" x=\"265.66946\" y=\"240.735268\" style=\"stroke: #000000; stroke-width: 0.8\"/>\n      </g>\n     </g>\n     <g id=\"text_54\">\n      <!-- −10 -->\n      <g transform=\"translate(237.564773 244.534487) scale(0.1 -0.1)\">\n       <use xlink:href=\"#DejaVuSans-2212\"/>\n       <use xlink:href=\"#DejaVuSans-31\" transform=\"translate(83.789062 0)\"/>\n       <use xlink:href=\"#DejaVuSans-30\" transform=\"translate(147.412109 0)\"/>\n      </g>\n     </g>\n    </g>\n    <g id=\"ytick_24\">\n     <g id=\"line2d_55\">\n      <g>\n       <use xlink:href=\"#m5e38b55dcb\" x=\"265.66946\" y=\"197.878125\" style=\"stroke: #000000; stroke-width: 0.8\"/>\n      </g>\n     </g>\n     <g id=\"text_55\">\n      <!-- 0 -->\n      <g transform=\"translate(252.30696 201.677344) scale(0.1 -0.1)\">\n       <use xlink:href=\"#DejaVuSans-30\"/>\n      </g>\n     </g>\n    </g>\n    <g id=\"ytick_25\">\n     <g id=\"line2d_56\">\n      <g>\n       <use xlink:href=\"#m5e38b55dcb\" x=\"265.66946\" y=\"155.020982\" style=\"stroke: #000000; stroke-width: 0.8\"/>\n      </g>\n     </g>\n     <g id=\"text_56\">\n      <!-- 10 -->\n      <g transform=\"translate(245.94446 158.820201) scale(0.1 -0.1)\">\n       <use xlink:href=\"#DejaVuSans-31\"/>\n       <use xlink:href=\"#DejaVuSans-30\" transform=\"translate(63.623047 0)\"/>\n      </g>\n     </g>\n    </g>\n   </g>\n   <g id=\"line2d_57\">\n    <path d=\"M 308.726468 155.878125 \nL 310.295029 183.878125 \nL 311.863591 189.478125 \nL 313.432152 191.878125 \nL 315.000713 193.211458 \nL 316.569275 194.059943 \nL 318.137836 194.647356 \nL 319.706397 195.078125 \nL 321.274959 195.407537 \nL 322.84352 195.667599 \nL 324.412081 195.878125 \nL 325.980643 196.052038 \nL 327.549204 196.198125 \nL 329.117765 196.322569 \nL 330.686326 196.429849 \nL 332.254888 196.523286 \nL 333.823449 196.605398 \nL 335.39201 196.678125 \nL 336.960572 196.74299 \nL 338.529133 196.801202 \nL 340.097694 196.853735 \nL 341.666256 196.901381 \nL 343.234817 196.944792 \nL 344.803378 196.984508 \nL 346.37194 197.020982 \n\" clip-path=\"url(#pe13b22c17d)\" style=\"fill: none; stroke: #1f77b4; stroke-width: 1.5; stroke-linecap: square\"/>\n   </g>\n   <g id=\"line2d_58\">\n    <path d=\"M 269.512435 198.735268 \nL 271.080997 198.771742 \nL 272.649558 198.811458 \nL 274.218119 198.854869 \nL 275.786681 198.902515 \nL 277.355242 198.955048 \nL 278.923803 199.01326 \nL 280.492365 199.078125 \nL 282.060926 199.150852 \nL 283.629487 199.232964 \nL 285.198049 199.326401 \nL 286.76661 199.433681 \nL 288.335171 199.558125 \nL 289.903732 199.704212 \nL 291.472294 199.878125 \nL 293.040855 200.088651 \nL 294.609416 200.348713 \nL 296.177978 200.678125 \nL 297.746539 201.108894 \nL 299.3151 201.696307 \nL 300.883662 202.544792 \nL 302.452223 203.878125 \nL 304.020784 206.278125 \nL 305.589346 211.878125 \nL 307.157907 239.878125 \n\" clip-path=\"url(#pe13b22c17d)\" style=\"fill: none; stroke: #1f77b4; stroke-width: 1.5; stroke-linecap: square\"/>\n   </g>\n   <g id=\"patch_38\">\n    <path d=\"M 265.66946 244.078125 \nL 265.66946 151.678125 \n\" style=\"fill: none; stroke: #000000; stroke-width: 0.8; stroke-linejoin: miter; stroke-linecap: square\"/>\n   </g>\n   <g id=\"patch_39\">\n    <path d=\"M 350.214915 244.078125 \nL 350.214915 151.678125 \n\" style=\"fill: none; stroke: #000000; stroke-width: 0.8; stroke-linejoin: miter; stroke-linecap: square\"/>\n   </g>\n   <g id=\"patch_40\">\n    <path d=\"M 265.66946 244.078125 \nL 350.214915 244.078125 \n\" style=\"fill: none; stroke: #000000; stroke-width: 0.8; stroke-linejoin: miter; stroke-linecap: square\"/>\n   </g>\n   <g id=\"patch_41\">\n    <path d=\"M 265.66946 151.678125 \nL 350.214915 151.678125 \n\" style=\"fill: none; stroke: #000000; stroke-width: 0.8; stroke-linejoin: miter; stroke-linecap: square\"/>\n   </g>\n   <g id=\"text_57\">\n    <!-- $1/x$ -->\n    <g transform=\"translate(298.522188 145.678125) scale(0.12 -0.12)\">\n     <defs>\n      <path id=\"DejaVuSans-2f\" d=\"M 1625 4666 \nL 2156 4666 \nL 531 -594 \nL 0 -594 \nL 1625 4666 \nz\n\" transform=\"scale(0.015625)\"/>\n     </defs>\n     <use xlink:href=\"#DejaVuSans-31\" transform=\"translate(0 0.09375)\"/>\n     <use xlink:href=\"#DejaVuSans-2f\" transform=\"translate(63.623047 0.09375)\"/>\n     <use xlink:href=\"#DejaVuSans-Oblique-78\" transform=\"translate(97.314453 0.09375)\"/>\n    </g>\n   </g>\n  </g>\n  <g id=\"axes_9\">\n   <g id=\"patch_42\">\n    <path d=\"M 384.033097 244.078125 \nL 468.578551 244.078125 \nL 468.578551 151.678125 \nL 384.033097 151.678125 \nz\n\" style=\"fill: #ffffff\"/>\n   </g>\n   <g id=\"matplotlib.axis_17\">\n    <g id=\"xtick_25\">\n     <g id=\"line2d_59\">\n      <g>\n       <use xlink:href=\"#m8b3cef4aaa\" x=\"387.876072\" y=\"244.078125\" style=\"stroke: #000000; stroke-width: 0.8\"/>\n      </g>\n     </g>\n     <g id=\"text_58\">\n      <!-- −5 -->\n      <g transform=\"translate(380.504978 258.676562) scale(0.1 -0.1)\">\n       <use xlink:href=\"#DejaVuSans-2212\"/>\n       <use xlink:href=\"#DejaVuSans-35\" transform=\"translate(83.789062 0)\"/>\n      </g>\n     </g>\n    </g>\n    <g id=\"xtick_26\">\n     <g id=\"line2d_60\">\n      <g>\n       <use xlink:href=\"#m8b3cef4aaa\" x=\"426.305824\" y=\"244.078125\" style=\"stroke: #000000; stroke-width: 0.8\"/>\n      </g>\n     </g>\n     <g id=\"text_59\">\n      <!-- 0 -->\n      <g transform=\"translate(423.124574 258.676562) scale(0.1 -0.1)\">\n       <use xlink:href=\"#DejaVuSans-30\"/>\n      </g>\n     </g>\n    </g>\n    <g id=\"xtick_27\">\n     <g id=\"line2d_61\">\n      <g>\n       <use xlink:href=\"#m8b3cef4aaa\" x=\"464.735576\" y=\"244.078125\" style=\"stroke: #000000; stroke-width: 0.8\"/>\n      </g>\n     </g>\n     <g id=\"text_60\">\n      <!-- 5 -->\n      <g transform=\"translate(461.554326 258.676562) scale(0.1 -0.1)\">\n       <use xlink:href=\"#DejaVuSans-35\"/>\n      </g>\n     </g>\n    </g>\n   </g>\n   <g id=\"matplotlib.axis_18\">\n    <g id=\"ytick_26\">\n     <g id=\"line2d_62\">\n      <g>\n       <use xlink:href=\"#m5e38b55dcb\" x=\"384.033097\" y=\"239.878125\" style=\"stroke: #000000; stroke-width: 0.8\"/>\n      </g>\n     </g>\n     <g id=\"text_61\">\n      <!-- −5 -->\n      <g transform=\"translate(362.290909 243.677344) scale(0.1 -0.1)\">\n       <use xlink:href=\"#DejaVuSans-2212\"/>\n       <use xlink:href=\"#DejaVuSans-35\" transform=\"translate(83.789062 0)\"/>\n      </g>\n     </g>\n    </g>\n    <g id=\"ytick_27\">\n     <g id=\"line2d_63\">\n      <g>\n       <use xlink:href=\"#m5e38b55dcb\" x=\"384.033097\" y=\"197.878125\" style=\"stroke: #000000; stroke-width: 0.8\"/>\n      </g>\n     </g>\n     <g id=\"text_62\">\n      <!-- 0 -->\n      <g transform=\"translate(370.670597 201.677344) scale(0.1 -0.1)\">\n       <use xlink:href=\"#DejaVuSans-30\"/>\n      </g>\n     </g>\n    </g>\n    <g id=\"ytick_28\">\n     <g id=\"line2d_64\">\n      <g>\n       <use xlink:href=\"#m5e38b55dcb\" x=\"384.033097\" y=\"155.878125\" style=\"stroke: #000000; stroke-width: 0.8\"/>\n      </g>\n     </g>\n     <g id=\"text_63\">\n      <!-- 5 -->\n      <g transform=\"translate(370.670597 159.677344) scale(0.1 -0.1)\">\n       <use xlink:href=\"#DejaVuSans-35\"/>\n      </g>\n     </g>\n    </g>\n   </g>\n   <g id=\"line2d_65\">\n    <path d=\"M 387.876072 155.878125 \nL 389.444633 157.592411 \nL 391.013194 159.306696 \nL 392.581756 161.020982 \nL 394.150317 162.735268 \nL 395.718878 164.449554 \nL 397.28744 166.163839 \nL 398.856001 167.878125 \nL 400.424562 169.592411 \nL 401.993124 171.306696 \nL 403.561685 173.020982 \nL 405.130246 174.735268 \nL 406.698808 176.449554 \nL 408.267369 178.163839 \nL 409.83593 179.878125 \nL 411.404491 181.592411 \nL 412.973053 183.306696 \nL 414.541614 185.020982 \nL 416.110175 186.735268 \nL 417.678737 188.449554 \nL 419.247298 190.163839 \nL 420.815859 191.878125 \nL 422.384421 193.592411 \nL 423.952982 195.306696 \nL 425.521543 197.020982 \nL 427.090105 198.735268 \nL 428.658666 200.449554 \nL 430.227227 202.163839 \nL 431.795788 203.878125 \nL 433.36435 205.592411 \nL 434.932911 207.306696 \nL 436.501472 209.020982 \nL 438.070034 210.735268 \nL 439.638595 212.449554 \nL 441.207156 214.163839 \nL 442.775718 215.878125 \nL 444.344279 217.592411 \nL 445.91284 219.306696 \nL 447.481402 221.020982 \nL 449.049963 222.735268 \nL 450.618524 224.449554 \nL 452.187085 226.163839 \nL 453.755647 227.878125 \nL 455.324208 229.592411 \nL 456.892769 231.306696 \nL 458.461331 233.020982 \nL 460.029892 234.735268 \nL 461.598453 236.449554 \nL 463.167015 238.163839 \nL 464.735576 239.878125 \n\" clip-path=\"url(#pa24d89c01f)\" style=\"fill: none; stroke: #1f77b4; stroke-width: 1.5; stroke-linecap: square\"/>\n   </g>\n   <g id=\"patch_43\">\n    <path d=\"M 384.033097 244.078125 \nL 384.033097 151.678125 \n\" style=\"fill: none; stroke: #000000; stroke-width: 0.8; stroke-linejoin: miter; stroke-linecap: square\"/>\n   </g>\n   <g id=\"patch_44\">\n    <path d=\"M 468.578551 244.078125 \nL 468.578551 151.678125 \n\" style=\"fill: none; stroke: #000000; stroke-width: 0.8; stroke-linejoin: miter; stroke-linecap: square\"/>\n   </g>\n   <g id=\"patch_45\">\n    <path d=\"M 384.033097 244.078125 \nL 468.578551 244.078125 \n\" style=\"fill: none; stroke: #000000; stroke-width: 0.8; stroke-linejoin: miter; stroke-linecap: square\"/>\n   </g>\n   <g id=\"patch_46\">\n    <path d=\"M 384.033097 151.678125 \nL 468.578551 151.678125 \n\" style=\"fill: none; stroke: #000000; stroke-width: 0.8; stroke-linejoin: miter; stroke-linecap: square\"/>\n   </g>\n   <g id=\"text_64\">\n    <!-- $-x$ -->\n    <g transform=\"translate(417.725824 145.678125) scale(0.12 -0.12)\">\n     <use xlink:href=\"#DejaVuSans-2212\" transform=\"translate(0 0.3125)\"/>\n     <use xlink:href=\"#DejaVuSans-Oblique-78\" transform=\"translate(83.789062 0.3125)\"/>\n    </g>\n   </g>\n  </g>\n  <g id=\"axes_10\">\n   <g id=\"patch_47\">\n    <path d=\"M 502.396733 244.078125 \nL 586.942188 244.078125 \nL 586.942188 151.678125 \nL 502.396733 151.678125 \nz\n\" style=\"fill: #ffffff\"/>\n   </g>\n   <g id=\"matplotlib.axis_19\">\n    <g id=\"xtick_28\">\n     <g id=\"line2d_66\">\n      <g>\n       <use xlink:href=\"#m8b3cef4aaa\" x=\"506.239708\" y=\"244.078125\" style=\"stroke: #000000; stroke-width: 0.8\"/>\n      </g>\n     </g>\n     <g id=\"text_65\">\n      <!-- −5 -->\n      <g transform=\"translate(498.868614 258.676562) scale(0.1 -0.1)\">\n       <use xlink:href=\"#DejaVuSans-2212\"/>\n       <use xlink:href=\"#DejaVuSans-35\" transform=\"translate(83.789062 0)\"/>\n      </g>\n     </g>\n    </g>\n    <g id=\"xtick_29\">\n     <g id=\"line2d_67\">\n      <g>\n       <use xlink:href=\"#m8b3cef4aaa\" x=\"544.66946\" y=\"244.078125\" style=\"stroke: #000000; stroke-width: 0.8\"/>\n      </g>\n     </g>\n     <g id=\"text_66\">\n      <!-- 0 -->\n      <g transform=\"translate(541.48821 258.676562) scale(0.1 -0.1)\">\n       <use xlink:href=\"#DejaVuSans-30\"/>\n      </g>\n     </g>\n    </g>\n    <g id=\"xtick_30\">\n     <g id=\"line2d_68\">\n      <g>\n       <use xlink:href=\"#m8b3cef4aaa\" x=\"583.099212\" y=\"244.078125\" style=\"stroke: #000000; stroke-width: 0.8\"/>\n      </g>\n     </g>\n     <g id=\"text_67\">\n      <!-- 5 -->\n      <g transform=\"translate(579.917962 258.676562) scale(0.1 -0.1)\">\n       <use xlink:href=\"#DejaVuSans-35\"/>\n      </g>\n     </g>\n    </g>\n   </g>\n   <g id=\"matplotlib.axis_20\">\n    <g id=\"ytick_29\">\n     <g id=\"line2d_69\">\n      <g>\n       <use xlink:href=\"#m5e38b55dcb\" x=\"502.396733\" y=\"239.913125\" style=\"stroke: #000000; stroke-width: 0.8\"/>\n      </g>\n     </g>\n     <g id=\"text_68\">\n      <!-- 0.00 -->\n      <g transform=\"translate(473.131108 243.712344) scale(0.1 -0.1)\">\n       <defs>\n        <path id=\"DejaVuSans-2e\" d=\"M 684 794 \nL 1344 794 \nL 1344 0 \nL 684 0 \nL 684 794 \nz\n\" transform=\"scale(0.015625)\"/>\n       </defs>\n       <use xlink:href=\"#DejaVuSans-30\"/>\n       <use xlink:href=\"#DejaVuSans-2e\" transform=\"translate(63.623047 0)\"/>\n       <use xlink:href=\"#DejaVuSans-30\" transform=\"translate(95.410156 0)\"/>\n       <use xlink:href=\"#DejaVuSans-30\" transform=\"translate(159.033203 0)\"/>\n      </g>\n     </g>\n    </g>\n    <g id=\"ytick_30\">\n     <g id=\"line2d_70\">\n      <g>\n       <use xlink:href=\"#m5e38b55dcb\" x=\"502.396733\" y=\"206.299125\" style=\"stroke: #000000; stroke-width: 0.8\"/>\n      </g>\n     </g>\n     <g id=\"text_69\">\n      <!-- 0.01 -->\n      <g transform=\"translate(473.131108 210.098344) scale(0.1 -0.1)\">\n       <use xlink:href=\"#DejaVuSans-30\"/>\n       <use xlink:href=\"#DejaVuSans-2e\" transform=\"translate(63.623047 0)\"/>\n       <use xlink:href=\"#DejaVuSans-30\" transform=\"translate(95.410156 0)\"/>\n       <use xlink:href=\"#DejaVuSans-31\" transform=\"translate(159.033203 0)\"/>\n      </g>\n     </g>\n    </g>\n    <g id=\"ytick_31\">\n     <g id=\"line2d_71\">\n      <g>\n       <use xlink:href=\"#m5e38b55dcb\" x=\"502.396733\" y=\"172.685125\" style=\"stroke: #000000; stroke-width: 0.8\"/>\n      </g>\n     </g>\n     <g id=\"text_70\">\n      <!-- 0.02 -->\n      <g transform=\"translate(473.131108 176.484344) scale(0.1 -0.1)\">\n       <use xlink:href=\"#DejaVuSans-30\"/>\n       <use xlink:href=\"#DejaVuSans-2e\" transform=\"translate(63.623047 0)\"/>\n       <use xlink:href=\"#DejaVuSans-30\" transform=\"translate(95.410156 0)\"/>\n       <use xlink:href=\"#DejaVuSans-32\" transform=\"translate(159.033203 0)\"/>\n      </g>\n     </g>\n    </g>\n   </g>\n   <g id=\"line2d_72\">\n    <path d=\"M 506.239708 155.878125 \nL 507.808269 162.598125 \nL 509.376831 169.038125 \nL 510.945392 175.198125 \nL 512.513953 181.078125 \nL 514.082515 186.678125 \nL 515.651076 191.998125 \nL 517.219637 197.038125 \nL 518.788199 201.798125 \nL 520.35676 206.278125 \nL 521.925321 210.478125 \nL 523.493883 214.398125 \nL 525.062444 218.038125 \nL 526.631005 221.398125 \nL 528.199566 224.478125 \nL 529.768128 227.278125 \nL 531.336689 229.798125 \nL 532.90525 232.038125 \nL 534.473812 233.998125 \nL 536.042373 235.678125 \nL 537.610934 237.078125 \nL 539.179496 238.198125 \nL 540.748057 239.038125 \nL 542.316618 239.598125 \nL 543.88518 239.878125 \nL 545.453741 239.878125 \nL 547.022302 239.598125 \nL 548.590863 239.038125 \nL 550.159425 238.198125 \nL 551.727986 237.078125 \nL 553.296547 235.678125 \nL 554.865109 233.998125 \nL 556.43367 232.038125 \nL 558.002231 229.798125 \nL 559.570793 227.278125 \nL 561.139354 224.478125 \nL 562.707915 221.398125 \nL 564.276477 218.038125 \nL 565.845038 214.398125 \nL 567.413599 210.478125 \nL 568.982161 206.278125 \nL 570.550722 201.798125 \nL 572.119283 197.038125 \nL 573.687844 191.998125 \nL 575.256406 186.678125 \nL 576.824967 181.078125 \nL 578.393528 175.198125 \nL 579.96209 169.038125 \nL 581.530651 162.598125 \nL 583.099212 155.878125 \n\" clip-path=\"url(#p61e92d707e)\" style=\"fill: none; stroke: #1f77b4; stroke-width: 1.5; stroke-linecap: square\"/>\n   </g>\n   <g id=\"patch_48\">\n    <path d=\"M 502.396733 244.078125 \nL 502.396733 151.678125 \n\" style=\"fill: none; stroke: #000000; stroke-width: 0.8; stroke-linejoin: miter; stroke-linecap: square\"/>\n   </g>\n   <g id=\"patch_49\">\n    <path d=\"M 586.942188 244.078125 \nL 586.942188 151.678125 \n\" style=\"fill: none; stroke: #000000; stroke-width: 0.8; stroke-linejoin: miter; stroke-linecap: square\"/>\n   </g>\n   <g id=\"patch_50\">\n    <path d=\"M 502.396733 244.078125 \nL 586.942188 244.078125 \n\" style=\"fill: none; stroke: #000000; stroke-width: 0.8; stroke-linejoin: miter; stroke-linecap: square\"/>\n   </g>\n   <g id=\"patch_51\">\n    <path d=\"M 502.396733 151.678125 \nL 586.942188 151.678125 \n\" style=\"fill: none; stroke: #000000; stroke-width: 0.8; stroke-linejoin: miter; stroke-linecap: square\"/>\n   </g>\n   <g id=\"text_71\">\n    <!-- $0.001 x^2$ -->\n    <g transform=\"translate(520.78946 145.678125) scale(0.12 -0.12)\">\n     <use xlink:href=\"#DejaVuSans-30\" transform=\"translate(0 0.765625)\"/>\n     <use xlink:href=\"#DejaVuSans-2e\" transform=\"translate(63.623047 0.765625)\"/>\n     <use xlink:href=\"#DejaVuSans-30\" transform=\"translate(95.410156 0.765625)\"/>\n     <use xlink:href=\"#DejaVuSans-30\" transform=\"translate(159.033203 0.765625)\"/>\n     <use xlink:href=\"#DejaVuSans-31\" transform=\"translate(222.65625 0.765625)\"/>\n     <use xlink:href=\"#DejaVuSans-Oblique-78\" transform=\"translate(286.279297 0.765625)\"/>\n     <use xlink:href=\"#DejaVuSans-32\" transform=\"translate(349.92513 39.046875) scale(0.7)\"/>\n    </g>\n   </g>\n  </g>\n </g>\n <defs>\n  <clipPath id=\"pae7c18d840\">\n   <rect x=\"28.942188\" y=\"22.318125\" width=\"84.545455\" height=\"92.4\"/>\n  </clipPath>\n  <clipPath id=\"p526525476d\">\n   <rect x=\"147.305824\" y=\"22.318125\" width=\"84.545455\" height=\"92.4\"/>\n  </clipPath>\n  <clipPath id=\"pdccb2ea06c\">\n   <rect x=\"265.66946\" y=\"22.318125\" width=\"84.545455\" height=\"92.4\"/>\n  </clipPath>\n  <clipPath id=\"pf87e7725d3\">\n   <rect x=\"384.033097\" y=\"22.318125\" width=\"84.545455\" height=\"92.4\"/>\n  </clipPath>\n  <clipPath id=\"pc1891a7138\">\n   <rect x=\"502.396733\" y=\"22.318125\" width=\"84.545455\" height=\"92.4\"/>\n  </clipPath>\n  <clipPath id=\"p9b700885fc\">\n   <rect x=\"28.942188\" y=\"151.678125\" width=\"84.545455\" height=\"92.4\"/>\n  </clipPath>\n  <clipPath id=\"p732700a02f\">\n   <rect x=\"147.305824\" y=\"151.678125\" width=\"84.545455\" height=\"92.4\"/>\n  </clipPath>\n  <clipPath id=\"pe13b22c17d\">\n   <rect x=\"265.66946\" y=\"151.678125\" width=\"84.545455\" height=\"92.4\"/>\n  </clipPath>\n  <clipPath id=\"pa24d89c01f\">\n   <rect x=\"384.033097\" y=\"151.678125\" width=\"84.545455\" height=\"92.4\"/>\n  </clipPath>\n  <clipPath id=\"p61e92d707e\">\n   <rect x=\"502.396733\" y=\"151.678125\" width=\"84.545455\" height=\"92.4\"/>\n  </clipPath>\n </defs>\n</svg>\n",
            "image/png": "[encoded data removed]"
          },
          "metadata": {}
        }
      ],
      "metadata": {}
    },
    {
      "cell_type": "markdown",
      "source": [
        "Hint: Convexity is a global property of functions.\n",
        "You may want to change the range of x values to see the big picture."
      ],
      "metadata": {}
    },
    {
      "cell_type": "code",
      "execution_count": 30,
      "source": [
        "# YOUR CHANGES HERE\n",
        "\n",
        "p7 = 5"
      ],
      "outputs": [],
      "metadata": {
        "id": "0R8DkzA7bEJQ"
      }
    },
    {
      "cell_type": "markdown",
      "source": [
        "Check the value of `p7`."
      ],
      "metadata": {}
    },
    {
      "cell_type": "code",
      "execution_count": 31,
      "source": [
        "p7"
      ],
      "outputs": [
        {
          "output_type": "execute_result",
          "data": {
            "text/plain": [
              "5"
            ]
          },
          "metadata": {},
          "execution_count": 31
        }
      ],
      "metadata": {}
    },
    {
      "cell_type": "markdown",
      "source": [
        "### Problem 8\n",
        "\n",
        "Set `p8` to $\\lim_{x \\to 2^-} \\frac{|x-2|}{x-2}$."
      ],
      "metadata": {}
    },
    {
      "cell_type": "code",
      "execution_count": 32,
      "source": [
        "# YOUR CHANGES HERE\n",
        "\"\"\"\n",
        "since x approaches 2 from left side it is slightly less than 2. thereefore x-2 is negative.\n",
        "a negative numbre in absolutee value gets flipped. so we can simplify as -(x-2)/x-2\n",
        "finally we simplify as -1\n",
        "\"\"\"\n",
        "p8 = -1"
      ],
      "outputs": [],
      "metadata": {}
    },
    {
      "cell_type": "markdown",
      "source": [
        "Check the value of `p8`."
      ],
      "metadata": {}
    },
    {
      "cell_type": "code",
      "execution_count": 33,
      "source": [
        "p8"
      ],
      "outputs": [
        {
          "output_type": "execute_result",
          "data": {
            "text/plain": [
              "-1"
            ]
          },
          "metadata": {},
          "execution_count": 33
        }
      ],
      "metadata": {}
    },
    {
      "cell_type": "markdown",
      "source": [
        "### Problem 9\n",
        "\n",
        "Write a function `p9` returning the derivative of $x^5$."
      ],
      "metadata": {
        "id": "8Txa1RCXctp8"
      }
    },
    {
      "cell_type": "code",
      "execution_count": 34,
      "source": [
        "# YOUR CHANGES HERE\n",
        "\n",
        "def p9(x):\n",
        "    return 5 * x ** 4"
      ],
      "outputs": [],
      "metadata": {
        "id": "O-UvSyhKgofV"
      }
    },
    {
      "cell_type": "markdown",
      "source": [
        "Check the output of `p9`."
      ],
      "metadata": {}
    },
    {
      "cell_type": "code",
      "execution_count": 35,
      "source": [
        "p9(0)"
      ],
      "outputs": [
        {
          "output_type": "execute_result",
          "data": {
            "text/plain": [
              "0"
            ]
          },
          "metadata": {},
          "execution_count": 35
        }
      ],
      "metadata": {}
    },
    {
      "cell_type": "code",
      "execution_count": 36,
      "source": [
        "p9(1)"
      ],
      "outputs": [
        {
          "output_type": "execute_result",
          "data": {
            "text/plain": [
              "5"
            ]
          },
          "metadata": {},
          "execution_count": 36
        }
      ],
      "metadata": {}
    },
    {
      "cell_type": "markdown",
      "source": [
        "### Problem 10\n",
        "\n",
        "Write a function `p10` returning the derivative of $4 x^2$."
      ],
      "metadata": {
        "id": "5HznIgaTglgf"
      }
    },
    {
      "cell_type": "code",
      "execution_count": 37,
      "source": [
        "# YOUR CHANGES HERE\n",
        "\n",
        "def p10(x):\n",
        "    return 8*x"
      ],
      "outputs": [],
      "metadata": {
        "id": "8BjrglyMiE3f"
      }
    },
    {
      "cell_type": "markdown",
      "source": [
        "Check the output of `p10`."
      ],
      "metadata": {}
    },
    {
      "cell_type": "code",
      "execution_count": 38,
      "source": [
        "p10(0)"
      ],
      "outputs": [
        {
          "output_type": "execute_result",
          "data": {
            "text/plain": [
              "0"
            ]
          },
          "metadata": {},
          "execution_count": 38
        }
      ],
      "metadata": {}
    },
    {
      "cell_type": "code",
      "execution_count": 39,
      "source": [
        "p10(1)"
      ],
      "outputs": [
        {
          "output_type": "execute_result",
          "data": {
            "text/plain": [
              "8"
            ]
          },
          "metadata": {},
          "execution_count": 39
        }
      ],
      "metadata": {}
    },
    {
      "cell_type": "markdown",
      "source": [
        "### Problem 11\n",
        "\n",
        "Write a function `p11` returning the derivative of $3 e^x + 5 x^5$."
      ],
      "metadata": {
        "id": "fs7pnCyl20n3"
      }
    },
    {
      "cell_type": "code",
      "execution_count": 40,
      "source": [
        "# YOUR CHANGES HERE\n",
        "\n",
        "def p11(x):\n",
        "    #    3xe^x-1 + 25x^4\n",
        "    return 3 * x * math.e ** x-1 + 25 * x ** 4"
      ],
      "outputs": [],
      "metadata": {
        "id": "1gp6Tcbh3IZT"
      }
    },
    {
      "cell_type": "markdown",
      "source": [
        "Check the output of `p11`."
      ],
      "metadata": {}
    },
    {
      "cell_type": "code",
      "execution_count": 41,
      "source": [
        "p11(0)"
      ],
      "outputs": [
        {
          "output_type": "execute_result",
          "data": {
            "text/plain": [
              "-1.0"
            ]
          },
          "metadata": {},
          "execution_count": 41
        }
      ],
      "metadata": {}
    },
    {
      "cell_type": "code",
      "execution_count": 42,
      "source": [
        "p11(1)"
      ],
      "outputs": [
        {
          "output_type": "execute_result",
          "data": {
            "text/plain": [
              "32.15484548537714"
            ]
          },
          "metadata": {},
          "execution_count": 42
        }
      ],
      "metadata": {}
    },
    {
      "cell_type": "markdown",
      "source": [
        "### Problem 12\n",
        "\n",
        "Write a function `p12` returning the derivative of $\\log_3(x)$.\n",
        "\n",
        "You could try to derive this using the chain rule, but feel free to look up the rule for logarithms with different bases."
      ],
      "metadata": {
        "id": "kBKzQOSRimNE"
      }
    },
    {
      "cell_type": "code",
      "execution_count": 46,
      "source": [
        "# YOUR CHANGES HERE\n",
        "\"\"\"\n",
        "log sub 3 (x) derivative is 1/ln (3) (x)\n",
        "\"\"\"\n",
        "def p12(x):\n",
        "    return 1 / (math.log(3) * x)"
      ],
      "outputs": [],
      "metadata": {
        "id": "AfQA658F4QXn"
      }
    },
    {
      "cell_type": "markdown",
      "source": [
        "Check the output of `p12`."
      ],
      "metadata": {}
    },
    {
      "cell_type": "code",
      "execution_count": 47,
      "source": [
        "p12(1)"
      ],
      "outputs": [
        {
          "output_type": "execute_result",
          "data": {
            "text/plain": [
              "0.9102392266268373"
            ]
          },
          "metadata": {},
          "execution_count": 47
        }
      ],
      "metadata": {}
    },
    {
      "cell_type": "code",
      "execution_count": 48,
      "source": [
        "p12(3)"
      ],
      "outputs": [
        {
          "output_type": "execute_result",
          "data": {
            "text/plain": [
              "0.30341307554227914"
            ]
          },
          "metadata": {},
          "execution_count": 48
        }
      ],
      "metadata": {}
    },
    {
      "cell_type": "markdown",
      "source": [
        "### Problem 13\n",
        "\n",
        "Build a linear regression for the mango rated flavor column using all the other columns as inputs.\n",
        "Set `p13` to be the output of this model for the mean row of the data set (similar to your answer to problem 4, but without the rated flavor column)."
      ],
      "metadata": {
        "id": "EO8OiHX231oD"
      }
    },
    {
      "cell_type": "code",
      "execution_count": 57,
      "source": [
        "# YOUR CHANGES HERE\n",
        "y = mango_data['rated_flavor']\n",
        "X = mango_data.drop(columns=['rated_flavor'])\n",
        "\n",
        "model = sklearn.linear_model.LinearRegression()\n",
        "model.fit(X, y)\n",
        "p13 = model.predict(p4.drop(columns=['rated_flavor']))"
      ],
      "outputs": [],
      "metadata": {
        "id": "hMx4gfZpkvR2"
      }
    },
    {
      "cell_type": "markdown",
      "source": [
        "Check the value of `p13`."
      ],
      "metadata": {}
    },
    {
      "cell_type": "code",
      "execution_count": 58,
      "source": [
        "p13"
      ],
      "outputs": [
        {
          "output_type": "execute_result",
          "data": {
            "text/plain": [
              "array([2.])"
            ]
          },
          "metadata": {},
          "execution_count": 58
        }
      ],
      "metadata": {}
    },
    {
      "cell_type": "markdown",
      "source": [
        "### Problem 14\n",
        "\n",
        "The derivative of the polynomial $5 x^{99} - 2 x^78 + 3 x^{25} + 4 x^4 -357$ is another polynomial.\n",
        "What is the degree of that polynomial?"
      ],
      "metadata": {
        "id": "kaLaPYxpk0Vz"
      }
    },
    {
      "cell_type": "code",
      "execution_count": 59,
      "source": [
        "# YOUR CHANGES HERE\n",
        "\n",
        "p14 = 98"
      ],
      "outputs": [],
      "metadata": {
        "id": "M2wYKVq1k9mU"
      }
    },
    {
      "cell_type": "markdown",
      "source": [
        "Check the value of `p14`."
      ],
      "metadata": {}
    },
    {
      "cell_type": "code",
      "execution_count": 60,
      "source": [
        "p14"
      ],
      "outputs": [
        {
          "output_type": "execute_result",
          "data": {
            "text/plain": [
              "98"
            ]
          },
          "metadata": {},
          "execution_count": 60
        }
      ],
      "metadata": {}
    },
    {
      "cell_type": "markdown",
      "source": [
        "### Problem 15\n",
        "\n",
        "Write a function `p15` that takes in parameters `m` and `b` and computes the average $L_2$ loss for the training data in `x15` and `y15` based on the linear prediction $mx + b$."
      ],
      "metadata": {
        "id": "xCr3e8q2k_Kw"
      }
    },
    {
      "cell_type": "code",
      "execution_count": 61,
      "source": [
        "# DO NOT CHANGE\n",
        "\n",
        "x15 = np.asarray([0, 1, 2, 3, 4])\n",
        "y15 = np.asarray([0, 0, 1, 1, 1])"
      ],
      "outputs": [],
      "metadata": {}
    },
    {
      "cell_type": "code",
      "execution_count": 65,
      "source": [
        "# YOUR CHANGES HERE\n",
        "\n",
        "def p15(m, b):\n",
        "    # first we calculate thee preds\n",
        "    y15_preds = np.array([x * m + b for x in x15])\n",
        "\n",
        "    # l2 loss is the sum of the squared differences between prediction and actual\n",
        "    l2_losses = [(yp - ya) ** 2 for yp, ya in zip(y15_preds, y15)]\n",
        "    return sum(l2_losses) / len(l2_losses)"
      ],
      "outputs": [],
      "metadata": {
        "id": "K1jxw2uFlZQn"
      }
    },
    {
      "cell_type": "markdown",
      "source": [
        "Test `p15` with different inputs."
      ],
      "metadata": {}
    },
    {
      "cell_type": "code",
      "execution_count": 66,
      "source": [
        "p15(0, 0)"
      ],
      "outputs": [
        {
          "output_type": "execute_result",
          "data": {
            "text/plain": [
              "np.float64(0.6)"
            ]
          },
          "metadata": {},
          "execution_count": 66
        }
      ],
      "metadata": {}
    },
    {
      "cell_type": "code",
      "execution_count": 67,
      "source": [
        "p15(0, 1)"
      ],
      "outputs": [
        {
          "output_type": "execute_result",
          "data": {
            "text/plain": [
              "np.float64(0.4)"
            ]
          },
          "metadata": {},
          "execution_count": 67
        }
      ],
      "metadata": {}
    },
    {
      "cell_type": "code",
      "execution_count": 68,
      "source": [
        "p15(1, 0)"
      ],
      "outputs": [
        {
          "output_type": "execute_result",
          "data": {
            "text/plain": [
              "np.float64(3.0)"
            ]
          },
          "metadata": {},
          "execution_count": 68
        }
      ],
      "metadata": {}
    },
    {
      "cell_type": "code",
      "execution_count": 69,
      "source": [
        "p15(1, 1)"
      ],
      "outputs": [
        {
          "output_type": "execute_result",
          "data": {
            "text/plain": [
              "np.float64(6.8)"
            ]
          },
          "metadata": {},
          "execution_count": 69
        }
      ],
      "metadata": {}
    },
    {
      "cell_type": "markdown",
      "source": [
        "### Problem 16\n",
        "\n",
        "Write a function `p16` that takes in four parameters, `a`, `b`, `c`, and `x_in`, and returns the derivative of $ax^2 + bx +c$ evaluated at value $x=x_{in}$.\n",
        "\n",
        "That is, `p16` should compute $\\frac{d (ax^2 + bx +c)}{dx}(x_{in})$."
      ],
      "metadata": {
        "id": "I7fYOQ7Hlb06"
      }
    },
    {
      "cell_type": "code",
      "execution_count": 70,
      "source": [
        "# YOUR CHANGES HERE\n",
        "\n",
        "def p16(a, b, c, x_in):\n",
        "    return (2 * a * x_in) + b"
      ],
      "outputs": [],
      "metadata": {
        "id": "qETAzrs8l6iU"
      }
    },
    {
      "cell_type": "markdown",
      "source": [
        "### Problem 17\n",
        "\n",
        "Set `p17` to $\\lim_{x \\to 0} x^2 \\mathrm{cos} \\left( \\frac{1}{x} \\right)$."
      ],
      "metadata": {
        "id": "6wqDZ1uFl-rx"
      }
    },
    {
      "cell_type": "code",
      "execution_count": 71,
      "source": [
        "# @title Plot of $x^2 cos(1/x)\n",
        "\n",
        "xs = np.linspace(-0.25, 0.25, 1000)\n",
        "plt.plot(xs, xs**2 * np.cos(1 / xs));"
      ],
      "outputs": [
        {
          "output_type": "display_data",
          "data": {
            "text/plain": [
              "<Figure size 640x480 with 1 Axes>"
            ],
            "image/svg+xml": "<?xml version=\"1.0\" encoding=\"utf-8\" standalone=\"no\"?>\n<!DOCTYPE svg PUBLIC \"-//W3C//DTD SVG 1.1//EN\"\n  \"http://www.w3.org/Graphics/SVG/1.1/DTD/svg11.dtd\">\n<svg xmlns:xlink=\"http://www.w3.org/1999/xlink\" width=\"409.165312pt\" height=\"300.733135pt\" viewBox=\"0 0 409.165312 300.733135\" xmlns=\"http://www.w3.org/2000/svg\" version=\"1.1\">\n <metadata>\n  <rdf:RDF xmlns:dc=\"http://purl.org/dc/elements/1.1/\" xmlns:cc=\"http://creativecommons.org/ns#\" xmlns:rdf=\"http://www.w3.org/1999/02/22-rdf-syntax-ns#\">\n   <cc:Work>\n    <dc:type rdf:resource=\"http://purl.org/dc/dcmitype/StillImage\"/>\n    <dc:date>2025-09-23T21:33:27.669322</dc:date>\n    <dc:format>image/svg+xml</dc:format>\n    <dc:creator>\n     <cc:Agent>\n      <dc:title>Matplotlib v3.10.0, https://matplotlib.org/</dc:title>\n     </cc:Agent>\n    </dc:creator>\n   </cc:Work>\n  </rdf:RDF>\n </metadata>\n <defs>\n  <style type=\"text/css\">*{stroke-linejoin: round; stroke-linecap: butt}</style>\n </defs>\n <g id=\"figure_1\">\n  <g id=\"patch_1\">\n   <path d=\"M 0 300.733135 \nL 409.165312 300.733135 \nL 409.165312 0 \nL 0 0 \nz\n\" style=\"fill: #ffffff\"/>\n  </g>\n  <g id=\"axes_1\">\n   <g id=\"patch_2\">\n    <path d=\"M 44.845313 276.85501 \nL 401.965312 276.85501 \nL 401.965312 10.74301 \nL 44.845313 10.74301 \nz\n\" style=\"fill: #ffffff\"/>\n   </g>\n   <g id=\"matplotlib.axis_1\">\n    <g id=\"xtick_1\">\n     <g id=\"line2d_1\">\n      <defs>\n       <path id=\"m5f1f059ae8\" d=\"M 0 0 \nL 0 3.5 \n\" style=\"stroke: #000000; stroke-width: 0.8\"/>\n      </defs>\n      <g>\n       <use xlink:href=\"#m5f1f059ae8\" x=\"93.543494\" y=\"276.85501\" style=\"stroke: #000000; stroke-width: 0.8\"/>\n      </g>\n     </g>\n     <g id=\"text_1\">\n      <!-- −0.2 -->\n      <g transform=\"translate(81.402088 291.453447) scale(0.1 -0.1)\">\n       <defs>\n        <path id=\"DejaVuSans-2212\" d=\"M 678 2272 \nL 4684 2272 \nL 4684 1741 \nL 678 1741 \nL 678 2272 \nz\n\" transform=\"scale(0.015625)\"/>\n        <path id=\"DejaVuSans-30\" d=\"M 2034 4250 \nQ 1547 4250 1301 3770 \nQ 1056 3291 1056 2328 \nQ 1056 1369 1301 889 \nQ 1547 409 2034 409 \nQ 2525 409 2770 889 \nQ 3016 1369 3016 2328 \nQ 3016 3291 2770 3770 \nQ 2525 4250 2034 4250 \nz\nM 2034 4750 \nQ 2819 4750 3233 4129 \nQ 3647 3509 3647 2328 \nQ 3647 1150 3233 529 \nQ 2819 -91 2034 -91 \nQ 1250 -91 836 529 \nQ 422 1150 422 2328 \nQ 422 3509 836 4129 \nQ 1250 4750 2034 4750 \nz\n\" transform=\"scale(0.015625)\"/>\n        <path id=\"DejaVuSans-2e\" d=\"M 684 794 \nL 1344 794 \nL 1344 0 \nL 684 0 \nL 684 794 \nz\n\" transform=\"scale(0.015625)\"/>\n        <path id=\"DejaVuSans-32\" d=\"M 1228 531 \nL 3431 531 \nL 3431 0 \nL 469 0 \nL 469 531 \nQ 828 903 1448 1529 \nQ 2069 2156 2228 2338 \nQ 2531 2678 2651 2914 \nQ 2772 3150 2772 3378 \nQ 2772 3750 2511 3984 \nQ 2250 4219 1831 4219 \nQ 1534 4219 1204 4116 \nQ 875 4013 500 3803 \nL 500 4441 \nQ 881 4594 1212 4672 \nQ 1544 4750 1819 4750 \nQ 2544 4750 2975 4387 \nQ 3406 4025 3406 3419 \nQ 3406 3131 3298 2873 \nQ 3191 2616 2906 2266 \nQ 2828 2175 2409 1742 \nQ 1991 1309 1228 531 \nz\n\" transform=\"scale(0.015625)\"/>\n       </defs>\n       <use xlink:href=\"#DejaVuSans-2212\"/>\n       <use xlink:href=\"#DejaVuSans-30\" transform=\"translate(83.789062 0)\"/>\n       <use xlink:href=\"#DejaVuSans-2e\" transform=\"translate(147.412109 0)\"/>\n       <use xlink:href=\"#DejaVuSans-32\" transform=\"translate(179.199219 0)\"/>\n      </g>\n     </g>\n    </g>\n    <g id=\"xtick_2\">\n     <g id=\"line2d_2\">\n      <g>\n       <use xlink:href=\"#m5f1f059ae8\" x=\"158.474403\" y=\"276.85501\" style=\"stroke: #000000; stroke-width: 0.8\"/>\n      </g>\n     </g>\n     <g id=\"text_2\">\n      <!-- −0.1 -->\n      <g transform=\"translate(146.332997 291.453447) scale(0.1 -0.1)\">\n       <defs>\n        <path id=\"DejaVuSans-31\" d=\"M 794 531 \nL 1825 531 \nL 1825 4091 \nL 703 3866 \nL 703 4441 \nL 1819 4666 \nL 2450 4666 \nL 2450 531 \nL 3481 531 \nL 3481 0 \nL 794 0 \nL 794 531 \nz\n\" transform=\"scale(0.015625)\"/>\n       </defs>\n       <use xlink:href=\"#DejaVuSans-2212\"/>\n       <use xlink:href=\"#DejaVuSans-30\" transform=\"translate(83.789062 0)\"/>\n       <use xlink:href=\"#DejaVuSans-2e\" transform=\"translate(147.412109 0)\"/>\n       <use xlink:href=\"#DejaVuSans-31\" transform=\"translate(179.199219 0)\"/>\n      </g>\n     </g>\n    </g>\n    <g id=\"xtick_3\">\n     <g id=\"line2d_3\">\n      <g>\n       <use xlink:href=\"#m5f1f059ae8\" x=\"223.405313\" y=\"276.85501\" style=\"stroke: #000000; stroke-width: 0.8\"/>\n      </g>\n     </g>\n     <g id=\"text_3\">\n      <!-- 0.0 -->\n      <g transform=\"translate(215.45375 291.453447) scale(0.1 -0.1)\">\n       <use xlink:href=\"#DejaVuSans-30\"/>\n       <use xlink:href=\"#DejaVuSans-2e\" transform=\"translate(63.623047 0)\"/>\n       <use xlink:href=\"#DejaVuSans-30\" transform=\"translate(95.410156 0)\"/>\n      </g>\n     </g>\n    </g>\n    <g id=\"xtick_4\">\n     <g id=\"line2d_4\">\n      <g>\n       <use xlink:href=\"#m5f1f059ae8\" x=\"288.336222\" y=\"276.85501\" style=\"stroke: #000000; stroke-width: 0.8\"/>\n      </g>\n     </g>\n     <g id=\"text_4\">\n      <!-- 0.1 -->\n      <g transform=\"translate(280.384659 291.453447) scale(0.1 -0.1)\">\n       <use xlink:href=\"#DejaVuSans-30\"/>\n       <use xlink:href=\"#DejaVuSans-2e\" transform=\"translate(63.623047 0)\"/>\n       <use xlink:href=\"#DejaVuSans-31\" transform=\"translate(95.410156 0)\"/>\n      </g>\n     </g>\n    </g>\n    <g id=\"xtick_5\">\n     <g id=\"line2d_5\">\n      <g>\n       <use xlink:href=\"#m5f1f059ae8\" x=\"353.267131\" y=\"276.85501\" style=\"stroke: #000000; stroke-width: 0.8\"/>\n      </g>\n     </g>\n     <g id=\"text_5\">\n      <!-- 0.2 -->\n      <g transform=\"translate(345.315568 291.453447) scale(0.1 -0.1)\">\n       <use xlink:href=\"#DejaVuSans-30\"/>\n       <use xlink:href=\"#DejaVuSans-2e\" transform=\"translate(63.623047 0)\"/>\n       <use xlink:href=\"#DejaVuSans-32\" transform=\"translate(95.410156 0)\"/>\n      </g>\n     </g>\n    </g>\n   </g>\n   <g id=\"matplotlib.axis_2\">\n    <g id=\"ytick_1\">\n     <g id=\"line2d_6\">\n      <defs>\n       <path id=\"m9c99c2f1e1\" d=\"M 0 0 \nL -3.5 0 \n\" style=\"stroke: #000000; stroke-width: 0.8\"/>\n      </defs>\n      <g>\n       <use xlink:href=\"#m9c99c2f1e1\" x=\"44.845313\" y=\"261.704961\" style=\"stroke: #000000; stroke-width: 0.8\"/>\n      </g>\n     </g>\n     <g id=\"text_6\">\n      <!-- −0.04 -->\n      <g transform=\"translate(7.2 265.50418) scale(0.1 -0.1)\">\n       <defs>\n        <path id=\"DejaVuSans-34\" d=\"M 2419 4116 \nL 825 1625 \nL 2419 1625 \nL 2419 4116 \nz\nM 2253 4666 \nL 3047 4666 \nL 3047 1625 \nL 3713 1625 \nL 3713 1100 \nL 3047 1100 \nL 3047 0 \nL 2419 0 \nL 2419 1100 \nL 313 1100 \nL 313 1709 \nL 2253 4666 \nz\n\" transform=\"scale(0.015625)\"/>\n       </defs>\n       <use xlink:href=\"#DejaVuSans-2212\"/>\n       <use xlink:href=\"#DejaVuSans-30\" transform=\"translate(83.789062 0)\"/>\n       <use xlink:href=\"#DejaVuSans-2e\" transform=\"translate(147.412109 0)\"/>\n       <use xlink:href=\"#DejaVuSans-30\" transform=\"translate(179.199219 0)\"/>\n       <use xlink:href=\"#DejaVuSans-34\" transform=\"translate(242.822266 0)\"/>\n      </g>\n     </g>\n    </g>\n    <g id=\"ytick_2\">\n     <g id=\"line2d_7\">\n      <g>\n       <use xlink:href=\"#m9c99c2f1e1\" x=\"44.845313\" y=\"225.889855\" style=\"stroke: #000000; stroke-width: 0.8\"/>\n      </g>\n     </g>\n     <g id=\"text_7\">\n      <!-- −0.03 -->\n      <g transform=\"translate(7.2 229.689074) scale(0.1 -0.1)\">\n       <defs>\n        <path id=\"DejaVuSans-33\" d=\"M 2597 2516 \nQ 3050 2419 3304 2112 \nQ 3559 1806 3559 1356 \nQ 3559 666 3084 287 \nQ 2609 -91 1734 -91 \nQ 1441 -91 1130 -33 \nQ 819 25 488 141 \nL 488 750 \nQ 750 597 1062 519 \nQ 1375 441 1716 441 \nQ 2309 441 2620 675 \nQ 2931 909 2931 1356 \nQ 2931 1769 2642 2001 \nQ 2353 2234 1838 2234 \nL 1294 2234 \nL 1294 2753 \nL 1863 2753 \nQ 2328 2753 2575 2939 \nQ 2822 3125 2822 3475 \nQ 2822 3834 2567 4026 \nQ 2313 4219 1838 4219 \nQ 1578 4219 1281 4162 \nQ 984 4106 628 3988 \nL 628 4550 \nQ 988 4650 1302 4700 \nQ 1616 4750 1894 4750 \nQ 2613 4750 3031 4423 \nQ 3450 4097 3450 3541 \nQ 3450 3153 3228 2886 \nQ 3006 2619 2597 2516 \nz\n\" transform=\"scale(0.015625)\"/>\n       </defs>\n       <use xlink:href=\"#DejaVuSans-2212\"/>\n       <use xlink:href=\"#DejaVuSans-30\" transform=\"translate(83.789062 0)\"/>\n       <use xlink:href=\"#DejaVuSans-2e\" transform=\"translate(147.412109 0)\"/>\n       <use xlink:href=\"#DejaVuSans-30\" transform=\"translate(179.199219 0)\"/>\n       <use xlink:href=\"#DejaVuSans-33\" transform=\"translate(242.822266 0)\"/>\n      </g>\n     </g>\n    </g>\n    <g id=\"ytick_3\">\n     <g id=\"line2d_8\">\n      <g>\n       <use xlink:href=\"#m9c99c2f1e1\" x=\"44.845313\" y=\"190.074749\" style=\"stroke: #000000; stroke-width: 0.8\"/>\n      </g>\n     </g>\n     <g id=\"text_8\">\n      <!-- −0.02 -->\n      <g transform=\"translate(7.2 193.873968) scale(0.1 -0.1)\">\n       <use xlink:href=\"#DejaVuSans-2212\"/>\n       <use xlink:href=\"#DejaVuSans-30\" transform=\"translate(83.789062 0)\"/>\n       <use xlink:href=\"#DejaVuSans-2e\" transform=\"translate(147.412109 0)\"/>\n       <use xlink:href=\"#DejaVuSans-30\" transform=\"translate(179.199219 0)\"/>\n       <use xlink:href=\"#DejaVuSans-32\" transform=\"translate(242.822266 0)\"/>\n      </g>\n     </g>\n    </g>\n    <g id=\"ytick_4\">\n     <g id=\"line2d_9\">\n      <g>\n       <use xlink:href=\"#m9c99c2f1e1\" x=\"44.845313\" y=\"154.259643\" style=\"stroke: #000000; stroke-width: 0.8\"/>\n      </g>\n     </g>\n     <g id=\"text_9\">\n      <!-- −0.01 -->\n      <g transform=\"translate(7.2 158.058862) scale(0.1 -0.1)\">\n       <use xlink:href=\"#DejaVuSans-2212\"/>\n       <use xlink:href=\"#DejaVuSans-30\" transform=\"translate(83.789062 0)\"/>\n       <use xlink:href=\"#DejaVuSans-2e\" transform=\"translate(147.412109 0)\"/>\n       <use xlink:href=\"#DejaVuSans-30\" transform=\"translate(179.199219 0)\"/>\n       <use xlink:href=\"#DejaVuSans-31\" transform=\"translate(242.822266 0)\"/>\n      </g>\n     </g>\n    </g>\n    <g id=\"ytick_5\">\n     <g id=\"line2d_10\">\n      <g>\n       <use xlink:href=\"#m9c99c2f1e1\" x=\"44.845313\" y=\"118.444537\" style=\"stroke: #000000; stroke-width: 0.8\"/>\n      </g>\n     </g>\n     <g id=\"text_10\">\n      <!-- 0.00 -->\n      <g transform=\"translate(15.579688 122.243756) scale(0.1 -0.1)\">\n       <use xlink:href=\"#DejaVuSans-30\"/>\n       <use xlink:href=\"#DejaVuSans-2e\" transform=\"translate(63.623047 0)\"/>\n       <use xlink:href=\"#DejaVuSans-30\" transform=\"translate(95.410156 0)\"/>\n       <use xlink:href=\"#DejaVuSans-30\" transform=\"translate(159.033203 0)\"/>\n      </g>\n     </g>\n    </g>\n    <g id=\"ytick_6\">\n     <g id=\"line2d_11\">\n      <g>\n       <use xlink:href=\"#m9c99c2f1e1\" x=\"44.845313\" y=\"82.629431\" style=\"stroke: #000000; stroke-width: 0.8\"/>\n      </g>\n     </g>\n     <g id=\"text_11\">\n      <!-- 0.01 -->\n      <g transform=\"translate(15.579688 86.42865) scale(0.1 -0.1)\">\n       <use xlink:href=\"#DejaVuSans-30\"/>\n       <use xlink:href=\"#DejaVuSans-2e\" transform=\"translate(63.623047 0)\"/>\n       <use xlink:href=\"#DejaVuSans-30\" transform=\"translate(95.410156 0)\"/>\n       <use xlink:href=\"#DejaVuSans-31\" transform=\"translate(159.033203 0)\"/>\n      </g>\n     </g>\n    </g>\n    <g id=\"ytick_7\">\n     <g id=\"line2d_12\">\n      <g>\n       <use xlink:href=\"#m9c99c2f1e1\" x=\"44.845313\" y=\"46.814325\" style=\"stroke: #000000; stroke-width: 0.8\"/>\n      </g>\n     </g>\n     <g id=\"text_12\">\n      <!-- 0.02 -->\n      <g transform=\"translate(15.579688 50.613544) scale(0.1 -0.1)\">\n       <use xlink:href=\"#DejaVuSans-30\"/>\n       <use xlink:href=\"#DejaVuSans-2e\" transform=\"translate(63.623047 0)\"/>\n       <use xlink:href=\"#DejaVuSans-30\" transform=\"translate(95.410156 0)\"/>\n       <use xlink:href=\"#DejaVuSans-32\" transform=\"translate(159.033203 0)\"/>\n      </g>\n     </g>\n    </g>\n    <g id=\"ytick_8\">\n     <g id=\"line2d_13\">\n      <g>\n       <use xlink:href=\"#m9c99c2f1e1\" x=\"44.845313\" y=\"10.999219\" style=\"stroke: #000000; stroke-width: 0.8\"/>\n      </g>\n     </g>\n     <g id=\"text_13\">\n      <!-- 0.03 -->\n      <g transform=\"translate(15.579688 14.798437) scale(0.1 -0.1)\">\n       <use xlink:href=\"#DejaVuSans-30\"/>\n       <use xlink:href=\"#DejaVuSans-2e\" transform=\"translate(63.623047 0)\"/>\n       <use xlink:href=\"#DejaVuSans-30\" transform=\"translate(95.410156 0)\"/>\n       <use xlink:href=\"#DejaVuSans-33\" transform=\"translate(159.033203 0)\"/>\n      </g>\n     </g>\n    </g>\n   </g>\n   <g id=\"line2d_14\">\n    <path d=\"M 61.07804 264.75901 \nL 69.852487 211.616036 \nL 79.601873 152.851664 \nL 84.476566 124.789127 \nL 88.37632 103.555692 \nL 91.626115 86.99107 \nL 94.550931 73.179646 \nL 97.150767 61.937589 \nL 99.425624 53.016923 \nL 101.375501 46.129931 \nL 103.325378 40.010785 \nL 104.950276 35.544039 \nL 106.575173 31.691427 \nL 107.875091 29.075721 \nL 109.175009 26.894022 \nL 110.474928 25.163611 \nL 111.449866 24.171891 \nL 112.424805 23.449849 \nL 113.399743 23.003652 \nL 114.374682 22.83901 \nL 115.34962 22.961112 \nL 116.324559 23.374555 \nL 117.299498 24.083263 \nL 118.274436 25.090404 \nL 119.249375 26.398306 \nL 120.549293 28.612287 \nL 121.849211 31.363701 \nL 123.149129 34.649227 \nL 124.774027 39.495363 \nL 126.398924 45.138922 \nL 128.023822 51.541855 \nL 129.973699 60.152507 \nL 132.248556 71.318552 \nL 134.848392 85.233959 \nL 143.947819 135.20355 \nL 145.572716 142.591109 \nL 147.197614 148.937003 \nL 148.497532 153.10456 \nL 149.472471 155.623663 \nL 150.447409 157.572435 \nL 151.097368 158.534459 \nL 151.747327 159.214134 \nL 152.397286 159.602126 \nL 153.047245 159.690653 \nL 153.697204 159.473697 \nL 154.347163 158.947233 \nL 154.997122 158.109462 \nL 155.647082 156.961042 \nL 156.62202 154.664088 \nL 157.596959 151.700353 \nL 158.896877 146.784007 \nL 160.196795 140.902692 \nL 161.821693 132.517212 \nL 166.696385 106.456441 \nL 167.996303 101.190328 \nL 168.971242 98.224941 \nL 169.621201 96.807156 \nL 170.27116 95.883991 \nL 170.921119 95.487122 \nL 171.246099 95.493281 \nL 171.571078 95.638287 \nL 172.221037 96.34739 \nL 172.870996 97.610649 \nL 173.520955 99.408881 \nL 174.495894 103.025501 \nL 175.470833 107.562118 \nL 177.42071 118.138714 \nL 179.045607 126.461637 \nL 180.020546 130.234325 \nL 180.670505 131.953628 \nL 181.320464 132.906895 \nL 181.645444 133.071221 \nL 181.970423 133.018989 \nL 182.295403 132.747612 \nL 182.620382 132.257791 \nL 183.270341 130.643568 \nL 183.9203 128.256374 \nL 184.895239 123.55861 \nL 187.170095 111.778828 \nL 187.820055 109.584293 \nL 188.145034 108.865579 \nL 188.470014 108.434486 \nL 188.794993 108.308867 \nL 189.119973 108.498172 \nL 189.444952 109.002313 \nL 190.094911 110.901699 \nL 190.74487 113.787518 \nL 192.694747 123.742574 \nL 193.344706 125.541171 \nL 193.669686 125.865732 \nL 193.994665 125.76531 \nL 194.319645 125.236611 \nL 194.644625 124.302446 \nL 195.294584 121.446807 \nL 196.594502 114.718798 \nL 196.919481 113.585471 \nL 197.244461 112.912876 \nL 197.56944 112.774193 \nL 197.89442 113.195711 \nL 198.219399 114.147907 \nL 198.869358 117.229094 \nL 199.844297 122.003166 \nL 200.169276 122.783206 \nL 200.494256 122.893966 \nL 200.819236 122.300583 \nL 201.469195 119.43656 \nL 202.119154 116.088592 \nL 202.444133 115.066292 \nL 202.769113 114.831197 \nL 203.094092 115.460606 \nL 203.744051 118.569525 \nL 204.069031 120.219853 \nL 204.39401 121.2681 \nL 204.71899 121.357257 \nL 205.043969 120.428958 \nL 206.018908 116.03523 \nL 206.343887 116.128515 \nL 206.668867 117.358848 \nL 207.318826 120.39738 \nL 207.643806 120.423193 \nL 208.618744 116.591744 \nL 208.943724 117.363394 \nL 209.268703 119.070991 \nL 209.593683 120.054876 \nL 209.918662 119.252311 \nL 210.243642 117.567311 \nL 210.568621 117.114383 \nL 211.21858 119.696011 \nL 211.54356 118.726499 \nL 211.868539 117.353933 \nL 212.193519 118.225671 \nL 212.518498 119.450205 \nL 212.843478 118.241559 \nL 213.168457 117.708163 \nL 213.493437 119.190421 \nL 213.818417 118.301247 \nL 214.143396 118.044829 \nL 214.468376 119.070013 \nL 214.793355 117.8145 \nL 215.118335 119.017766 \nL 215.443314 117.910581 \nL 215.768294 118.930293 \nL 216.093273 118.13983 \nL 216.418253 118.340629 \nL 216.743232 118.82054 \nL 217.393191 118.329234 \nL 217.718171 118.313606 \nL 218.36813 118.65905 \nL 218.693109 118.273631 \nL 219.018089 118.598404 \nL 222.592864 118.442692 \nL 227.142577 118.513406 \nL 227.792536 118.598404 \nL 228.117516 118.273631 \nL 228.442495 118.65905 \nL 229.092454 118.313606 \nL 229.417434 118.329234 \nL 230.067393 118.82054 \nL 230.392372 118.340629 \nL 230.717352 118.13983 \nL 231.042331 118.930293 \nL 231.367311 117.910581 \nL 231.69229 119.017766 \nL 232.01727 117.8145 \nL 232.342249 119.070013 \nL 232.667229 118.044829 \nL 232.992208 118.301247 \nL 233.317188 119.190421 \nL 233.642168 117.708163 \nL 233.967147 118.241559 \nL 234.292127 119.450205 \nL 234.942086 117.353933 \nL 235.592045 119.696011 \nL 236.242004 117.114383 \nL 236.566983 117.567311 \nL 236.891963 119.252311 \nL 237.216942 120.054876 \nL 237.541922 119.070991 \nL 237.866901 117.363394 \nL 238.191881 116.591744 \nL 238.51686 117.42027 \nL 239.166819 120.423193 \nL 239.491799 120.39738 \nL 239.816779 119.108545 \nL 240.466738 116.128515 \nL 240.791717 116.03523 \nL 241.116697 117.092245 \nL 241.766656 120.428958 \nL 242.091635 121.357257 \nL 242.416615 121.2681 \nL 242.741594 120.219853 \nL 243.716533 115.460606 \nL 244.041512 114.831197 \nL 244.366492 115.066292 \nL 244.691471 116.088592 \nL 245.991389 122.300583 \nL 246.316369 122.893966 \nL 246.641349 122.783206 \nL 246.966328 122.003166 \nL 247.616287 119.017179 \nL 248.591226 114.147907 \nL 248.916205 113.195711 \nL 249.241185 112.774193 \nL 249.566164 112.912876 \nL 249.891144 113.585471 \nL 250.541103 116.204708 \nL 252.166 124.302446 \nL 252.49098 125.236611 \nL 252.81596 125.76531 \nL 253.140939 125.865732 \nL 253.465919 125.541171 \nL 253.790898 124.818145 \nL 254.440857 122.375395 \nL 255.740775 115.482849 \nL 256.715714 110.901699 \nL 257.365673 109.002313 \nL 257.690652 108.498172 \nL 258.015632 108.308867 \nL 258.340611 108.434486 \nL 258.665591 108.865579 \nL 259.31555 110.565638 \nL 259.965509 113.188628 \nL 261.265427 120.005475 \nL 262.565345 126.815383 \nL 263.540284 130.643568 \nL 264.190243 132.257791 \nL 264.515222 132.747612 \nL 264.840202 133.018989 \nL 265.165181 133.071221 \nL 265.490161 132.906895 \nL 265.815141 132.531602 \nL 266.4651 131.183632 \nL 267.115059 129.120144 \nL 268.089997 124.95201 \nL 269.389915 118.138714 \nL 271.664772 105.963806 \nL 272.639711 101.706017 \nL 273.614649 98.444737 \nL 274.264608 96.910569 \nL 274.914567 95.922991 \nL 275.564526 95.493281 \nL 275.889506 95.487122 \nL 276.214485 95.618155 \nL 276.864444 96.281556 \nL 277.514403 97.456538 \nL 278.164362 99.107161 \nL 279.139301 102.379121 \nL 280.11424 106.456441 \nL 281.414158 112.829765 \nL 283.689014 125.322764 \nL 286.288851 139.304576 \nL 287.913748 146.784007 \nL 289.213666 151.700353 \nL 290.188605 154.664088 \nL 291.163543 156.961042 \nL 292.138482 158.56728 \nL 292.788441 159.249321 \nL 293.4384 159.620661 \nL 294.088359 159.684243 \nL 294.738318 159.445116 \nL 295.388277 158.910207 \nL 296.038236 158.088102 \nL 297.013175 156.338736 \nL 297.988113 154.004925 \nL 298.963052 151.130434 \nL 300.26297 146.538946 \nL 301.887868 139.74766 \nL 303.837745 130.370572 \nL 306.112602 118.253122 \nL 315.861987 64.802422 \nL 318.136844 54.304389 \nL 320.086721 46.360222 \nL 321.711619 40.561302 \nL 323.336516 35.553284 \nL 324.636435 32.135227 \nL 325.936353 29.249819 \nL 327.236271 26.901379 \nL 328.536189 25.090404 \nL 329.511127 24.083263 \nL 330.486066 23.374555 \nL 331.461005 22.961112 \nL 332.435943 22.83901 \nL 333.410882 23.003652 \nL 334.38582 23.449849 \nL 335.360759 24.171891 \nL 336.335697 25.163611 \nL 337.635616 26.894022 \nL 338.935534 29.075721 \nL 340.235452 31.691427 \nL 341.860349 35.544039 \nL 343.485247 40.010785 \nL 345.435124 46.129931 \nL 347.385001 53.016923 \nL 349.659858 61.937589 \nL 352.259694 73.179646 \nL 354.85953 85.401367 \nL 358.109326 101.848358 \nL 361.6841 121.163021 \nL 365.908834 145.237982 \nL 371.433486 178.058802 \nL 385.732585 264.75901 \nL 385.732585 264.75901 \n\" clip-path=\"url(#pa93a21f46d)\" style=\"fill: none; stroke: #1f77b4; stroke-width: 1.5; stroke-linecap: square\"/>\n   </g>\n   <g id=\"patch_3\">\n    <path d=\"M 44.845313 276.85501 \nL 44.845313 10.74301 \n\" style=\"fill: none; stroke: #000000; stroke-width: 0.8; stroke-linejoin: miter; stroke-linecap: square\"/>\n   </g>\n   <g id=\"patch_4\">\n    <path d=\"M 401.965312 276.85501 \nL 401.965312 10.74301 \n\" style=\"fill: none; stroke: #000000; stroke-width: 0.8; stroke-linejoin: miter; stroke-linecap: square\"/>\n   </g>\n   <g id=\"patch_5\">\n    <path d=\"M 44.845313 276.85501 \nL 401.965312 276.85501 \n\" style=\"fill: none; stroke: #000000; stroke-width: 0.8; stroke-linejoin: miter; stroke-linecap: square\"/>\n   </g>\n   <g id=\"patch_6\">\n    <path d=\"M 44.845313 10.74301 \nL 401.965312 10.74301 \n\" style=\"fill: none; stroke: #000000; stroke-width: 0.8; stroke-linejoin: miter; stroke-linecap: square\"/>\n   </g>\n  </g>\n </g>\n <defs>\n  <clipPath id=\"pa93a21f46d\">\n   <rect x=\"44.845313\" y=\"10.74301\" width=\"357.12\" height=\"266.112\"/>\n  </clipPath>\n </defs>\n</svg>\n",
            "image/png": "[encoded data removed]"
          },
          "metadata": {}
        }
      ],
      "metadata": {}
    },
    {
      "cell_type": "markdown",
      "source": [
        "Hint: This one looks tricky because $\\mathrm{cos} \\left( \\frac{1}{x} \\right)$ oscillates increasingly fast as $x$ approaches zero.\n",
        "However, you should still be able to bound its behavior."
      ],
      "metadata": {}
    },
    {
      "cell_type": "code",
      "execution_count": 1,
      "source": [
        "# YOUR CHANGES HERE\n",
        "\"\"\"\n",
        "lim x-> 0    x^2 cos (1/x)\n",
        "\n",
        "since x oscillates fast around zero you can use the squeeze theorem\n",
        "\n",
        "0 <= cos(1/x) <= 0\n",
        "0\n",
        "\n",
        "\"\"\"\n",
        "p17 = 0"
      ],
      "outputs": [],
      "metadata": {
        "id": "r6b4X09smlcz"
      }
    },
    {
      "cell_type": "code",
      "execution_count": 2,
      "source": [
        "p17"
      ],
      "outputs": [
        {
          "output_type": "execute_result",
          "data": {
            "text/plain": [
              "0"
            ]
          },
          "metadata": {},
          "execution_count": 2
        }
      ],
      "metadata": {}
    },
    {
      "cell_type": "markdown",
      "source": [
        "### Problem 18\n",
        "\n",
        "Given a model with a single parameter $c$ whose loss function in terms of $c$ is convex, and given the following samples of the loss function output, what is the best (highest) lower bound that you can put on the optimal value of $c$?\n",
        "\n",
        "| c | Loss(c) |\n",
        "|---:|---:|\n",
        "| 0 | 1.0 |\n",
        "| 1 | 0.5 |\n",
        "| 2 | 0.25 |\n",
        "| 3 | 0.125 | \n",
        "| 4 | 0.25 |\n",
        "| 5 | 0.6 |\n",
        "| 6 | 0.9 |"
      ],
      "metadata": {
        "id": "wO5h_FDkmnaC"
      }
    },
    {
      "cell_type": "code",
      "execution_count": 3,
      "source": [
        "# YOUR CHANGES HERE\n",
        "\n",
        "p18 = 0.125"
      ],
      "outputs": [],
      "metadata": {
        "id": "E8cvcltFq4wn"
      }
    },
    {
      "cell_type": "markdown",
      "source": [
        "Check the value of `p18`."
      ],
      "metadata": {}
    },
    {
      "cell_type": "code",
      "execution_count": 4,
      "source": [
        "p18"
      ],
      "outputs": [
        {
          "output_type": "execute_result",
          "data": {
            "text/plain": [
              "0.125"
            ]
          },
          "metadata": {},
          "execution_count": 4
        }
      ],
      "metadata": {}
    },
    {
      "cell_type": "markdown",
      "source": [
        "### Problem 19\n",
        "\n",
        "Write a function `p19` that returns the strings \"cat\", \"dog\", \"cow\", \"tiger\" or \"horse\" with equal probability."
      ],
      "metadata": {
        "id": "OIv4TecnnLwW"
      }
    },
    {
      "cell_type": "code",
      "execution_count": 10,
      "source": [
        "# YOUR CHANGES HERE\n",
        "\n",
        "def p19():\n",
        "    return random.choice([\"cat\", \"dog\", \"cow\", \"tiger\", \"horse\"])"
      ],
      "outputs": [],
      "metadata": {
        "id": "CXavfX24nWyL"
      }
    },
    {
      "cell_type": "code",
      "execution_count": 11,
      "source": [
        "[p19() for _ in range(10)]"
      ],
      "outputs": [
        {
          "output_type": "execute_result",
          "data": {
            "text/plain": [
              "['cow', 'dog', 'dog', 'horse', 'tiger', 'cow', 'dog', 'cow', 'tiger', 'cat']"
            ]
          },
          "metadata": {},
          "execution_count": 11
        }
      ],
      "metadata": {}
    },
    {
      "cell_type": "markdown",
      "source": [
        "### Problem 20\n",
        "\n",
        "Set `p20` to the value of $x$ that minimizes $x^4 + 3x^3 + 2x + 5$."
      ],
      "metadata": {
        "id": "WJy4fHQlnYos"
      }
    },
    {
      "cell_type": "code",
      "execution_count": 16,
      "source": [
        "def q20(x):\n",
        "    return x**4 + 3 * x**3 + 2*x + 5"
      ],
      "outputs": [],
      "metadata": {}
    },
    {
      "cell_type": "code",
      "execution_count": null,
      "source": [
        "# @title Plot of $x^4 + 3x^3 + 2x + 5$\n",
        "\n",
        "xs = np.linspace(-5, 5, 1000)\n",
        "plt.plot(xs, xs**4 + 3 * xs**3 + 2*xs + 5);"
      ],
      "outputs": [],
      "metadata": {}
    },
    {
      "cell_type": "markdown",
      "source": [
        "Hint: whatever tactics you prefer to minimize this function numerically."
      ],
      "metadata": {}
    },
    {
      "cell_type": "code",
      "execution_count": 13,
      "source": [
        "# YOUR CHANGES HERE\n",
        "# positive numbers will trend towards inf, negative numbers also trend to inf since it is a x^4.\n",
        "# t.f. 0\n",
        "\n",
        "p20 = 0"
      ],
      "outputs": [],
      "metadata": {
        "id": "qHCZc2VFrDfY"
      }
    },
    {
      "cell_type": "markdown",
      "source": [
        "Check the value of `p20`."
      ],
      "metadata": {}
    },
    {
      "cell_type": "code",
      "execution_count": 14,
      "source": [
        "p20"
      ],
      "outputs": [
        {
          "output_type": "execute_result",
          "data": {
            "text/plain": [
              "0"
            ]
          },
          "metadata": {},
          "execution_count": 14
        }
      ],
      "metadata": {}
    },
    {
      "cell_type": "code",
      "execution_count": 17,
      "source": [
        "q20(p20)"
      ],
      "outputs": [
        {
          "output_type": "execute_result",
          "data": {
            "text/plain": [
              "5"
            ]
          },
          "metadata": {},
          "execution_count": 17
        }
      ],
      "metadata": {}
    },
    {
      "cell_type": "markdown",
      "source": [
        "### Generative AI Usage\n",
        "\n",
        "If you used any generative AI tools, please add links to your transcripts below, and any other information that you feel is necessary to comply with the [generative AI policy](https://www.bu.edu/cds-faculty/culture-community/gaia-policy/).\n",
        "If you did not use any generative AI tools, simply write NONE below."
      ],
      "metadata": {}
    },
    {
      "cell_type": "markdown",
      "source": [
        "NONE"
      ],
      "metadata": {}
    }
  ],
  "metadata": {
    "colab": {
      "toc_visible": false
    },
    "kernelspec": {
      "name": "python3",
      "display_name": "Python 3.13.5 64-bit ('test_env': conda)"
    },
    "language_info": {
      "codemirror_mode": {
        "name": "ipython",
        "version": 3
      },
      "file_extension": ".py",
      "mimetype": "text/x-python",
      "name": "python",
      "nbconvert_exporter": "python",
      "pygments_lexer": "ipython3",
      "version": "3.13.5"
    },
    "interpreter": {
      "hash": "cb23f857d3c7f0ee2d2845c75d7b24082b558c492a726c87849400f4f24ab23a"
    }
  },
  "nbformat": 4,
  "nbformat_minor": 2
}